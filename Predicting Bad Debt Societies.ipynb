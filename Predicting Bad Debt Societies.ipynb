{
 "cells": [
  {
   "cell_type": "code",
   "execution_count": 1,
   "metadata": {},
   "outputs": [],
   "source": [
    "import pandas as pd\n",
    "import numpy as np\n",
    "import matplotlib.pyplot as plt\n",
    "import seaborn as sns\n",
    "pd.set_option(\"display.max_columns\", None) # display all columns\n",
    "pd.set_option(\"display.max_rows\", 200)\n",
    "from sklearn.model_selection import train_test_split\n",
    "from sklearn.metrics import average_precision_score\n",
    "from sklearn.linear_model import LogisticRegression\n",
    "\n",
    "# Libtune to tune model, get different metric scores\n",
    "from sklearn import metrics\n",
    "from sklearn.metrics import confusion_matrix, classification_report, accuracy_score, precision_score, recall_score, f1_score, roc_auc_score\n"
   ]
  },
  {
   "cell_type": "code",
   "execution_count": 2,
   "metadata": {},
   "outputs": [],
   "source": [
    "data=pd.read_csv(\"account_train.csv\")"
   ]
  },
  {
   "cell_type": "code",
   "execution_count": 3,
   "metadata": {},
   "outputs": [
    {
     "data": {
      "text/html": [
       "<div>\n",
       "<style scoped>\n",
       "    .dataframe tbody tr th:only-of-type {\n",
       "        vertical-align: middle;\n",
       "    }\n",
       "\n",
       "    .dataframe tbody tr th {\n",
       "        vertical-align: top;\n",
       "    }\n",
       "\n",
       "    .dataframe thead th {\n",
       "        text-align: right;\n",
       "    }\n",
       "</style>\n",
       "<table border=\"1\" class=\"dataframe\">\n",
       "  <thead>\n",
       "    <tr style=\"text-align: right;\">\n",
       "      <th></th>\n",
       "      <th>AccID</th>\n",
       "      <th>CategoryID</th>\n",
       "      <th>Category</th>\n",
       "      <th>Value</th>\n",
       "      <th>PropertySize</th>\n",
       "      <th>BillingAmt</th>\n",
       "      <th>AverageBillingAmt</th>\n",
       "      <th>CollectedAmt</th>\n",
       "      <th>AverageCollectedAmt</th>\n",
       "      <th>DebtAmt</th>\n",
       "      <th>WriteOffAmt</th>\n",
       "      <th>CollectionRatio</th>\n",
       "      <th>DebtBillingRatio</th>\n",
       "      <th>TotalElectricityBill</th>\n",
       "      <th>HasID</th>\n",
       "      <th>Label</th>\n",
       "    </tr>\n",
       "  </thead>\n",
       "  <tbody>\n",
       "    <tr>\n",
       "      <th>0</th>\n",
       "      <td>c8f5a7fa-4b2b-470f-8ad5-1c367a3c934a</td>\n",
       "      <td>1</td>\n",
       "      <td>Residential</td>\n",
       "      <td>2674700</td>\n",
       "      <td>585</td>\n",
       "      <td>43717</td>\n",
       "      <td>729</td>\n",
       "      <td>43416</td>\n",
       "      <td>4342</td>\n",
       "      <td>0</td>\n",
       "      <td>0</td>\n",
       "      <td>0.99</td>\n",
       "      <td>0.00</td>\n",
       "      <td>0</td>\n",
       "      <td>0</td>\n",
       "      <td>0</td>\n",
       "    </tr>\n",
       "    <tr>\n",
       "      <th>1</th>\n",
       "      <td>95daa45d-3dfd-4c60-aae4-05e78b0de26e</td>\n",
       "      <td>1</td>\n",
       "      <td>Residential</td>\n",
       "      <td>36000</td>\n",
       "      <td>315</td>\n",
       "      <td>378</td>\n",
       "      <td>3</td>\n",
       "      <td>522</td>\n",
       "      <td>522</td>\n",
       "      <td>0</td>\n",
       "      <td>0</td>\n",
       "      <td>1.38</td>\n",
       "      <td>0.00</td>\n",
       "      <td>0</td>\n",
       "      <td>0</td>\n",
       "      <td>0</td>\n",
       "    </tr>\n",
       "    <tr>\n",
       "      <th>2</th>\n",
       "      <td>40536c2d-c0a2-4486-b0aa-60b36dfa290a</td>\n",
       "      <td>1</td>\n",
       "      <td>Residential</td>\n",
       "      <td>700000</td>\n",
       "      <td>528</td>\n",
       "      <td>25150</td>\n",
       "      <td>345</td>\n",
       "      <td>25104</td>\n",
       "      <td>349</td>\n",
       "      <td>0</td>\n",
       "      <td>0</td>\n",
       "      <td>1.00</td>\n",
       "      <td>0.00</td>\n",
       "      <td>10715</td>\n",
       "      <td>1</td>\n",
       "      <td>0</td>\n",
       "    </tr>\n",
       "    <tr>\n",
       "      <th>3</th>\n",
       "      <td>52a2254d-44e5-4dc9-8e08-1b135096172c</td>\n",
       "      <td>5</td>\n",
       "      <td>Municipal</td>\n",
       "      <td>40000</td>\n",
       "      <td>0</td>\n",
       "      <td>4773</td>\n",
       "      <td>133</td>\n",
       "      <td>0</td>\n",
       "      <td>0</td>\n",
       "      <td>7319</td>\n",
       "      <td>0</td>\n",
       "      <td>0.00</td>\n",
       "      <td>1.53</td>\n",
       "      <td>0</td>\n",
       "      <td>1</td>\n",
       "      <td>1</td>\n",
       "    </tr>\n",
       "    <tr>\n",
       "      <th>4</th>\n",
       "      <td>1e0363e4-2029-4b62-a9ec-d909cee000cb</td>\n",
       "      <td>1</td>\n",
       "      <td>Residential</td>\n",
       "      <td>125800</td>\n",
       "      <td>0</td>\n",
       "      <td>-4</td>\n",
       "      <td>0</td>\n",
       "      <td>445</td>\n",
       "      <td>445</td>\n",
       "      <td>0</td>\n",
       "      <td>0</td>\n",
       "      <td>-121.26</td>\n",
       "      <td>0.00</td>\n",
       "      <td>0</td>\n",
       "      <td>0</td>\n",
       "      <td>0</td>\n",
       "    </tr>\n",
       "    <tr>\n",
       "      <th>5</th>\n",
       "      <td>eb80678a-d0e1-48df-9229-fcd9c706874d</td>\n",
       "      <td>2</td>\n",
       "      <td>Business</td>\n",
       "      <td>700000</td>\n",
       "      <td>577</td>\n",
       "      <td>17771</td>\n",
       "      <td>212</td>\n",
       "      <td>17588</td>\n",
       "      <td>1466</td>\n",
       "      <td>0</td>\n",
       "      <td>0</td>\n",
       "      <td>0.99</td>\n",
       "      <td>0.00</td>\n",
       "      <td>0</td>\n",
       "      <td>0</td>\n",
       "      <td>0</td>\n",
       "    </tr>\n",
       "    <tr>\n",
       "      <th>6</th>\n",
       "      <td>5b47579d-a965-415b-8eac-1565dd327839</td>\n",
       "      <td>2</td>\n",
       "      <td>Business</td>\n",
       "      <td>50000</td>\n",
       "      <td>1915</td>\n",
       "      <td>953</td>\n",
       "      <td>73</td>\n",
       "      <td>953</td>\n",
       "      <td>191</td>\n",
       "      <td>0</td>\n",
       "      <td>0</td>\n",
       "      <td>1.00</td>\n",
       "      <td>0.00</td>\n",
       "      <td>0</td>\n",
       "      <td>0</td>\n",
       "      <td>0</td>\n",
       "    </tr>\n",
       "    <tr>\n",
       "      <th>7</th>\n",
       "      <td>f8984e3d-a6bb-48ca-9209-a44dcccf91d4</td>\n",
       "      <td>8</td>\n",
       "      <td>Infrastructure</td>\n",
       "      <td>47000</td>\n",
       "      <td>58720</td>\n",
       "      <td>-1820</td>\n",
       "      <td>-130</td>\n",
       "      <td>0</td>\n",
       "      <td>0</td>\n",
       "      <td>1820</td>\n",
       "      <td>0</td>\n",
       "      <td>0.00</td>\n",
       "      <td>-1.00</td>\n",
       "      <td>0</td>\n",
       "      <td>0</td>\n",
       "      <td>1</td>\n",
       "    </tr>\n",
       "    <tr>\n",
       "      <th>8</th>\n",
       "      <td>80707e33-72d5-49fd-a415-0818a2d44e04</td>\n",
       "      <td>1</td>\n",
       "      <td>Residential</td>\n",
       "      <td>0</td>\n",
       "      <td>1061</td>\n",
       "      <td>29</td>\n",
       "      <td>2</td>\n",
       "      <td>0</td>\n",
       "      <td>0</td>\n",
       "      <td>933</td>\n",
       "      <td>0</td>\n",
       "      <td>0.00</td>\n",
       "      <td>32.73</td>\n",
       "      <td>0</td>\n",
       "      <td>1</td>\n",
       "      <td>1</td>\n",
       "    </tr>\n",
       "    <tr>\n",
       "      <th>9</th>\n",
       "      <td>b8e3fb51-f821-4460-9ecc-1cb95c6191f3</td>\n",
       "      <td>1</td>\n",
       "      <td>Residential</td>\n",
       "      <td>19000</td>\n",
       "      <td>226</td>\n",
       "      <td>72</td>\n",
       "      <td>1</td>\n",
       "      <td>0</td>\n",
       "      <td>0</td>\n",
       "      <td>0</td>\n",
       "      <td>0</td>\n",
       "      <td>0.00</td>\n",
       "      <td>0.00</td>\n",
       "      <td>0</td>\n",
       "      <td>0</td>\n",
       "      <td>0</td>\n",
       "    </tr>\n",
       "    <tr>\n",
       "      <th>10</th>\n",
       "      <td>d88ba925-12d2-45aa-98f6-108edaf3cc76</td>\n",
       "      <td>11</td>\n",
       "      <td>Unknown</td>\n",
       "      <td>0</td>\n",
       "      <td>0</td>\n",
       "      <td>114</td>\n",
       "      <td>9</td>\n",
       "      <td>0</td>\n",
       "      <td>0</td>\n",
       "      <td>7510</td>\n",
       "      <td>0</td>\n",
       "      <td>0.00</td>\n",
       "      <td>66.12</td>\n",
       "      <td>0</td>\n",
       "      <td>0</td>\n",
       "      <td>1</td>\n",
       "    </tr>\n",
       "    <tr>\n",
       "      <th>11</th>\n",
       "      <td>1c53c861-e605-47f7-b854-c616a4d4fa04</td>\n",
       "      <td>1</td>\n",
       "      <td>Residential</td>\n",
       "      <td>730000</td>\n",
       "      <td>1724</td>\n",
       "      <td>12287</td>\n",
       "      <td>332</td>\n",
       "      <td>12440</td>\n",
       "      <td>296</td>\n",
       "      <td>0</td>\n",
       "      <td>0</td>\n",
       "      <td>1.01</td>\n",
       "      <td>0.00</td>\n",
       "      <td>0</td>\n",
       "      <td>1</td>\n",
       "      <td>0</td>\n",
       "    </tr>\n",
       "    <tr>\n",
       "      <th>12</th>\n",
       "      <td>b0e16d8e-21a5-4b19-92c7-3f2143cb81f8</td>\n",
       "      <td>4</td>\n",
       "      <td>Agricultural</td>\n",
       "      <td>300000</td>\n",
       "      <td>31078</td>\n",
       "      <td>1148</td>\n",
       "      <td>46</td>\n",
       "      <td>0</td>\n",
       "      <td>0</td>\n",
       "      <td>8593</td>\n",
       "      <td>0</td>\n",
       "      <td>0.00</td>\n",
       "      <td>7.48</td>\n",
       "      <td>0</td>\n",
       "      <td>0</td>\n",
       "      <td>1</td>\n",
       "    </tr>\n",
       "    <tr>\n",
       "      <th>13</th>\n",
       "      <td>634301de-76a4-4b02-a352-f2b16b070d1d</td>\n",
       "      <td>2</td>\n",
       "      <td>Business</td>\n",
       "      <td>36825000</td>\n",
       "      <td>215832908</td>\n",
       "      <td>27438</td>\n",
       "      <td>1016</td>\n",
       "      <td>28518</td>\n",
       "      <td>28518</td>\n",
       "      <td>0</td>\n",
       "      <td>0</td>\n",
       "      <td>1.04</td>\n",
       "      <td>0.00</td>\n",
       "      <td>20761</td>\n",
       "      <td>0</td>\n",
       "      <td>0</td>\n",
       "    </tr>\n",
       "    <tr>\n",
       "      <th>14</th>\n",
       "      <td>a1a81ae2-902e-4474-b136-31b79b5438de</td>\n",
       "      <td>1</td>\n",
       "      <td>Residential</td>\n",
       "      <td>35000</td>\n",
       "      <td>300</td>\n",
       "      <td>3641</td>\n",
       "      <td>98</td>\n",
       "      <td>0</td>\n",
       "      <td>0</td>\n",
       "      <td>19080</td>\n",
       "      <td>0</td>\n",
       "      <td>0.00</td>\n",
       "      <td>5.24</td>\n",
       "      <td>0</td>\n",
       "      <td>1</td>\n",
       "      <td>1</td>\n",
       "    </tr>\n",
       "    <tr>\n",
       "      <th>15</th>\n",
       "      <td>c160c61b-bc29-4aca-a7d1-aa267b7dd49c</td>\n",
       "      <td>4</td>\n",
       "      <td>Agricultural</td>\n",
       "      <td>100000</td>\n",
       "      <td>42173</td>\n",
       "      <td>360</td>\n",
       "      <td>360</td>\n",
       "      <td>299</td>\n",
       "      <td>299</td>\n",
       "      <td>0</td>\n",
       "      <td>0</td>\n",
       "      <td>0.83</td>\n",
       "      <td>0.00</td>\n",
       "      <td>0</td>\n",
       "      <td>0</td>\n",
       "      <td>0</td>\n",
       "    </tr>\n",
       "    <tr>\n",
       "      <th>16</th>\n",
       "      <td>84a8ffd4-83be-4406-98e1-592759400fe1</td>\n",
       "      <td>1</td>\n",
       "      <td>Residential</td>\n",
       "      <td>24960</td>\n",
       "      <td>327</td>\n",
       "      <td>56</td>\n",
       "      <td>1</td>\n",
       "      <td>40</td>\n",
       "      <td>10</td>\n",
       "      <td>43</td>\n",
       "      <td>0</td>\n",
       "      <td>0.72</td>\n",
       "      <td>0.76</td>\n",
       "      <td>0</td>\n",
       "      <td>1</td>\n",
       "      <td>1</td>\n",
       "    </tr>\n",
       "    <tr>\n",
       "      <th>17</th>\n",
       "      <td>f804d04e-14b9-4de4-87b1-091a4af4c8e8</td>\n",
       "      <td>4</td>\n",
       "      <td>Agricultural</td>\n",
       "      <td>15000</td>\n",
       "      <td>4925</td>\n",
       "      <td>578</td>\n",
       "      <td>44</td>\n",
       "      <td>0</td>\n",
       "      <td>0</td>\n",
       "      <td>1819</td>\n",
       "      <td>0</td>\n",
       "      <td>0.00</td>\n",
       "      <td>3.15</td>\n",
       "      <td>0</td>\n",
       "      <td>0</td>\n",
       "      <td>1</td>\n",
       "    </tr>\n",
       "    <tr>\n",
       "      <th>18</th>\n",
       "      <td>4f0f480f-79ee-4ebf-9a8d-5f79b19f828f</td>\n",
       "      <td>1</td>\n",
       "      <td>Residential</td>\n",
       "      <td>38000</td>\n",
       "      <td>283</td>\n",
       "      <td>-159</td>\n",
       "      <td>-3</td>\n",
       "      <td>0</td>\n",
       "      <td>0</td>\n",
       "      <td>0</td>\n",
       "      <td>759</td>\n",
       "      <td>0.00</td>\n",
       "      <td>-4.79</td>\n",
       "      <td>0</td>\n",
       "      <td>0</td>\n",
       "      <td>1</td>\n",
       "    </tr>\n",
       "    <tr>\n",
       "      <th>19</th>\n",
       "      <td>2f05be78-29eb-4789-8073-3a7cfafbca32</td>\n",
       "      <td>11</td>\n",
       "      <td>Unknown</td>\n",
       "      <td>0</td>\n",
       "      <td>0</td>\n",
       "      <td>-2784</td>\n",
       "      <td>-398</td>\n",
       "      <td>0</td>\n",
       "      <td>0</td>\n",
       "      <td>2784</td>\n",
       "      <td>0</td>\n",
       "      <td>0.00</td>\n",
       "      <td>-1.00</td>\n",
       "      <td>0</td>\n",
       "      <td>1</td>\n",
       "      <td>1</td>\n",
       "    </tr>\n",
       "    <tr>\n",
       "      <th>20</th>\n",
       "      <td>c1d11e87-7c74-433a-9aaa-e1cf1d74e7d9</td>\n",
       "      <td>2</td>\n",
       "      <td>Business</td>\n",
       "      <td>1900000</td>\n",
       "      <td>725</td>\n",
       "      <td>62143</td>\n",
       "      <td>863</td>\n",
       "      <td>55163</td>\n",
       "      <td>1199</td>\n",
       "      <td>0</td>\n",
       "      <td>0</td>\n",
       "      <td>0.89</td>\n",
       "      <td>0.00</td>\n",
       "      <td>41076</td>\n",
       "      <td>0</td>\n",
       "      <td>0</td>\n",
       "    </tr>\n",
       "    <tr>\n",
       "      <th>21</th>\n",
       "      <td>ce4007d8-b1f1-48b7-a5b7-1d2801bb3171</td>\n",
       "      <td>5</td>\n",
       "      <td>Municipal</td>\n",
       "      <td>50000</td>\n",
       "      <td>292</td>\n",
       "      <td>11306</td>\n",
       "      <td>188</td>\n",
       "      <td>0</td>\n",
       "      <td>0</td>\n",
       "      <td>122026</td>\n",
       "      <td>0</td>\n",
       "      <td>0.00</td>\n",
       "      <td>10.79</td>\n",
       "      <td>2126</td>\n",
       "      <td>1</td>\n",
       "      <td>1</td>\n",
       "    </tr>\n",
       "    <tr>\n",
       "      <th>22</th>\n",
       "      <td>c3d173de-7b04-438d-ac99-81d13e7070a7</td>\n",
       "      <td>1</td>\n",
       "      <td>Residential</td>\n",
       "      <td>1600000</td>\n",
       "      <td>0</td>\n",
       "      <td>38771</td>\n",
       "      <td>451</td>\n",
       "      <td>37719</td>\n",
       "      <td>1109</td>\n",
       "      <td>0</td>\n",
       "      <td>0</td>\n",
       "      <td>0.97</td>\n",
       "      <td>0.00</td>\n",
       "      <td>13325</td>\n",
       "      <td>1</td>\n",
       "      <td>0</td>\n",
       "    </tr>\n",
       "    <tr>\n",
       "      <th>23</th>\n",
       "      <td>5e1bf25f-aaa9-44cf-b80d-94afd426cd42</td>\n",
       "      <td>1</td>\n",
       "      <td>Residential</td>\n",
       "      <td>512700</td>\n",
       "      <td>2107</td>\n",
       "      <td>5888</td>\n",
       "      <td>123</td>\n",
       "      <td>5848</td>\n",
       "      <td>487</td>\n",
       "      <td>0</td>\n",
       "      <td>0</td>\n",
       "      <td>0.99</td>\n",
       "      <td>0.00</td>\n",
       "      <td>0</td>\n",
       "      <td>1</td>\n",
       "      <td>0</td>\n",
       "    </tr>\n",
       "    <tr>\n",
       "      <th>24</th>\n",
       "      <td>ad9ade4f-9ac3-41d7-b10e-dfc9cf76b491</td>\n",
       "      <td>5</td>\n",
       "      <td>Municipal</td>\n",
       "      <td>70000</td>\n",
       "      <td>0</td>\n",
       "      <td>95062</td>\n",
       "      <td>1980</td>\n",
       "      <td>0</td>\n",
       "      <td>0</td>\n",
       "      <td>423224</td>\n",
       "      <td>0</td>\n",
       "      <td>0.00</td>\n",
       "      <td>4.45</td>\n",
       "      <td>65219</td>\n",
       "      <td>0</td>\n",
       "      <td>1</td>\n",
       "    </tr>\n",
       "    <tr>\n",
       "      <th>25</th>\n",
       "      <td>cf3f598a-e88f-4380-abe1-05b49242d197</td>\n",
       "      <td>1</td>\n",
       "      <td>Residential</td>\n",
       "      <td>120000</td>\n",
       "      <td>740</td>\n",
       "      <td>655</td>\n",
       "      <td>50</td>\n",
       "      <td>0</td>\n",
       "      <td>0</td>\n",
       "      <td>0</td>\n",
       "      <td>0</td>\n",
       "      <td>0.00</td>\n",
       "      <td>0.00</td>\n",
       "      <td>0</td>\n",
       "      <td>1</td>\n",
       "      <td>0</td>\n",
       "    </tr>\n",
       "    <tr>\n",
       "      <th>26</th>\n",
       "      <td>d1a3216e-b7fc-4d2a-b92a-8600d7cefaa2</td>\n",
       "      <td>1</td>\n",
       "      <td>Residential</td>\n",
       "      <td>778000</td>\n",
       "      <td>659</td>\n",
       "      <td>13300</td>\n",
       "      <td>215</td>\n",
       "      <td>13140</td>\n",
       "      <td>2628</td>\n",
       "      <td>0</td>\n",
       "      <td>0</td>\n",
       "      <td>0.99</td>\n",
       "      <td>0.00</td>\n",
       "      <td>0</td>\n",
       "      <td>0</td>\n",
       "      <td>0</td>\n",
       "    </tr>\n",
       "    <tr>\n",
       "      <th>27</th>\n",
       "      <td>c9f657bb-7e54-4ea8-863a-0bddb0ca8ca1</td>\n",
       "      <td>1</td>\n",
       "      <td>Residential</td>\n",
       "      <td>1295000</td>\n",
       "      <td>1123</td>\n",
       "      <td>26528</td>\n",
       "      <td>246</td>\n",
       "      <td>28600</td>\n",
       "      <td>3178</td>\n",
       "      <td>7149</td>\n",
       "      <td>0</td>\n",
       "      <td>1.08</td>\n",
       "      <td>0.27</td>\n",
       "      <td>11151</td>\n",
       "      <td>1</td>\n",
       "      <td>1</td>\n",
       "    </tr>\n",
       "    <tr>\n",
       "      <th>28</th>\n",
       "      <td>1713ba39-b275-4966-9a50-dfef7989ac0c</td>\n",
       "      <td>1</td>\n",
       "      <td>Residential</td>\n",
       "      <td>26400</td>\n",
       "      <td>274</td>\n",
       "      <td>1029</td>\n",
       "      <td>17</td>\n",
       "      <td>0</td>\n",
       "      <td>0</td>\n",
       "      <td>73</td>\n",
       "      <td>856</td>\n",
       "      <td>0.00</td>\n",
       "      <td>0.90</td>\n",
       "      <td>352</td>\n",
       "      <td>1</td>\n",
       "      <td>1</td>\n",
       "    </tr>\n",
       "    <tr>\n",
       "      <th>29</th>\n",
       "      <td>d895ca2e-1689-4657-9585-07e0a653c11c</td>\n",
       "      <td>1</td>\n",
       "      <td>Residential</td>\n",
       "      <td>1200000</td>\n",
       "      <td>850</td>\n",
       "      <td>37103</td>\n",
       "      <td>508</td>\n",
       "      <td>37164</td>\n",
       "      <td>563</td>\n",
       "      <td>0</td>\n",
       "      <td>0</td>\n",
       "      <td>1.00</td>\n",
       "      <td>0.00</td>\n",
       "      <td>18240</td>\n",
       "      <td>1</td>\n",
       "      <td>0</td>\n",
       "    </tr>\n",
       "    <tr>\n",
       "      <th>30</th>\n",
       "      <td>7418446a-555f-4ae2-8a6f-acad011769eb</td>\n",
       "      <td>1</td>\n",
       "      <td>Residential</td>\n",
       "      <td>44500</td>\n",
       "      <td>277</td>\n",
       "      <td>2229</td>\n",
       "      <td>57</td>\n",
       "      <td>0</td>\n",
       "      <td>0</td>\n",
       "      <td>0</td>\n",
       "      <td>0</td>\n",
       "      <td>0.00</td>\n",
       "      <td>0.00</td>\n",
       "      <td>0</td>\n",
       "      <td>0</td>\n",
       "      <td>0</td>\n",
       "    </tr>\n",
       "    <tr>\n",
       "      <th>31</th>\n",
       "      <td>d6aa16ba-e9d3-43f4-acbc-2826b717fbc3</td>\n",
       "      <td>1</td>\n",
       "      <td>Residential</td>\n",
       "      <td>110000</td>\n",
       "      <td>1076</td>\n",
       "      <td>804</td>\n",
       "      <td>804</td>\n",
       "      <td>0</td>\n",
       "      <td>0</td>\n",
       "      <td>5535</td>\n",
       "      <td>0</td>\n",
       "      <td>0.00</td>\n",
       "      <td>6.89</td>\n",
       "      <td>0</td>\n",
       "      <td>1</td>\n",
       "      <td>1</td>\n",
       "    </tr>\n",
       "    <tr>\n",
       "      <th>32</th>\n",
       "      <td>f296c98a-69af-4191-9f21-1fd5bd0de8d4</td>\n",
       "      <td>4</td>\n",
       "      <td>Agricultural</td>\n",
       "      <td>747700</td>\n",
       "      <td>1045446</td>\n",
       "      <td>2277</td>\n",
       "      <td>47</td>\n",
       "      <td>12777</td>\n",
       "      <td>6388</td>\n",
       "      <td>10009</td>\n",
       "      <td>0</td>\n",
       "      <td>5.61</td>\n",
       "      <td>4.39</td>\n",
       "      <td>0</td>\n",
       "      <td>1</td>\n",
       "      <td>1</td>\n",
       "    </tr>\n",
       "    <tr>\n",
       "      <th>33</th>\n",
       "      <td>8ce96199-a1ad-4f50-a1c2-5323064b2272</td>\n",
       "      <td>1</td>\n",
       "      <td>Residential</td>\n",
       "      <td>2100000</td>\n",
       "      <td>781</td>\n",
       "      <td>39494</td>\n",
       "      <td>541</td>\n",
       "      <td>39636</td>\n",
       "      <td>551</td>\n",
       "      <td>0</td>\n",
       "      <td>0</td>\n",
       "      <td>1.00</td>\n",
       "      <td>0.00</td>\n",
       "      <td>13269</td>\n",
       "      <td>0</td>\n",
       "      <td>0</td>\n",
       "    </tr>\n",
       "    <tr>\n",
       "      <th>34</th>\n",
       "      <td>4720b209-7cb8-46af-9b74-879f21280053</td>\n",
       "      <td>11</td>\n",
       "      <td>Unknown</td>\n",
       "      <td>0</td>\n",
       "      <td>0</td>\n",
       "      <td>-2352</td>\n",
       "      <td>-36</td>\n",
       "      <td>176</td>\n",
       "      <td>22</td>\n",
       "      <td>2592</td>\n",
       "      <td>0</td>\n",
       "      <td>-0.07</td>\n",
       "      <td>-1.10</td>\n",
       "      <td>0</td>\n",
       "      <td>1</td>\n",
       "      <td>1</td>\n",
       "    </tr>\n",
       "    <tr>\n",
       "      <th>35</th>\n",
       "      <td>9d2e4a58-15a7-4c67-9422-793ebad155f6</td>\n",
       "      <td>2</td>\n",
       "      <td>Business</td>\n",
       "      <td>1600000</td>\n",
       "      <td>5004</td>\n",
       "      <td>12960</td>\n",
       "      <td>997</td>\n",
       "      <td>13954</td>\n",
       "      <td>1395</td>\n",
       "      <td>0</td>\n",
       "      <td>0</td>\n",
       "      <td>1.08</td>\n",
       "      <td>0.00</td>\n",
       "      <td>0</td>\n",
       "      <td>0</td>\n",
       "      <td>0</td>\n",
       "    </tr>\n",
       "    <tr>\n",
       "      <th>36</th>\n",
       "      <td>8b866cac-39ad-4369-b27b-628394842bc7</td>\n",
       "      <td>11</td>\n",
       "      <td>Unknown</td>\n",
       "      <td>0</td>\n",
       "      <td>0</td>\n",
       "      <td>-4311</td>\n",
       "      <td>-1437</td>\n",
       "      <td>0</td>\n",
       "      <td>0</td>\n",
       "      <td>4311</td>\n",
       "      <td>0</td>\n",
       "      <td>0.00</td>\n",
       "      <td>-1.00</td>\n",
       "      <td>0</td>\n",
       "      <td>1</td>\n",
       "      <td>1</td>\n",
       "    </tr>\n",
       "    <tr>\n",
       "      <th>37</th>\n",
       "      <td>2cb03547-3071-4588-a939-ed5a56fe3d9a</td>\n",
       "      <td>1</td>\n",
       "      <td>Residential</td>\n",
       "      <td>38000</td>\n",
       "      <td>330</td>\n",
       "      <td>2</td>\n",
       "      <td>0</td>\n",
       "      <td>0</td>\n",
       "      <td>0</td>\n",
       "      <td>0</td>\n",
       "      <td>0</td>\n",
       "      <td>0.00</td>\n",
       "      <td>0.00</td>\n",
       "      <td>0</td>\n",
       "      <td>0</td>\n",
       "      <td>0</td>\n",
       "    </tr>\n",
       "    <tr>\n",
       "      <th>38</th>\n",
       "      <td>bc9e9be5-fdf4-4fe7-90b9-fe631bffbd0e</td>\n",
       "      <td>1</td>\n",
       "      <td>Residential</td>\n",
       "      <td>820000</td>\n",
       "      <td>16839</td>\n",
       "      <td>11905</td>\n",
       "      <td>476</td>\n",
       "      <td>11848</td>\n",
       "      <td>494</td>\n",
       "      <td>0</td>\n",
       "      <td>0</td>\n",
       "      <td>1.00</td>\n",
       "      <td>0.00</td>\n",
       "      <td>5626</td>\n",
       "      <td>1</td>\n",
       "      <td>0</td>\n",
       "    </tr>\n",
       "    <tr>\n",
       "      <th>39</th>\n",
       "      <td>4cfc1ad0-5d41-4bad-a7bd-e377e0e59147</td>\n",
       "      <td>2</td>\n",
       "      <td>Business</td>\n",
       "      <td>610000</td>\n",
       "      <td>2973</td>\n",
       "      <td>10170</td>\n",
       "      <td>275</td>\n",
       "      <td>11800</td>\n",
       "      <td>257</td>\n",
       "      <td>0</td>\n",
       "      <td>0</td>\n",
       "      <td>1.16</td>\n",
       "      <td>0.00</td>\n",
       "      <td>2658</td>\n",
       "      <td>1</td>\n",
       "      <td>0</td>\n",
       "    </tr>\n",
       "    <tr>\n",
       "      <th>40</th>\n",
       "      <td>deb1da75-fd5e-40fd-9b85-a0c93ddf1b51</td>\n",
       "      <td>1</td>\n",
       "      <td>Residential</td>\n",
       "      <td>43000</td>\n",
       "      <td>403</td>\n",
       "      <td>3030</td>\n",
       "      <td>80</td>\n",
       "      <td>2200</td>\n",
       "      <td>2200</td>\n",
       "      <td>0</td>\n",
       "      <td>0</td>\n",
       "      <td>0.73</td>\n",
       "      <td>0.00</td>\n",
       "      <td>0</td>\n",
       "      <td>0</td>\n",
       "      <td>0</td>\n",
       "    </tr>\n",
       "    <tr>\n",
       "      <th>41</th>\n",
       "      <td>d4dc5e29-1d4c-42ad-bf35-172d42a39b62</td>\n",
       "      <td>1</td>\n",
       "      <td>Residential</td>\n",
       "      <td>970000</td>\n",
       "      <td>28617</td>\n",
       "      <td>5959</td>\n",
       "      <td>458</td>\n",
       "      <td>5562</td>\n",
       "      <td>428</td>\n",
       "      <td>3946</td>\n",
       "      <td>0</td>\n",
       "      <td>0.93</td>\n",
       "      <td>0.66</td>\n",
       "      <td>0</td>\n",
       "      <td>0</td>\n",
       "      <td>1</td>\n",
       "    </tr>\n",
       "    <tr>\n",
       "      <th>42</th>\n",
       "      <td>e6582308-8889-4cfe-8989-026b198211f2</td>\n",
       "      <td>1</td>\n",
       "      <td>Residential</td>\n",
       "      <td>17880</td>\n",
       "      <td>0</td>\n",
       "      <td>5503</td>\n",
       "      <td>115</td>\n",
       "      <td>0</td>\n",
       "      <td>0</td>\n",
       "      <td>20643</td>\n",
       "      <td>0</td>\n",
       "      <td>0.00</td>\n",
       "      <td>3.75</td>\n",
       "      <td>703</td>\n",
       "      <td>1</td>\n",
       "      <td>1</td>\n",
       "    </tr>\n",
       "    <tr>\n",
       "      <th>43</th>\n",
       "      <td>c6dfe03c-4a2f-4d9d-a8c9-37512f0b1310</td>\n",
       "      <td>1</td>\n",
       "      <td>Residential</td>\n",
       "      <td>910000</td>\n",
       "      <td>706</td>\n",
       "      <td>3093</td>\n",
       "      <td>258</td>\n",
       "      <td>1300</td>\n",
       "      <td>163</td>\n",
       "      <td>0</td>\n",
       "      <td>0</td>\n",
       "      <td>0.42</td>\n",
       "      <td>0.00</td>\n",
       "      <td>1866</td>\n",
       "      <td>1</td>\n",
       "      <td>0</td>\n",
       "    </tr>\n",
       "    <tr>\n",
       "      <th>44</th>\n",
       "      <td>e88500e8-1c2a-4b46-8757-aa017da81a62</td>\n",
       "      <td>1</td>\n",
       "      <td>Residential</td>\n",
       "      <td>111000</td>\n",
       "      <td>396</td>\n",
       "      <td>5266</td>\n",
       "      <td>150</td>\n",
       "      <td>0</td>\n",
       "      <td>0</td>\n",
       "      <td>23952</td>\n",
       "      <td>0</td>\n",
       "      <td>0.00</td>\n",
       "      <td>4.55</td>\n",
       "      <td>0</td>\n",
       "      <td>0</td>\n",
       "      <td>1</td>\n",
       "    </tr>\n",
       "    <tr>\n",
       "      <th>45</th>\n",
       "      <td>95cd5bc4-0e2d-42cc-8d86-60331deb6a08</td>\n",
       "      <td>1</td>\n",
       "      <td>Residential</td>\n",
       "      <td>220000</td>\n",
       "      <td>277</td>\n",
       "      <td>750</td>\n",
       "      <td>16</td>\n",
       "      <td>0</td>\n",
       "      <td>0</td>\n",
       "      <td>495</td>\n",
       "      <td>0</td>\n",
       "      <td>0.00</td>\n",
       "      <td>0.66</td>\n",
       "      <td>0</td>\n",
       "      <td>1</td>\n",
       "      <td>1</td>\n",
       "    </tr>\n",
       "    <tr>\n",
       "      <th>46</th>\n",
       "      <td>746153fe-b73e-4a19-8b8a-808f17e11341</td>\n",
       "      <td>1</td>\n",
       "      <td>Residential</td>\n",
       "      <td>51000</td>\n",
       "      <td>410</td>\n",
       "      <td>530</td>\n",
       "      <td>8</td>\n",
       "      <td>0</td>\n",
       "      <td>0</td>\n",
       "      <td>0</td>\n",
       "      <td>2886</td>\n",
       "      <td>0.00</td>\n",
       "      <td>5.45</td>\n",
       "      <td>0</td>\n",
       "      <td>0</td>\n",
       "      <td>1</td>\n",
       "    </tr>\n",
       "    <tr>\n",
       "      <th>47</th>\n",
       "      <td>f8aa6a4c-92f0-4d32-ae42-1173ffe65bca</td>\n",
       "      <td>1</td>\n",
       "      <td>Residential</td>\n",
       "      <td>650000</td>\n",
       "      <td>629</td>\n",
       "      <td>16000</td>\n",
       "      <td>219</td>\n",
       "      <td>16132</td>\n",
       "      <td>227</td>\n",
       "      <td>0</td>\n",
       "      <td>0</td>\n",
       "      <td>1.01</td>\n",
       "      <td>0.00</td>\n",
       "      <td>3802</td>\n",
       "      <td>1</td>\n",
       "      <td>0</td>\n",
       "    </tr>\n",
       "    <tr>\n",
       "      <th>48</th>\n",
       "      <td>b9d188dc-3d08-4683-9ebb-6962a4515f67</td>\n",
       "      <td>1</td>\n",
       "      <td>Residential</td>\n",
       "      <td>38000</td>\n",
       "      <td>150</td>\n",
       "      <td>5219</td>\n",
       "      <td>47</td>\n",
       "      <td>0</td>\n",
       "      <td>0</td>\n",
       "      <td>0</td>\n",
       "      <td>83702</td>\n",
       "      <td>0.00</td>\n",
       "      <td>16.04</td>\n",
       "      <td>0</td>\n",
       "      <td>0</td>\n",
       "      <td>1</td>\n",
       "    </tr>\n",
       "    <tr>\n",
       "      <th>49</th>\n",
       "      <td>9afa5f6c-cd1f-4dba-85a1-ced90f9a7e9b</td>\n",
       "      <td>1</td>\n",
       "      <td>Residential</td>\n",
       "      <td>2000000</td>\n",
       "      <td>1016</td>\n",
       "      <td>42324</td>\n",
       "      <td>543</td>\n",
       "      <td>44160</td>\n",
       "      <td>901</td>\n",
       "      <td>0</td>\n",
       "      <td>0</td>\n",
       "      <td>1.04</td>\n",
       "      <td>0.00</td>\n",
       "      <td>19072</td>\n",
       "      <td>1</td>\n",
       "      <td>0</td>\n",
       "    </tr>\n",
       "  </tbody>\n",
       "</table>\n",
       "</div>"
      ],
      "text/plain": [
       "                                   AccID  CategoryID        Category  \\\n",
       "0   c8f5a7fa-4b2b-470f-8ad5-1c367a3c934a           1     Residential   \n",
       "1   95daa45d-3dfd-4c60-aae4-05e78b0de26e           1     Residential   \n",
       "2   40536c2d-c0a2-4486-b0aa-60b36dfa290a           1     Residential   \n",
       "3   52a2254d-44e5-4dc9-8e08-1b135096172c           5       Municipal   \n",
       "4   1e0363e4-2029-4b62-a9ec-d909cee000cb           1     Residential   \n",
       "5   eb80678a-d0e1-48df-9229-fcd9c706874d           2        Business   \n",
       "6   5b47579d-a965-415b-8eac-1565dd327839           2        Business   \n",
       "7   f8984e3d-a6bb-48ca-9209-a44dcccf91d4           8  Infrastructure   \n",
       "8   80707e33-72d5-49fd-a415-0818a2d44e04           1     Residential   \n",
       "9   b8e3fb51-f821-4460-9ecc-1cb95c6191f3           1     Residential   \n",
       "10  d88ba925-12d2-45aa-98f6-108edaf3cc76          11         Unknown   \n",
       "11  1c53c861-e605-47f7-b854-c616a4d4fa04           1     Residential   \n",
       "12  b0e16d8e-21a5-4b19-92c7-3f2143cb81f8           4    Agricultural   \n",
       "13  634301de-76a4-4b02-a352-f2b16b070d1d           2        Business   \n",
       "14  a1a81ae2-902e-4474-b136-31b79b5438de           1     Residential   \n",
       "15  c160c61b-bc29-4aca-a7d1-aa267b7dd49c           4    Agricultural   \n",
       "16  84a8ffd4-83be-4406-98e1-592759400fe1           1     Residential   \n",
       "17  f804d04e-14b9-4de4-87b1-091a4af4c8e8           4    Agricultural   \n",
       "18  4f0f480f-79ee-4ebf-9a8d-5f79b19f828f           1     Residential   \n",
       "19  2f05be78-29eb-4789-8073-3a7cfafbca32          11         Unknown   \n",
       "20  c1d11e87-7c74-433a-9aaa-e1cf1d74e7d9           2        Business   \n",
       "21  ce4007d8-b1f1-48b7-a5b7-1d2801bb3171           5       Municipal   \n",
       "22  c3d173de-7b04-438d-ac99-81d13e7070a7           1     Residential   \n",
       "23  5e1bf25f-aaa9-44cf-b80d-94afd426cd42           1     Residential   \n",
       "24  ad9ade4f-9ac3-41d7-b10e-dfc9cf76b491           5       Municipal   \n",
       "25  cf3f598a-e88f-4380-abe1-05b49242d197           1     Residential   \n",
       "26  d1a3216e-b7fc-4d2a-b92a-8600d7cefaa2           1     Residential   \n",
       "27  c9f657bb-7e54-4ea8-863a-0bddb0ca8ca1           1     Residential   \n",
       "28  1713ba39-b275-4966-9a50-dfef7989ac0c           1     Residential   \n",
       "29  d895ca2e-1689-4657-9585-07e0a653c11c           1     Residential   \n",
       "30  7418446a-555f-4ae2-8a6f-acad011769eb           1     Residential   \n",
       "31  d6aa16ba-e9d3-43f4-acbc-2826b717fbc3           1     Residential   \n",
       "32  f296c98a-69af-4191-9f21-1fd5bd0de8d4           4    Agricultural   \n",
       "33  8ce96199-a1ad-4f50-a1c2-5323064b2272           1     Residential   \n",
       "34  4720b209-7cb8-46af-9b74-879f21280053          11         Unknown   \n",
       "35  9d2e4a58-15a7-4c67-9422-793ebad155f6           2        Business   \n",
       "36  8b866cac-39ad-4369-b27b-628394842bc7          11         Unknown   \n",
       "37  2cb03547-3071-4588-a939-ed5a56fe3d9a           1     Residential   \n",
       "38  bc9e9be5-fdf4-4fe7-90b9-fe631bffbd0e           1     Residential   \n",
       "39  4cfc1ad0-5d41-4bad-a7bd-e377e0e59147           2        Business   \n",
       "40  deb1da75-fd5e-40fd-9b85-a0c93ddf1b51           1     Residential   \n",
       "41  d4dc5e29-1d4c-42ad-bf35-172d42a39b62           1     Residential   \n",
       "42  e6582308-8889-4cfe-8989-026b198211f2           1     Residential   \n",
       "43  c6dfe03c-4a2f-4d9d-a8c9-37512f0b1310           1     Residential   \n",
       "44  e88500e8-1c2a-4b46-8757-aa017da81a62           1     Residential   \n",
       "45  95cd5bc4-0e2d-42cc-8d86-60331deb6a08           1     Residential   \n",
       "46  746153fe-b73e-4a19-8b8a-808f17e11341           1     Residential   \n",
       "47  f8aa6a4c-92f0-4d32-ae42-1173ffe65bca           1     Residential   \n",
       "48  b9d188dc-3d08-4683-9ebb-6962a4515f67           1     Residential   \n",
       "49  9afa5f6c-cd1f-4dba-85a1-ced90f9a7e9b           1     Residential   \n",
       "\n",
       "       Value  PropertySize  BillingAmt  AverageBillingAmt  CollectedAmt  \\\n",
       "0    2674700           585       43717                729         43416   \n",
       "1      36000           315         378                  3           522   \n",
       "2     700000           528       25150                345         25104   \n",
       "3      40000             0        4773                133             0   \n",
       "4     125800             0          -4                  0           445   \n",
       "5     700000           577       17771                212         17588   \n",
       "6      50000          1915         953                 73           953   \n",
       "7      47000         58720       -1820               -130             0   \n",
       "8          0          1061          29                  2             0   \n",
       "9      19000           226          72                  1             0   \n",
       "10         0             0         114                  9             0   \n",
       "11    730000          1724       12287                332         12440   \n",
       "12    300000         31078        1148                 46             0   \n",
       "13  36825000     215832908       27438               1016         28518   \n",
       "14     35000           300        3641                 98             0   \n",
       "15    100000         42173         360                360           299   \n",
       "16     24960           327          56                  1            40   \n",
       "17     15000          4925         578                 44             0   \n",
       "18     38000           283        -159                 -3             0   \n",
       "19         0             0       -2784               -398             0   \n",
       "20   1900000           725       62143                863         55163   \n",
       "21     50000           292       11306                188             0   \n",
       "22   1600000             0       38771                451         37719   \n",
       "23    512700          2107        5888                123          5848   \n",
       "24     70000             0       95062               1980             0   \n",
       "25    120000           740         655                 50             0   \n",
       "26    778000           659       13300                215         13140   \n",
       "27   1295000          1123       26528                246         28600   \n",
       "28     26400           274        1029                 17             0   \n",
       "29   1200000           850       37103                508         37164   \n",
       "30     44500           277        2229                 57             0   \n",
       "31    110000          1076         804                804             0   \n",
       "32    747700       1045446        2277                 47         12777   \n",
       "33   2100000           781       39494                541         39636   \n",
       "34         0             0       -2352                -36           176   \n",
       "35   1600000          5004       12960                997         13954   \n",
       "36         0             0       -4311              -1437             0   \n",
       "37     38000           330           2                  0             0   \n",
       "38    820000         16839       11905                476         11848   \n",
       "39    610000          2973       10170                275         11800   \n",
       "40     43000           403        3030                 80          2200   \n",
       "41    970000         28617        5959                458          5562   \n",
       "42     17880             0        5503                115             0   \n",
       "43    910000           706        3093                258          1300   \n",
       "44    111000           396        5266                150             0   \n",
       "45    220000           277         750                 16             0   \n",
       "46     51000           410         530                  8             0   \n",
       "47    650000           629       16000                219         16132   \n",
       "48     38000           150        5219                 47             0   \n",
       "49   2000000          1016       42324                543         44160   \n",
       "\n",
       "    AverageCollectedAmt  DebtAmt  WriteOffAmt  CollectionRatio  \\\n",
       "0                  4342        0            0             0.99   \n",
       "1                   522        0            0             1.38   \n",
       "2                   349        0            0             1.00   \n",
       "3                     0     7319            0             0.00   \n",
       "4                   445        0            0          -121.26   \n",
       "5                  1466        0            0             0.99   \n",
       "6                   191        0            0             1.00   \n",
       "7                     0     1820            0             0.00   \n",
       "8                     0      933            0             0.00   \n",
       "9                     0        0            0             0.00   \n",
       "10                    0     7510            0             0.00   \n",
       "11                  296        0            0             1.01   \n",
       "12                    0     8593            0             0.00   \n",
       "13                28518        0            0             1.04   \n",
       "14                    0    19080            0             0.00   \n",
       "15                  299        0            0             0.83   \n",
       "16                   10       43            0             0.72   \n",
       "17                    0     1819            0             0.00   \n",
       "18                    0        0          759             0.00   \n",
       "19                    0     2784            0             0.00   \n",
       "20                 1199        0            0             0.89   \n",
       "21                    0   122026            0             0.00   \n",
       "22                 1109        0            0             0.97   \n",
       "23                  487        0            0             0.99   \n",
       "24                    0   423224            0             0.00   \n",
       "25                    0        0            0             0.00   \n",
       "26                 2628        0            0             0.99   \n",
       "27                 3178     7149            0             1.08   \n",
       "28                    0       73          856             0.00   \n",
       "29                  563        0            0             1.00   \n",
       "30                    0        0            0             0.00   \n",
       "31                    0     5535            0             0.00   \n",
       "32                 6388    10009            0             5.61   \n",
       "33                  551        0            0             1.00   \n",
       "34                   22     2592            0            -0.07   \n",
       "35                 1395        0            0             1.08   \n",
       "36                    0     4311            0             0.00   \n",
       "37                    0        0            0             0.00   \n",
       "38                  494        0            0             1.00   \n",
       "39                  257        0            0             1.16   \n",
       "40                 2200        0            0             0.73   \n",
       "41                  428     3946            0             0.93   \n",
       "42                    0    20643            0             0.00   \n",
       "43                  163        0            0             0.42   \n",
       "44                    0    23952            0             0.00   \n",
       "45                    0      495            0             0.00   \n",
       "46                    0        0         2886             0.00   \n",
       "47                  227        0            0             1.01   \n",
       "48                    0        0        83702             0.00   \n",
       "49                  901        0            0             1.04   \n",
       "\n",
       "    DebtBillingRatio  TotalElectricityBill  HasID  Label  \n",
       "0               0.00                     0      0      0  \n",
       "1               0.00                     0      0      0  \n",
       "2               0.00                 10715      1      0  \n",
       "3               1.53                     0      1      1  \n",
       "4               0.00                     0      0      0  \n",
       "5               0.00                     0      0      0  \n",
       "6               0.00                     0      0      0  \n",
       "7              -1.00                     0      0      1  \n",
       "8              32.73                     0      1      1  \n",
       "9               0.00                     0      0      0  \n",
       "10             66.12                     0      0      1  \n",
       "11              0.00                     0      1      0  \n",
       "12              7.48                     0      0      1  \n",
       "13              0.00                 20761      0      0  \n",
       "14              5.24                     0      1      1  \n",
       "15              0.00                     0      0      0  \n",
       "16              0.76                     0      1      1  \n",
       "17              3.15                     0      0      1  \n",
       "18             -4.79                     0      0      1  \n",
       "19             -1.00                     0      1      1  \n",
       "20              0.00                 41076      0      0  \n",
       "21             10.79                  2126      1      1  \n",
       "22              0.00                 13325      1      0  \n",
       "23              0.00                     0      1      0  \n",
       "24              4.45                 65219      0      1  \n",
       "25              0.00                     0      1      0  \n",
       "26              0.00                     0      0      0  \n",
       "27              0.27                 11151      1      1  \n",
       "28              0.90                   352      1      1  \n",
       "29              0.00                 18240      1      0  \n",
       "30              0.00                     0      0      0  \n",
       "31              6.89                     0      1      1  \n",
       "32              4.39                     0      1      1  \n",
       "33              0.00                 13269      0      0  \n",
       "34             -1.10                     0      1      1  \n",
       "35              0.00                     0      0      0  \n",
       "36             -1.00                     0      1      1  \n",
       "37              0.00                     0      0      0  \n",
       "38              0.00                  5626      1      0  \n",
       "39              0.00                  2658      1      0  \n",
       "40              0.00                     0      0      0  \n",
       "41              0.66                     0      0      1  \n",
       "42              3.75                   703      1      1  \n",
       "43              0.00                  1866      1      0  \n",
       "44              4.55                     0      0      1  \n",
       "45              0.66                     0      1      1  \n",
       "46              5.45                     0      0      1  \n",
       "47              0.00                  3802      1      0  \n",
       "48             16.04                     0      0      1  \n",
       "49              0.00                 19072      1      0  "
      ]
     },
     "execution_count": 3,
     "metadata": {},
     "output_type": "execute_result"
    }
   ],
   "source": [
    "data.head(50)"
   ]
  },
  {
   "cell_type": "code",
   "execution_count": 4,
   "metadata": {
    "scrolled": false
   },
   "outputs": [
    {
     "data": {
      "text/plain": [
       "AccID                   0\n",
       "CategoryID              0\n",
       "Category                0\n",
       "Value                   0\n",
       "PropertySize            0\n",
       "BillingAmt              0\n",
       "AverageBillingAmt       0\n",
       "CollectedAmt            0\n",
       "AverageCollectedAmt     0\n",
       "DebtAmt                 0\n",
       "WriteOffAmt             0\n",
       "CollectionRatio         0\n",
       "DebtBillingRatio        0\n",
       "TotalElectricityBill    0\n",
       "HasID                   0\n",
       "Label                   0\n",
       "dtype: int64"
      ]
     },
     "execution_count": 4,
     "metadata": {},
     "output_type": "execute_result"
    }
   ],
   "source": [
    "data.isnull().sum() #no missing value"
   ]
  },
  {
   "cell_type": "code",
   "execution_count": 5,
   "metadata": {},
   "outputs": [
    {
     "data": {
      "text/plain": [
       "(100476, 16)"
      ]
     },
     "execution_count": 5,
     "metadata": {},
     "output_type": "execute_result"
    }
   ],
   "source": [
    "data.shape"
   ]
  },
  {
   "cell_type": "code",
   "execution_count": 6,
   "metadata": {},
   "outputs": [
    {
     "data": {
      "text/plain": [
       "array([ 1,  5,  2,  8, 11,  4,  6, 12,  7,  3,  9, 13], dtype=int64)"
      ]
     },
     "execution_count": 6,
     "metadata": {},
     "output_type": "execute_result"
    }
   ],
   "source": [
    "data[\"CategoryID\"].unique()"
   ]
  },
  {
   "cell_type": "code",
   "execution_count": 7,
   "metadata": {},
   "outputs": [
    {
     "data": {
      "text/plain": [
       "array(['Residential', 'Municipal', 'Business', 'Infrastructure',\n",
       "       'Unknown', 'Agricultural', 'Government', 'Place of Worship',\n",
       "       'Educational', 'Industry', 'Public Benefit',\n",
       "       'Environmental Management'], dtype=object)"
      ]
     },
     "execution_count": 7,
     "metadata": {},
     "output_type": "execute_result"
    }
   ],
   "source": [
    "data[\"Category\"].unique()"
   ]
  },
  {
   "cell_type": "code",
   "execution_count": 8,
   "metadata": {
    "scrolled": false
   },
   "outputs": [
    {
     "data": {
      "text/html": [
       "<div>\n",
       "<style scoped>\n",
       "    .dataframe tbody tr th:only-of-type {\n",
       "        vertical-align: middle;\n",
       "    }\n",
       "\n",
       "    .dataframe tbody tr th {\n",
       "        vertical-align: top;\n",
       "    }\n",
       "\n",
       "    .dataframe thead th {\n",
       "        text-align: right;\n",
       "    }\n",
       "</style>\n",
       "<table border=\"1\" class=\"dataframe\">\n",
       "  <thead>\n",
       "    <tr style=\"text-align: right;\">\n",
       "      <th></th>\n",
       "      <th>AccID</th>\n",
       "      <th>CategoryID</th>\n",
       "      <th>Category</th>\n",
       "      <th>Value</th>\n",
       "      <th>PropertySize</th>\n",
       "      <th>BillingAmt</th>\n",
       "      <th>AverageBillingAmt</th>\n",
       "      <th>CollectedAmt</th>\n",
       "      <th>AverageCollectedAmt</th>\n",
       "      <th>DebtAmt</th>\n",
       "      <th>WriteOffAmt</th>\n",
       "      <th>CollectionRatio</th>\n",
       "      <th>DebtBillingRatio</th>\n",
       "      <th>TotalElectricityBill</th>\n",
       "      <th>HasID</th>\n",
       "      <th>Label</th>\n",
       "    </tr>\n",
       "  </thead>\n",
       "  <tbody>\n",
       "    <tr>\n",
       "      <th>10</th>\n",
       "      <td>d88ba925-12d2-45aa-98f6-108edaf3cc76</td>\n",
       "      <td>11</td>\n",
       "      <td>Unknown</td>\n",
       "      <td>0</td>\n",
       "      <td>0</td>\n",
       "      <td>114</td>\n",
       "      <td>9</td>\n",
       "      <td>0</td>\n",
       "      <td>0</td>\n",
       "      <td>7510</td>\n",
       "      <td>0</td>\n",
       "      <td>0.00</td>\n",
       "      <td>66.12</td>\n",
       "      <td>0</td>\n",
       "      <td>0</td>\n",
       "      <td>1</td>\n",
       "    </tr>\n",
       "    <tr>\n",
       "      <th>19</th>\n",
       "      <td>2f05be78-29eb-4789-8073-3a7cfafbca32</td>\n",
       "      <td>11</td>\n",
       "      <td>Unknown</td>\n",
       "      <td>0</td>\n",
       "      <td>0</td>\n",
       "      <td>-2784</td>\n",
       "      <td>-398</td>\n",
       "      <td>0</td>\n",
       "      <td>0</td>\n",
       "      <td>2784</td>\n",
       "      <td>0</td>\n",
       "      <td>0.00</td>\n",
       "      <td>-1.00</td>\n",
       "      <td>0</td>\n",
       "      <td>1</td>\n",
       "      <td>1</td>\n",
       "    </tr>\n",
       "    <tr>\n",
       "      <th>34</th>\n",
       "      <td>4720b209-7cb8-46af-9b74-879f21280053</td>\n",
       "      <td>11</td>\n",
       "      <td>Unknown</td>\n",
       "      <td>0</td>\n",
       "      <td>0</td>\n",
       "      <td>-2352</td>\n",
       "      <td>-36</td>\n",
       "      <td>176</td>\n",
       "      <td>22</td>\n",
       "      <td>2592</td>\n",
       "      <td>0</td>\n",
       "      <td>-0.07</td>\n",
       "      <td>-1.10</td>\n",
       "      <td>0</td>\n",
       "      <td>1</td>\n",
       "      <td>1</td>\n",
       "    </tr>\n",
       "    <tr>\n",
       "      <th>36</th>\n",
       "      <td>8b866cac-39ad-4369-b27b-628394842bc7</td>\n",
       "      <td>11</td>\n",
       "      <td>Unknown</td>\n",
       "      <td>0</td>\n",
       "      <td>0</td>\n",
       "      <td>-4311</td>\n",
       "      <td>-1437</td>\n",
       "      <td>0</td>\n",
       "      <td>0</td>\n",
       "      <td>4311</td>\n",
       "      <td>0</td>\n",
       "      <td>0.00</td>\n",
       "      <td>-1.00</td>\n",
       "      <td>0</td>\n",
       "      <td>1</td>\n",
       "      <td>1</td>\n",
       "    </tr>\n",
       "    <tr>\n",
       "      <th>52</th>\n",
       "      <td>91cebaca-6bf1-40ac-a3d5-212763802b0f</td>\n",
       "      <td>11</td>\n",
       "      <td>Unknown</td>\n",
       "      <td>0</td>\n",
       "      <td>0</td>\n",
       "      <td>2206</td>\n",
       "      <td>60</td>\n",
       "      <td>3355</td>\n",
       "      <td>305</td>\n",
       "      <td>4834</td>\n",
       "      <td>0</td>\n",
       "      <td>1.52</td>\n",
       "      <td>2.19</td>\n",
       "      <td>0</td>\n",
       "      <td>1</td>\n",
       "      <td>1</td>\n",
       "    </tr>\n",
       "    <tr>\n",
       "      <th>...</th>\n",
       "      <td>...</td>\n",
       "      <td>...</td>\n",
       "      <td>...</td>\n",
       "      <td>...</td>\n",
       "      <td>...</td>\n",
       "      <td>...</td>\n",
       "      <td>...</td>\n",
       "      <td>...</td>\n",
       "      <td>...</td>\n",
       "      <td>...</td>\n",
       "      <td>...</td>\n",
       "      <td>...</td>\n",
       "      <td>...</td>\n",
       "      <td>...</td>\n",
       "      <td>...</td>\n",
       "      <td>...</td>\n",
       "    </tr>\n",
       "    <tr>\n",
       "      <th>100448</th>\n",
       "      <td>ff8b70a7-48a8-4b14-815a-4255d4b48664</td>\n",
       "      <td>11</td>\n",
       "      <td>Unknown</td>\n",
       "      <td>165000</td>\n",
       "      <td>320</td>\n",
       "      <td>7445</td>\n",
       "      <td>103</td>\n",
       "      <td>0</td>\n",
       "      <td>0</td>\n",
       "      <td>92537</td>\n",
       "      <td>0</td>\n",
       "      <td>0.00</td>\n",
       "      <td>12.43</td>\n",
       "      <td>0</td>\n",
       "      <td>0</td>\n",
       "      <td>1</td>\n",
       "    </tr>\n",
       "    <tr>\n",
       "      <th>100460</th>\n",
       "      <td>9be30d56-337e-4f88-92df-19b6d518d7b4</td>\n",
       "      <td>11</td>\n",
       "      <td>Unknown</td>\n",
       "      <td>357000</td>\n",
       "      <td>264</td>\n",
       "      <td>8306</td>\n",
       "      <td>99</td>\n",
       "      <td>6000</td>\n",
       "      <td>3000</td>\n",
       "      <td>34071</td>\n",
       "      <td>0</td>\n",
       "      <td>0.72</td>\n",
       "      <td>4.10</td>\n",
       "      <td>0</td>\n",
       "      <td>0</td>\n",
       "      <td>1</td>\n",
       "    </tr>\n",
       "    <tr>\n",
       "      <th>100462</th>\n",
       "      <td>a3a11f4f-f576-4346-9b2e-8bf0c62318c8</td>\n",
       "      <td>11</td>\n",
       "      <td>Unknown</td>\n",
       "      <td>0</td>\n",
       "      <td>248</td>\n",
       "      <td>-1174</td>\n",
       "      <td>-21</td>\n",
       "      <td>120</td>\n",
       "      <td>60</td>\n",
       "      <td>0</td>\n",
       "      <td>0</td>\n",
       "      <td>-0.10</td>\n",
       "      <td>0.00</td>\n",
       "      <td>0</td>\n",
       "      <td>1</td>\n",
       "      <td>0</td>\n",
       "    </tr>\n",
       "    <tr>\n",
       "      <th>100467</th>\n",
       "      <td>1541b5cb-993c-405f-ba38-d9d548f91018</td>\n",
       "      <td>11</td>\n",
       "      <td>Unknown</td>\n",
       "      <td>0</td>\n",
       "      <td>0</td>\n",
       "      <td>1409</td>\n",
       "      <td>1409</td>\n",
       "      <td>0</td>\n",
       "      <td>0</td>\n",
       "      <td>0</td>\n",
       "      <td>0</td>\n",
       "      <td>0.00</td>\n",
       "      <td>0.00</td>\n",
       "      <td>0</td>\n",
       "      <td>1</td>\n",
       "      <td>0</td>\n",
       "    </tr>\n",
       "    <tr>\n",
       "      <th>100469</th>\n",
       "      <td>3c52461e-0338-4328-89b4-41ae3034f66e</td>\n",
       "      <td>11</td>\n",
       "      <td>Unknown</td>\n",
       "      <td>0</td>\n",
       "      <td>0</td>\n",
       "      <td>2206</td>\n",
       "      <td>60</td>\n",
       "      <td>1300</td>\n",
       "      <td>100</td>\n",
       "      <td>1946</td>\n",
       "      <td>0</td>\n",
       "      <td>0.59</td>\n",
       "      <td>0.88</td>\n",
       "      <td>0</td>\n",
       "      <td>1</td>\n",
       "      <td>1</td>\n",
       "    </tr>\n",
       "  </tbody>\n",
       "</table>\n",
       "<p>6642 rows × 16 columns</p>\n",
       "</div>"
      ],
      "text/plain": [
       "                                       AccID  CategoryID Category   Value  \\\n",
       "10      d88ba925-12d2-45aa-98f6-108edaf3cc76          11  Unknown       0   \n",
       "19      2f05be78-29eb-4789-8073-3a7cfafbca32          11  Unknown       0   \n",
       "34      4720b209-7cb8-46af-9b74-879f21280053          11  Unknown       0   \n",
       "36      8b866cac-39ad-4369-b27b-628394842bc7          11  Unknown       0   \n",
       "52      91cebaca-6bf1-40ac-a3d5-212763802b0f          11  Unknown       0   \n",
       "...                                      ...         ...      ...     ...   \n",
       "100448  ff8b70a7-48a8-4b14-815a-4255d4b48664          11  Unknown  165000   \n",
       "100460  9be30d56-337e-4f88-92df-19b6d518d7b4          11  Unknown  357000   \n",
       "100462  a3a11f4f-f576-4346-9b2e-8bf0c62318c8          11  Unknown       0   \n",
       "100467  1541b5cb-993c-405f-ba38-d9d548f91018          11  Unknown       0   \n",
       "100469  3c52461e-0338-4328-89b4-41ae3034f66e          11  Unknown       0   \n",
       "\n",
       "        PropertySize  BillingAmt  AverageBillingAmt  CollectedAmt  \\\n",
       "10                 0         114                  9             0   \n",
       "19                 0       -2784               -398             0   \n",
       "34                 0       -2352                -36           176   \n",
       "36                 0       -4311              -1437             0   \n",
       "52                 0        2206                 60          3355   \n",
       "...              ...         ...                ...           ...   \n",
       "100448           320        7445                103             0   \n",
       "100460           264        8306                 99          6000   \n",
       "100462           248       -1174                -21           120   \n",
       "100467             0        1409               1409             0   \n",
       "100469             0        2206                 60          1300   \n",
       "\n",
       "        AverageCollectedAmt  DebtAmt  WriteOffAmt  CollectionRatio  \\\n",
       "10                        0     7510            0             0.00   \n",
       "19                        0     2784            0             0.00   \n",
       "34                       22     2592            0            -0.07   \n",
       "36                        0     4311            0             0.00   \n",
       "52                      305     4834            0             1.52   \n",
       "...                     ...      ...          ...              ...   \n",
       "100448                    0    92537            0             0.00   \n",
       "100460                 3000    34071            0             0.72   \n",
       "100462                   60        0            0            -0.10   \n",
       "100467                    0        0            0             0.00   \n",
       "100469                  100     1946            0             0.59   \n",
       "\n",
       "        DebtBillingRatio  TotalElectricityBill  HasID  Label  \n",
       "10                 66.12                     0      0      1  \n",
       "19                 -1.00                     0      1      1  \n",
       "34                 -1.10                     0      1      1  \n",
       "36                 -1.00                     0      1      1  \n",
       "52                  2.19                     0      1      1  \n",
       "...                  ...                   ...    ...    ...  \n",
       "100448             12.43                     0      0      1  \n",
       "100460              4.10                     0      0      1  \n",
       "100462              0.00                     0      1      0  \n",
       "100467              0.00                     0      1      0  \n",
       "100469              0.88                     0      1      1  \n",
       "\n",
       "[6642 rows x 16 columns]"
      ]
     },
     "execution_count": 8,
     "metadata": {},
     "output_type": "execute_result"
    }
   ],
   "source": [
    "data_x=data[data[\"Category\"]== \"Unknown\"] #keep the unknown \n",
    "data_x"
   ]
  },
  {
   "cell_type": "code",
   "execution_count": 9,
   "metadata": {
    "scrolled": true
   },
   "outputs": [
    {
     "data": {
      "text/html": [
       "<div>\n",
       "<style scoped>\n",
       "    .dataframe tbody tr th:only-of-type {\n",
       "        vertical-align: middle;\n",
       "    }\n",
       "\n",
       "    .dataframe tbody tr th {\n",
       "        vertical-align: top;\n",
       "    }\n",
       "\n",
       "    .dataframe thead th {\n",
       "        text-align: right;\n",
       "    }\n",
       "</style>\n",
       "<table border=\"1\" class=\"dataframe\">\n",
       "  <thead>\n",
       "    <tr style=\"text-align: right;\">\n",
       "      <th></th>\n",
       "      <th>AccID</th>\n",
       "      <th>CategoryID</th>\n",
       "      <th>Category</th>\n",
       "      <th>Value</th>\n",
       "      <th>PropertySize</th>\n",
       "      <th>BillingAmt</th>\n",
       "      <th>AverageBillingAmt</th>\n",
       "      <th>CollectedAmt</th>\n",
       "      <th>AverageCollectedAmt</th>\n",
       "      <th>DebtAmt</th>\n",
       "      <th>WriteOffAmt</th>\n",
       "      <th>CollectionRatio</th>\n",
       "      <th>DebtBillingRatio</th>\n",
       "      <th>TotalElectricityBill</th>\n",
       "      <th>HasID</th>\n",
       "      <th>Label</th>\n",
       "    </tr>\n",
       "  </thead>\n",
       "  <tbody>\n",
       "    <tr>\n",
       "      <th>78102</th>\n",
       "      <td>893c2524-5290-4b3c-8b35-0843eec9bb60</td>\n",
       "      <td>13</td>\n",
       "      <td>Environmental Management</td>\n",
       "      <td>1800000</td>\n",
       "      <td>210387</td>\n",
       "      <td>548</td>\n",
       "      <td>42</td>\n",
       "      <td>557</td>\n",
       "      <td>557</td>\n",
       "      <td>0</td>\n",
       "      <td>0</td>\n",
       "      <td>1.02</td>\n",
       "      <td>0.00</td>\n",
       "      <td>0</td>\n",
       "      <td>0</td>\n",
       "      <td>0</td>\n",
       "    </tr>\n",
       "    <tr>\n",
       "      <th>79815</th>\n",
       "      <td>85ab0797-4e11-45b0-8e8b-f08c7c9656ca</td>\n",
       "      <td>13</td>\n",
       "      <td>Environmental Management</td>\n",
       "      <td>2700000</td>\n",
       "      <td>0</td>\n",
       "      <td>-626</td>\n",
       "      <td>-42</td>\n",
       "      <td>0</td>\n",
       "      <td>0</td>\n",
       "      <td>554</td>\n",
       "      <td>0</td>\n",
       "      <td>0.00</td>\n",
       "      <td>-0.88</td>\n",
       "      <td>0</td>\n",
       "      <td>0</td>\n",
       "      <td>1</td>\n",
       "    </tr>\n",
       "  </tbody>\n",
       "</table>\n",
       "</div>"
      ],
      "text/plain": [
       "                                      AccID  CategoryID  \\\n",
       "78102  893c2524-5290-4b3c-8b35-0843eec9bb60          13   \n",
       "79815  85ab0797-4e11-45b0-8e8b-f08c7c9656ca          13   \n",
       "\n",
       "                       Category    Value  PropertySize  BillingAmt  \\\n",
       "78102  Environmental Management  1800000        210387         548   \n",
       "79815  Environmental Management  2700000             0        -626   \n",
       "\n",
       "       AverageBillingAmt  CollectedAmt  AverageCollectedAmt  DebtAmt  \\\n",
       "78102                 42           557                  557        0   \n",
       "79815                -42             0                    0      554   \n",
       "\n",
       "       WriteOffAmt  CollectionRatio  DebtBillingRatio  TotalElectricityBill  \\\n",
       "78102            0             1.02              0.00                     0   \n",
       "79815            0             0.00             -0.88                     0   \n",
       "\n",
       "       HasID  Label  \n",
       "78102      0      0  \n",
       "79815      0      1  "
      ]
     },
     "execution_count": 9,
     "metadata": {},
     "output_type": "execute_result"
    }
   ],
   "source": [
    "data_em=data[data[\"Category\"]== \"Environmental Management\"] #there is no Environmental Management value at the test data so we can drop the rows that have Environmental Management\n",
    "data_em"
   ]
  },
  {
   "cell_type": "code",
   "execution_count": 10,
   "metadata": {},
   "outputs": [],
   "source": [
    "data.drop(data_em.index, axis=0, inplace=True)"
   ]
  },
  {
   "cell_type": "code",
   "execution_count": 11,
   "metadata": {},
   "outputs": [
    {
     "data": {
      "text/plain": [
       "11"
      ]
     },
     "execution_count": 11,
     "metadata": {},
     "output_type": "execute_result"
    }
   ],
   "source": [
    "data[\"CategoryID\"].nunique()"
   ]
  },
  {
   "cell_type": "code",
   "execution_count": 12,
   "metadata": {},
   "outputs": [
    {
     "data": {
      "text/plain": [
       "11"
      ]
     },
     "execution_count": 12,
     "metadata": {},
     "output_type": "execute_result"
    }
   ],
   "source": [
    "data[\"Category\"].nunique()"
   ]
  },
  {
   "cell_type": "code",
   "execution_count": 13,
   "metadata": {},
   "outputs": [],
   "source": [
    "data.drop(columns=[\"CategoryID\",\"AccID\"],inplace=True) # Category and CategoryID is same so drop one of them"
   ]
  },
  {
   "cell_type": "code",
   "execution_count": 14,
   "metadata": {},
   "outputs": [
    {
     "data": {
      "text/plain": [
       "0"
      ]
     },
     "execution_count": 14,
     "metadata": {},
     "output_type": "execute_result"
    }
   ],
   "source": [
    "data.duplicated().sum() #no duplicated column"
   ]
  },
  {
   "cell_type": "code",
   "execution_count": 15,
   "metadata": {
    "scrolled": true
   },
   "outputs": [
    {
     "data": {
      "text/plain": [
       "Category                 object\n",
       "Value                     int64\n",
       "PropertySize              int64\n",
       "BillingAmt                int64\n",
       "AverageBillingAmt         int64\n",
       "CollectedAmt              int64\n",
       "AverageCollectedAmt       int64\n",
       "DebtAmt                   int64\n",
       "WriteOffAmt               int64\n",
       "CollectionRatio         float64\n",
       "DebtBillingRatio        float64\n",
       "TotalElectricityBill      int64\n",
       "HasID                     int64\n",
       "Label                     int64\n",
       "dtype: object"
      ]
     },
     "execution_count": 15,
     "metadata": {},
     "output_type": "execute_result"
    }
   ],
   "source": [
    "data.dtypes"
   ]
  },
  {
   "cell_type": "code",
   "execution_count": 16,
   "metadata": {},
   "outputs": [],
   "source": [
    "data[\"Category\"]=data[\"Category\"].astype(\"category\")"
   ]
  },
  {
   "cell_type": "code",
   "execution_count": 17,
   "metadata": {
    "scrolled": true
   },
   "outputs": [
    {
     "data": {
      "text/html": [
       "<div>\n",
       "<style scoped>\n",
       "    .dataframe tbody tr th:only-of-type {\n",
       "        vertical-align: middle;\n",
       "    }\n",
       "\n",
       "    .dataframe tbody tr th {\n",
       "        vertical-align: top;\n",
       "    }\n",
       "\n",
       "    .dataframe thead th {\n",
       "        text-align: right;\n",
       "    }\n",
       "</style>\n",
       "<table border=\"1\" class=\"dataframe\">\n",
       "  <thead>\n",
       "    <tr style=\"text-align: right;\">\n",
       "      <th></th>\n",
       "      <th>count</th>\n",
       "      <th>mean</th>\n",
       "      <th>std</th>\n",
       "      <th>min</th>\n",
       "      <th>25%</th>\n",
       "      <th>50%</th>\n",
       "      <th>75%</th>\n",
       "      <th>max</th>\n",
       "    </tr>\n",
       "  </thead>\n",
       "  <tbody>\n",
       "    <tr>\n",
       "      <th>Value</th>\n",
       "      <td>100474.0</td>\n",
       "      <td>706990.040379</td>\n",
       "      <td>3.047485e+06</td>\n",
       "      <td>0.0</td>\n",
       "      <td>35000.0</td>\n",
       "      <td>93000.0</td>\n",
       "      <td>750000.00</td>\n",
       "      <td>421860000.0</td>\n",
       "    </tr>\n",
       "    <tr>\n",
       "      <th>PropertySize</th>\n",
       "      <td>100474.0</td>\n",
       "      <td>746835.479169</td>\n",
       "      <td>5.651614e+06</td>\n",
       "      <td>0.0</td>\n",
       "      <td>276.0</td>\n",
       "      <td>511.0</td>\n",
       "      <td>1162.00</td>\n",
       "      <td>270515963.0</td>\n",
       "    </tr>\n",
       "    <tr>\n",
       "      <th>BillingAmt</th>\n",
       "      <td>100474.0</td>\n",
       "      <td>10899.731821</td>\n",
       "      <td>1.262354e+05</td>\n",
       "      <td>-4232630.0</td>\n",
       "      <td>461.0</td>\n",
       "      <td>3141.0</td>\n",
       "      <td>8715.00</td>\n",
       "      <td>26133617.0</td>\n",
       "    </tr>\n",
       "    <tr>\n",
       "      <th>AverageBillingAmt</th>\n",
       "      <td>100474.0</td>\n",
       "      <td>575.497940</td>\n",
       "      <td>6.430373e+03</td>\n",
       "      <td>-79384.0</td>\n",
       "      <td>23.0</td>\n",
       "      <td>107.0</td>\n",
       "      <td>281.00</td>\n",
       "      <td>805044.0</td>\n",
       "    </tr>\n",
       "    <tr>\n",
       "      <th>CollectedAmt</th>\n",
       "      <td>100474.0</td>\n",
       "      <td>9763.834295</td>\n",
       "      <td>1.201461e+05</td>\n",
       "      <td>-219260.0</td>\n",
       "      <td>0.0</td>\n",
       "      <td>360.0</td>\n",
       "      <td>7402.75</td>\n",
       "      <td>24371134.0</td>\n",
       "    </tr>\n",
       "    <tr>\n",
       "      <th>AverageCollectedAmt</th>\n",
       "      <td>100474.0</td>\n",
       "      <td>2044.722943</td>\n",
       "      <td>3.682523e+04</td>\n",
       "      <td>-219260.0</td>\n",
       "      <td>0.0</td>\n",
       "      <td>100.0</td>\n",
       "      <td>768.00</td>\n",
       "      <td>6828297.0</td>\n",
       "    </tr>\n",
       "    <tr>\n",
       "      <th>DebtAmt</th>\n",
       "      <td>100474.0</td>\n",
       "      <td>9642.686496</td>\n",
       "      <td>5.003061e+04</td>\n",
       "      <td>0.0</td>\n",
       "      <td>0.0</td>\n",
       "      <td>0.0</td>\n",
       "      <td>2298.00</td>\n",
       "      <td>6322610.0</td>\n",
       "    </tr>\n",
       "    <tr>\n",
       "      <th>WriteOffAmt</th>\n",
       "      <td>100474.0</td>\n",
       "      <td>602.777325</td>\n",
       "      <td>1.440929e+04</td>\n",
       "      <td>0.0</td>\n",
       "      <td>0.0</td>\n",
       "      <td>0.0</td>\n",
       "      <td>0.00</td>\n",
       "      <td>4306605.0</td>\n",
       "    </tr>\n",
       "    <tr>\n",
       "      <th>CollectionRatio</th>\n",
       "      <td>100474.0</td>\n",
       "      <td>19.536586</td>\n",
       "      <td>5.557047e+03</td>\n",
       "      <td>-115000.0</td>\n",
       "      <td>0.0</td>\n",
       "      <td>0.5</td>\n",
       "      <td>1.00</td>\n",
       "      <td>1701912.0</td>\n",
       "    </tr>\n",
       "    <tr>\n",
       "      <th>DebtBillingRatio</th>\n",
       "      <td>100474.0</td>\n",
       "      <td>18.633273</td>\n",
       "      <td>6.274782e+03</td>\n",
       "      <td>-436506.0</td>\n",
       "      <td>0.0</td>\n",
       "      <td>0.0</td>\n",
       "      <td>1.28</td>\n",
       "      <td>1836304.0</td>\n",
       "    </tr>\n",
       "    <tr>\n",
       "      <th>TotalElectricityBill</th>\n",
       "      <td>100474.0</td>\n",
       "      <td>4338.793588</td>\n",
       "      <td>1.050324e+05</td>\n",
       "      <td>-220289.0</td>\n",
       "      <td>0.0</td>\n",
       "      <td>0.0</td>\n",
       "      <td>88.00</td>\n",
       "      <td>22711689.0</td>\n",
       "    </tr>\n",
       "    <tr>\n",
       "      <th>HasID</th>\n",
       "      <td>100474.0</td>\n",
       "      <td>0.427643</td>\n",
       "      <td>4.947392e-01</td>\n",
       "      <td>0.0</td>\n",
       "      <td>0.0</td>\n",
       "      <td>0.0</td>\n",
       "      <td>1.00</td>\n",
       "      <td>1.0</td>\n",
       "    </tr>\n",
       "    <tr>\n",
       "      <th>Label</th>\n",
       "      <td>100474.0</td>\n",
       "      <td>0.461423</td>\n",
       "      <td>4.985121e-01</td>\n",
       "      <td>0.0</td>\n",
       "      <td>0.0</td>\n",
       "      <td>0.0</td>\n",
       "      <td>1.00</td>\n",
       "      <td>1.0</td>\n",
       "    </tr>\n",
       "  </tbody>\n",
       "</table>\n",
       "</div>"
      ],
      "text/plain": [
       "                         count           mean           std        min  \\\n",
       "Value                 100474.0  706990.040379  3.047485e+06        0.0   \n",
       "PropertySize          100474.0  746835.479169  5.651614e+06        0.0   \n",
       "BillingAmt            100474.0   10899.731821  1.262354e+05 -4232630.0   \n",
       "AverageBillingAmt     100474.0     575.497940  6.430373e+03   -79384.0   \n",
       "CollectedAmt          100474.0    9763.834295  1.201461e+05  -219260.0   \n",
       "AverageCollectedAmt   100474.0    2044.722943  3.682523e+04  -219260.0   \n",
       "DebtAmt               100474.0    9642.686496  5.003061e+04        0.0   \n",
       "WriteOffAmt           100474.0     602.777325  1.440929e+04        0.0   \n",
       "CollectionRatio       100474.0      19.536586  5.557047e+03  -115000.0   \n",
       "DebtBillingRatio      100474.0      18.633273  6.274782e+03  -436506.0   \n",
       "TotalElectricityBill  100474.0    4338.793588  1.050324e+05  -220289.0   \n",
       "HasID                 100474.0       0.427643  4.947392e-01        0.0   \n",
       "Label                 100474.0       0.461423  4.985121e-01        0.0   \n",
       "\n",
       "                          25%      50%        75%          max  \n",
       "Value                 35000.0  93000.0  750000.00  421860000.0  \n",
       "PropertySize            276.0    511.0    1162.00  270515963.0  \n",
       "BillingAmt              461.0   3141.0    8715.00   26133617.0  \n",
       "AverageBillingAmt        23.0    107.0     281.00     805044.0  \n",
       "CollectedAmt              0.0    360.0    7402.75   24371134.0  \n",
       "AverageCollectedAmt       0.0    100.0     768.00    6828297.0  \n",
       "DebtAmt                   0.0      0.0    2298.00    6322610.0  \n",
       "WriteOffAmt               0.0      0.0       0.00    4306605.0  \n",
       "CollectionRatio           0.0      0.5       1.00    1701912.0  \n",
       "DebtBillingRatio          0.0      0.0       1.28    1836304.0  \n",
       "TotalElectricityBill      0.0      0.0      88.00   22711689.0  \n",
       "HasID                     0.0      0.0       1.00          1.0  \n",
       "Label                     0.0      0.0       1.00          1.0  "
      ]
     },
     "execution_count": 17,
     "metadata": {},
     "output_type": "execute_result"
    }
   ],
   "source": [
    "data.describe().T"
   ]
  },
  {
   "cell_type": "code",
   "execution_count": 18,
   "metadata": {},
   "outputs": [],
   "source": [
    "data[\"HasID\"]=data[\"HasID\"].astype(\"category\")"
   ]
  },
  {
   "cell_type": "code",
   "execution_count": 19,
   "metadata": {},
   "outputs": [],
   "source": [
    "data[\"Label\"]=data[\"Label\"].astype(\"category\")"
   ]
  },
  {
   "cell_type": "code",
   "execution_count": 20,
   "metadata": {},
   "outputs": [],
   "source": [
    "df=data.copy()"
   ]
  },
  {
   "cell_type": "code",
   "execution_count": 21,
   "metadata": {},
   "outputs": [
    {
     "data": {
      "text/plain": [
       "Index(['Category', 'Value', 'PropertySize', 'BillingAmt', 'AverageBillingAmt',\n",
       "       'CollectedAmt', 'AverageCollectedAmt', 'DebtAmt', 'WriteOffAmt',\n",
       "       'CollectionRatio', 'DebtBillingRatio', 'TotalElectricityBill', 'HasID',\n",
       "       'Label'],\n",
       "      dtype='object')"
      ]
     },
     "execution_count": 21,
     "metadata": {},
     "output_type": "execute_result"
    }
   ],
   "source": [
    "df.columns"
   ]
  },
  {
   "cell_type": "code",
   "execution_count": 22,
   "metadata": {},
   "outputs": [
    {
     "name": "stderr",
     "output_type": "stream",
     "text": [
      "C:\\Users\\kayaf\\anaconda3\\lib\\site-packages\\seaborn\\_decorators.py:36: FutureWarning: Pass the following variable as a keyword arg: x. From version 0.12, the only valid positional argument will be `data`, and passing other arguments without an explicit keyword will result in an error or misinterpretation.\n",
      "  warnings.warn(\n"
     ]
    },
    {
     "data": {
      "text/plain": [
       "(array([ 0,  1,  2,  3,  4,  5,  6,  7,  8,  9, 10]),\n",
       " <a list of 11 Text major ticklabel objects>)"
      ]
     },
     "execution_count": 22,
     "metadata": {},
     "output_type": "execute_result"
    },
    {
     "data": {
      "image/png": "[encoded data removed]",
      "text/plain": [
       "<Figure size 720x360 with 1 Axes>"
      ]
     },
     "metadata": {
      "needs_background": "light"
     },
     "output_type": "display_data"
    }
   ],
   "source": [
    "plt.figure(figsize=(10,5))\n",
    "sns.countplot(df[\"Category\"]) #residential is more than other\n",
    "plt.xticks(rotation=90)"
   ]
  },
  {
   "cell_type": "code",
   "execution_count": 23,
   "metadata": {
    "scrolled": true
   },
   "outputs": [
    {
     "data": {
      "text/plain": [
       "(array([0, 1]), <a list of 2 Text major ticklabel objects>)"
      ]
     },
     "execution_count": 23,
     "metadata": {},
     "output_type": "execute_result"
    },
    {
     "data": {
      "image/png": "[encoded data removed]",
      "text/plain": [
       "<Figure size 720x360 with 1 Axes>"
      ]
     },
     "metadata": {
      "needs_background": "light"
     },
     "output_type": "display_data"
    }
   ],
   "source": [
    "plt.figure(figsize=(10,5))\n",
    "sns.countplot(df[\"HasID\"])\n",
    "plt.xticks(rotation=90)"
   ]
  },
  {
   "cell_type": "code",
   "execution_count": 24,
   "metadata": {},
   "outputs": [
    {
     "data": {
      "text/plain": [
       "(array([0, 1]), <a list of 2 Text major ticklabel objects>)"
      ]
     },
     "execution_count": 24,
     "metadata": {},
     "output_type": "execute_result"
    },
    {
     "data": {
      "image/png": "[encoded data removed]",
      "text/plain": [
       "<Figure size 720x360 with 1 Axes>"
      ]
     },
     "metadata": {
      "needs_background": "light"
     },
     "output_type": "display_data"
    }
   ],
   "source": [
    "plt.figure(figsize=(10,5))\n",
    "sns.countplot(df[\"Label\"])\n",
    "plt.xticks(rotation=90)"
   ]
  },
  {
   "cell_type": "code",
   "execution_count": 25,
   "metadata": {},
   "outputs": [
    {
     "name": "stderr",
     "output_type": "stream",
     "text": [
      "C:\\Users\\kayaf\\anaconda3\\lib\\site-packages\\seaborn\\distributions.py:2619: FutureWarning: `distplot` is a deprecated function and will be removed in a future version. Please adapt your code to use either `displot` (a figure-level function with similar flexibility) or `histplot` (an axes-level function for histograms).\n",
      "  warnings.warn(msg, FutureWarning)\n"
     ]
    },
    {
     "data": {
      "text/plain": [
       "<matplotlib.axes._subplots.AxesSubplot at 0x1fa87cdfeb0>"
      ]
     },
     "execution_count": 25,
     "metadata": {},
     "output_type": "execute_result"
    },
    {
     "data": {
      "image/png": "[encoded data removed]",
      "text/plain": [
       "<Figure size 720x360 with 1 Axes>"
      ]
     },
     "metadata": {
      "needs_background": "light"
     },
     "output_type": "display_data"
    }
   ],
   "source": [
    "plt.figure(figsize=(10,5))\n",
    "sns.distplot(df[\"Value\"]) #it is skewed\n"
   ]
  },
  {
   "cell_type": "code",
   "execution_count": 26,
   "metadata": {},
   "outputs": [
    {
     "name": "stderr",
     "output_type": "stream",
     "text": [
      "C:\\Users\\kayaf\\anaconda3\\lib\\site-packages\\seaborn\\_decorators.py:36: FutureWarning: Pass the following variable as a keyword arg: x. From version 0.12, the only valid positional argument will be `data`, and passing other arguments without an explicit keyword will result in an error or misinterpretation.\n",
      "  warnings.warn(\n"
     ]
    },
    {
     "data": {
      "text/plain": [
       "<matplotlib.axes._subplots.AxesSubplot at 0x1fa87dba4f0>"
      ]
     },
     "execution_count": 26,
     "metadata": {},
     "output_type": "execute_result"
    },
    {
     "data": {
      "image/png": "[encoded data removed]",
      "text/plain": [
       "<Figure size 720x360 with 1 Axes>"
      ]
     },
     "metadata": {
      "needs_background": "light"
     },
     "output_type": "display_data"
    }
   ],
   "source": [
    "plt.figure(figsize=(10,5)) #there are outliers\n",
    "sns.boxplot(df[\"Value\"]) "
   ]
  },
  {
   "cell_type": "code",
   "execution_count": 27,
   "metadata": {},
   "outputs": [
    {
     "name": "stderr",
     "output_type": "stream",
     "text": [
      "C:\\Users\\kayaf\\anaconda3\\lib\\site-packages\\seaborn\\distributions.py:2619: FutureWarning: `distplot` is a deprecated function and will be removed in a future version. Please adapt your code to use either `displot` (a figure-level function with similar flexibility) or `histplot` (an axes-level function for histograms).\n",
      "  warnings.warn(msg, FutureWarning)\n"
     ]
    },
    {
     "data": {
      "text/plain": [
       "<matplotlib.axes._subplots.AxesSubplot at 0x1fa8a4a4370>"
      ]
     },
     "execution_count": 27,
     "metadata": {},
     "output_type": "execute_result"
    },
    {
     "data": {
      "image/png": "[encoded data removed]",
      "text/plain": [
       "<Figure size 720x360 with 1 Axes>"
      ]
     },
     "metadata": {
      "needs_background": "light"
     },
     "output_type": "display_data"
    }
   ],
   "source": [
    "plt.figure(figsize=(10,5)) #it is skewed\n",
    "sns.distplot(df[\"PropertySize\"])"
   ]
  },
  {
   "cell_type": "code",
   "execution_count": 28,
   "metadata": {},
   "outputs": [
    {
     "name": "stderr",
     "output_type": "stream",
     "text": [
      "C:\\Users\\kayaf\\anaconda3\\lib\\site-packages\\seaborn\\_decorators.py:36: FutureWarning: Pass the following variable as a keyword arg: x. From version 0.12, the only valid positional argument will be `data`, and passing other arguments without an explicit keyword will result in an error or misinterpretation.\n",
      "  warnings.warn(\n"
     ]
    },
    {
     "data": {
      "text/plain": [
       "<matplotlib.axes._subplots.AxesSubplot at 0x1fa8a4ae940>"
      ]
     },
     "execution_count": 28,
     "metadata": {},
     "output_type": "execute_result"
    },
    {
     "data": {
      "image/png": "[encoded data removed]",
      "text/plain": [
       "<Figure size 720x360 with 1 Axes>"
      ]
     },
     "metadata": {
      "needs_background": "light"
     },
     "output_type": "display_data"
    }
   ],
   "source": [
    "plt.figure(figsize=(10,5)) \n",
    "sns.boxplot(df[\"PropertySize\"]) #there are outliers"
   ]
  },
  {
   "cell_type": "code",
   "execution_count": 29,
   "metadata": {},
   "outputs": [
    {
     "name": "stderr",
     "output_type": "stream",
     "text": [
      "C:\\Users\\kayaf\\anaconda3\\lib\\site-packages\\seaborn\\distributions.py:2619: FutureWarning: `distplot` is a deprecated function and will be removed in a future version. Please adapt your code to use either `displot` (a figure-level function with similar flexibility) or `histplot` (an axes-level function for histograms).\n",
      "  warnings.warn(msg, FutureWarning)\n"
     ]
    },
    {
     "data": {
      "text/plain": [
       "<matplotlib.axes._subplots.AxesSubplot at 0x1fa8a5e7070>"
      ]
     },
     "execution_count": 29,
     "metadata": {},
     "output_type": "execute_result"
    },
    {
     "data": {
      "image/png": "[encoded data removed]",
      "text/plain": [
       "<Figure size 720x360 with 1 Axes>"
      ]
     },
     "metadata": {
      "needs_background": "light"
     },
     "output_type": "display_data"
    }
   ],
   "source": [
    "plt.figure(figsize=(10,5))\n",
    "sns.distplot(df[\"BillingAmt\"]) #it is skewed"
   ]
  },
  {
   "cell_type": "code",
   "execution_count": 30,
   "metadata": {},
   "outputs": [
    {
     "name": "stderr",
     "output_type": "stream",
     "text": [
      "C:\\Users\\kayaf\\anaconda3\\lib\\site-packages\\seaborn\\_decorators.py:36: FutureWarning: Pass the following variable as a keyword arg: x. From version 0.12, the only valid positional argument will be `data`, and passing other arguments without an explicit keyword will result in an error or misinterpretation.\n",
      "  warnings.warn(\n"
     ]
    },
    {
     "data": {
      "text/plain": [
       "<matplotlib.axes._subplots.AxesSubplot at 0x1fa8a4f48e0>"
      ]
     },
     "execution_count": 30,
     "metadata": {},
     "output_type": "execute_result"
    },
    {
     "data": {
      "image/png": "[encoded data removed]",
      "text/plain": [
       "<Figure size 720x360 with 1 Axes>"
      ]
     },
     "metadata": {
      "needs_background": "light"
     },
     "output_type": "display_data"
    }
   ],
   "source": [
    "plt.figure(figsize=(10,5)) \n",
    "sns.boxplot(df[\"BillingAmt\"]) #there are outliers"
   ]
  },
  {
   "cell_type": "code",
   "execution_count": 31,
   "metadata": {},
   "outputs": [
    {
     "name": "stderr",
     "output_type": "stream",
     "text": [
      "C:\\Users\\kayaf\\anaconda3\\lib\\site-packages\\seaborn\\distributions.py:2619: FutureWarning: `distplot` is a deprecated function and will be removed in a future version. Please adapt your code to use either `displot` (a figure-level function with similar flexibility) or `histplot` (an axes-level function for histograms).\n",
      "  warnings.warn(msg, FutureWarning)\n"
     ]
    },
    {
     "data": {
      "text/plain": [
       "<matplotlib.axes._subplots.AxesSubplot at 0x1fa87e6dbb0>"
      ]
     },
     "execution_count": 31,
     "metadata": {},
     "output_type": "execute_result"
    },
    {
     "data": {
      "image/png": "[encoded data removed]",
      "text/plain": [
       "<Figure size 720x360 with 1 Axes>"
      ]
     },
     "metadata": {
      "needs_background": "light"
     },
     "output_type": "display_data"
    }
   ],
   "source": [
    "plt.figure(figsize=(10,5))\n",
    "sns.distplot(df[\"AverageBillingAmt\"]) #it is skewed"
   ]
  },
  {
   "cell_type": "code",
   "execution_count": 32,
   "metadata": {},
   "outputs": [
    {
     "name": "stderr",
     "output_type": "stream",
     "text": [
      "C:\\Users\\kayaf\\anaconda3\\lib\\site-packages\\seaborn\\_decorators.py:36: FutureWarning: Pass the following variable as a keyword arg: x. From version 0.12, the only valid positional argument will be `data`, and passing other arguments without an explicit keyword will result in an error or misinterpretation.\n",
      "  warnings.warn(\n"
     ]
    },
    {
     "data": {
      "text/plain": [
       "<matplotlib.axes._subplots.AxesSubplot at 0x1fa8a7b0370>"
      ]
     },
     "execution_count": 32,
     "metadata": {},
     "output_type": "execute_result"
    },
    {
     "data": {
      "image/png": "[encoded data removed]",
      "text/plain": [
       "<Figure size 720x360 with 1 Axes>"
      ]
     },
     "metadata": {
      "needs_background": "light"
     },
     "output_type": "display_data"
    }
   ],
   "source": [
    "plt.figure(figsize=(10,5)) \n",
    "sns.boxplot(df[\"AverageBillingAmt\"]) #there are outliers"
   ]
  },
  {
   "cell_type": "code",
   "execution_count": 33,
   "metadata": {},
   "outputs": [
    {
     "name": "stderr",
     "output_type": "stream",
     "text": [
      "C:\\Users\\kayaf\\anaconda3\\lib\\site-packages\\seaborn\\distributions.py:2619: FutureWarning: `distplot` is a deprecated function and will be removed in a future version. Please adapt your code to use either `displot` (a figure-level function with similar flexibility) or `histplot` (an axes-level function for histograms).\n",
      "  warnings.warn(msg, FutureWarning)\n"
     ]
    },
    {
     "data": {
      "text/plain": [
       "<matplotlib.axes._subplots.AxesSubplot at 0x1fa8a7b0520>"
      ]
     },
     "execution_count": 33,
     "metadata": {},
     "output_type": "execute_result"
    },
    {
     "data": {
      "image/png": "[encoded data removed]",
      "text/plain": [
       "<Figure size 720x360 with 1 Axes>"
      ]
     },
     "metadata": {
      "needs_background": "light"
     },
     "output_type": "display_data"
    }
   ],
   "source": [
    "plt.figure(figsize=(10,5))\n",
    "sns.distplot(df[\"CollectedAmt\"]) #it is skewed"
   ]
  },
  {
   "cell_type": "code",
   "execution_count": 34,
   "metadata": {},
   "outputs": [
    {
     "name": "stderr",
     "output_type": "stream",
     "text": [
      "C:\\Users\\kayaf\\anaconda3\\lib\\site-packages\\seaborn\\_decorators.py:36: FutureWarning: Pass the following variable as a keyword arg: x. From version 0.12, the only valid positional argument will be `data`, and passing other arguments without an explicit keyword will result in an error or misinterpretation.\n",
      "  warnings.warn(\n"
     ]
    },
    {
     "data": {
      "text/plain": [
       "<matplotlib.axes._subplots.AxesSubplot at 0x1fa8a725dc0>"
      ]
     },
     "execution_count": 34,
     "metadata": {},
     "output_type": "execute_result"
    },
    {
     "data": {
      "image/png": "[encoded data removed]",
      "text/plain": [
       "<Figure size 720x360 with 1 Axes>"
      ]
     },
     "metadata": {
      "needs_background": "light"
     },
     "output_type": "display_data"
    }
   ],
   "source": [
    "plt.figure(figsize=(10,5)) \n",
    "sns.boxplot(df[\"CollectedAmt\"]) #there are outliers"
   ]
  },
  {
   "cell_type": "code",
   "execution_count": 35,
   "metadata": {},
   "outputs": [
    {
     "name": "stderr",
     "output_type": "stream",
     "text": [
      "C:\\Users\\kayaf\\anaconda3\\lib\\site-packages\\seaborn\\distributions.py:2619: FutureWarning: `distplot` is a deprecated function and will be removed in a future version. Please adapt your code to use either `displot` (a figure-level function with similar flexibility) or `histplot` (an axes-level function for histograms).\n",
      "  warnings.warn(msg, FutureWarning)\n"
     ]
    },
    {
     "data": {
      "text/plain": [
       "<matplotlib.axes._subplots.AxesSubplot at 0x1fa8a95df40>"
      ]
     },
     "execution_count": 35,
     "metadata": {},
     "output_type": "execute_result"
    },
    {
     "data": {
      "image/png": "[encoded data removed]",
      "text/plain": [
       "<Figure size 720x360 with 1 Axes>"
      ]
     },
     "metadata": {
      "needs_background": "light"
     },
     "output_type": "display_data"
    }
   ],
   "source": [
    "plt.figure(figsize=(10,5))\n",
    "sns.distplot(df[\"AverageCollectedAmt\"]) #it is skewed"
   ]
  },
  {
   "cell_type": "code",
   "execution_count": 36,
   "metadata": {
    "scrolled": true
   },
   "outputs": [
    {
     "name": "stderr",
     "output_type": "stream",
     "text": [
      "C:\\Users\\kayaf\\anaconda3\\lib\\site-packages\\seaborn\\_decorators.py:36: FutureWarning: Pass the following variable as a keyword arg: x. From version 0.12, the only valid positional argument will be `data`, and passing other arguments without an explicit keyword will result in an error or misinterpretation.\n",
      "  warnings.warn(\n"
     ]
    },
    {
     "data": {
      "text/plain": [
       "<matplotlib.axes._subplots.AxesSubplot at 0x1fa8ba2c8b0>"
      ]
     },
     "execution_count": 36,
     "metadata": {},
     "output_type": "execute_result"
    },
    {
     "data": {
      "image/png": "[encoded data removed]",
      "text/plain": [
       "<Figure size 720x360 with 1 Axes>"
      ]
     },
     "metadata": {
      "needs_background": "light"
     },
     "output_type": "display_data"
    }
   ],
   "source": [
    "plt.figure(figsize=(10,5)) \n",
    "sns.boxplot(df[\"AverageCollectedAmt\"]) #there are outliers"
   ]
  },
  {
   "cell_type": "code",
   "execution_count": 37,
   "metadata": {},
   "outputs": [
    {
     "name": "stderr",
     "output_type": "stream",
     "text": [
      "C:\\Users\\kayaf\\anaconda3\\lib\\site-packages\\seaborn\\distributions.py:2619: FutureWarning: `distplot` is a deprecated function and will be removed in a future version. Please adapt your code to use either `displot` (a figure-level function with similar flexibility) or `histplot` (an axes-level function for histograms).\n",
      "  warnings.warn(msg, FutureWarning)\n"
     ]
    },
    {
     "data": {
      "text/plain": [
       "<matplotlib.axes._subplots.AxesSubplot at 0x1fa8ba7b190>"
      ]
     },
     "execution_count": 37,
     "metadata": {},
     "output_type": "execute_result"
    },
    {
     "data": {
      "image/png": "[encoded data removed]",
      "text/plain": [
       "<Figure size 720x360 with 1 Axes>"
      ]
     },
     "metadata": {
      "needs_background": "light"
     },
     "output_type": "display_data"
    }
   ],
   "source": [
    "plt.figure(figsize=(10,5))\n",
    "sns.distplot(df[\"DebtAmt\"]) #it is skewed"
   ]
  },
  {
   "cell_type": "code",
   "execution_count": 38,
   "metadata": {},
   "outputs": [
    {
     "name": "stderr",
     "output_type": "stream",
     "text": [
      "C:\\Users\\kayaf\\anaconda3\\lib\\site-packages\\seaborn\\_decorators.py:36: FutureWarning: Pass the following variable as a keyword arg: x. From version 0.12, the only valid positional argument will be `data`, and passing other arguments without an explicit keyword will result in an error or misinterpretation.\n",
      "  warnings.warn(\n"
     ]
    },
    {
     "data": {
      "text/plain": [
       "<matplotlib.axes._subplots.AxesSubplot at 0x1fa8bb4d940>"
      ]
     },
     "execution_count": 38,
     "metadata": {},
     "output_type": "execute_result"
    },
    {
     "data": {
      "image/png": "[encoded data removed]",
      "text/plain": [
       "<Figure size 720x360 with 1 Axes>"
      ]
     },
     "metadata": {
      "needs_background": "light"
     },
     "output_type": "display_data"
    }
   ],
   "source": [
    "plt.figure(figsize=(10,5)) \n",
    "sns.boxplot(df[\"DebtAmt\"]) #there are outliers"
   ]
  },
  {
   "cell_type": "code",
   "execution_count": 39,
   "metadata": {},
   "outputs": [
    {
     "name": "stderr",
     "output_type": "stream",
     "text": [
      "C:\\Users\\kayaf\\anaconda3\\lib\\site-packages\\seaborn\\distributions.py:2619: FutureWarning: `distplot` is a deprecated function and will be removed in a future version. Please adapt your code to use either `displot` (a figure-level function with similar flexibility) or `histplot` (an axes-level function for histograms).\n",
      "  warnings.warn(msg, FutureWarning)\n"
     ]
    },
    {
     "data": {
      "text/plain": [
       "<matplotlib.axes._subplots.AxesSubplot at 0x1fa8bbc6e50>"
      ]
     },
     "execution_count": 39,
     "metadata": {},
     "output_type": "execute_result"
    },
    {
     "data": {
      "image/png": "[encoded data removed]",
      "text/plain": [
       "<Figure size 720x360 with 1 Axes>"
      ]
     },
     "metadata": {
      "needs_background": "light"
     },
     "output_type": "display_data"
    }
   ],
   "source": [
    "plt.figure(figsize=(10,5))\n",
    "sns.distplot(df[\"WriteOffAmt\"]) #it is skewed"
   ]
  },
  {
   "cell_type": "code",
   "execution_count": 40,
   "metadata": {},
   "outputs": [
    {
     "name": "stderr",
     "output_type": "stream",
     "text": [
      "C:\\Users\\kayaf\\anaconda3\\lib\\site-packages\\seaborn\\_decorators.py:36: FutureWarning: Pass the following variable as a keyword arg: x. From version 0.12, the only valid positional argument will be `data`, and passing other arguments without an explicit keyword will result in an error or misinterpretation.\n",
      "  warnings.warn(\n"
     ]
    },
    {
     "data": {
      "text/plain": [
       "<matplotlib.axes._subplots.AxesSubplot at 0x1fa8bc6bdc0>"
      ]
     },
     "execution_count": 40,
     "metadata": {},
     "output_type": "execute_result"
    },
    {
     "data": {
      "image/png": "[encoded data removed]",
      "text/plain": [
       "<Figure size 720x360 with 1 Axes>"
      ]
     },
     "metadata": {
      "needs_background": "light"
     },
     "output_type": "display_data"
    }
   ],
   "source": [
    "plt.figure(figsize=(10,5)) \n",
    "sns.boxplot(df[\"WriteOffAmt\"]) #there are outliers"
   ]
  },
  {
   "cell_type": "code",
   "execution_count": 41,
   "metadata": {},
   "outputs": [
    {
     "name": "stderr",
     "output_type": "stream",
     "text": [
      "C:\\Users\\kayaf\\anaconda3\\lib\\site-packages\\seaborn\\distributions.py:2619: FutureWarning: `distplot` is a deprecated function and will be removed in a future version. Please adapt your code to use either `displot` (a figure-level function with similar flexibility) or `histplot` (an axes-level function for histograms).\n",
      "  warnings.warn(msg, FutureWarning)\n"
     ]
    },
    {
     "data": {
      "text/plain": [
       "<matplotlib.axes._subplots.AxesSubplot at 0x1fa8a899430>"
      ]
     },
     "execution_count": 41,
     "metadata": {},
     "output_type": "execute_result"
    },
    {
     "data": {
      "image/png": "[encoded data removed]",
      "text/plain": [
       "<Figure size 720x360 with 1 Axes>"
      ]
     },
     "metadata": {
      "needs_background": "light"
     },
     "output_type": "display_data"
    }
   ],
   "source": [
    "plt.figure(figsize=(10,5))\n",
    "sns.distplot(df[\"CollectionRatio\"]) #it is skewed"
   ]
  },
  {
   "cell_type": "code",
   "execution_count": 42,
   "metadata": {},
   "outputs": [
    {
     "name": "stderr",
     "output_type": "stream",
     "text": [
      "C:\\Users\\kayaf\\anaconda3\\lib\\site-packages\\seaborn\\_decorators.py:36: FutureWarning: Pass the following variable as a keyword arg: x. From version 0.12, the only valid positional argument will be `data`, and passing other arguments without an explicit keyword will result in an error or misinterpretation.\n",
      "  warnings.warn(\n"
     ]
    },
    {
     "data": {
      "text/plain": [
       "<matplotlib.axes._subplots.AxesSubplot at 0x1fa8bb79fd0>"
      ]
     },
     "execution_count": 42,
     "metadata": {},
     "output_type": "execute_result"
    },
    {
     "data": {
      "image/png": "[encoded data removed]",
      "text/plain": [
       "<Figure size 720x360 with 1 Axes>"
      ]
     },
     "metadata": {
      "needs_background": "light"
     },
     "output_type": "display_data"
    }
   ],
   "source": [
    "plt.figure(figsize=(10,5)) \n",
    "sns.boxplot(df[\"CollectionRatio\"])"
   ]
  },
  {
   "cell_type": "code",
   "execution_count": 43,
   "metadata": {},
   "outputs": [
    {
     "name": "stderr",
     "output_type": "stream",
     "text": [
      "C:\\Users\\kayaf\\anaconda3\\lib\\site-packages\\seaborn\\distributions.py:2619: FutureWarning: `distplot` is a deprecated function and will be removed in a future version. Please adapt your code to use either `displot` (a figure-level function with similar flexibility) or `histplot` (an axes-level function for histograms).\n",
      "  warnings.warn(msg, FutureWarning)\n"
     ]
    },
    {
     "data": {
      "text/plain": [
       "<matplotlib.axes._subplots.AxesSubplot at 0x1fa8bdfa700>"
      ]
     },
     "execution_count": 43,
     "metadata": {},
     "output_type": "execute_result"
    },
    {
     "data": {
      "image/png": "[encoded data removed]",
      "text/plain": [
       "<Figure size 720x360 with 1 Axes>"
      ]
     },
     "metadata": {
      "needs_background": "light"
     },
     "output_type": "display_data"
    }
   ],
   "source": [
    "plt.figure(figsize=(10,5))\n",
    "sns.distplot(df[\"DebtBillingRatio\"]) #it is skewed"
   ]
  },
  {
   "cell_type": "code",
   "execution_count": 44,
   "metadata": {},
   "outputs": [
    {
     "name": "stderr",
     "output_type": "stream",
     "text": [
      "C:\\Users\\kayaf\\anaconda3\\lib\\site-packages\\seaborn\\_decorators.py:36: FutureWarning: Pass the following variable as a keyword arg: x. From version 0.12, the only valid positional argument will be `data`, and passing other arguments without an explicit keyword will result in an error or misinterpretation.\n",
      "  warnings.warn(\n"
     ]
    },
    {
     "data": {
      "text/plain": [
       "<matplotlib.axes._subplots.AxesSubplot at 0x1fa8bea4b50>"
      ]
     },
     "execution_count": 44,
     "metadata": {},
     "output_type": "execute_result"
    },
    {
     "data": {
      "image/png": "[encoded data removed]",
      "text/plain": [
       "<Figure size 720x360 with 1 Axes>"
      ]
     },
     "metadata": {
      "needs_background": "light"
     },
     "output_type": "display_data"
    }
   ],
   "source": [
    "plt.figure(figsize=(10,5)) \n",
    "sns.boxplot(df[\"DebtBillingRatio\"]) #there are outliers"
   ]
  },
  {
   "cell_type": "code",
   "execution_count": 45,
   "metadata": {},
   "outputs": [
    {
     "name": "stderr",
     "output_type": "stream",
     "text": [
      "C:\\Users\\kayaf\\anaconda3\\lib\\site-packages\\seaborn\\distributions.py:2619: FutureWarning: `distplot` is a deprecated function and will be removed in a future version. Please adapt your code to use either `displot` (a figure-level function with similar flexibility) or `histplot` (an axes-level function for histograms).\n",
      "  warnings.warn(msg, FutureWarning)\n"
     ]
    },
    {
     "data": {
      "text/plain": [
       "<matplotlib.axes._subplots.AxesSubplot at 0x1fa8bf1cc10>"
      ]
     },
     "execution_count": 45,
     "metadata": {},
     "output_type": "execute_result"
    },
    {
     "data": {
      "image/png": "[encoded data removed]",
      "text/plain": [
       "<Figure size 720x360 with 1 Axes>"
      ]
     },
     "metadata": {
      "needs_background": "light"
     },
     "output_type": "display_data"
    }
   ],
   "source": [
    "plt.figure(figsize=(10,5))\n",
    "sns.distplot(df[\"TotalElectricityBill\"]) #it is skewed"
   ]
  },
  {
   "cell_type": "code",
   "execution_count": 46,
   "metadata": {
    "scrolled": false
   },
   "outputs": [
    {
     "name": "stderr",
     "output_type": "stream",
     "text": [
      "C:\\Users\\kayaf\\anaconda3\\lib\\site-packages\\seaborn\\_decorators.py:36: FutureWarning: Pass the following variable as a keyword arg: x. From version 0.12, the only valid positional argument will be `data`, and passing other arguments without an explicit keyword will result in an error or misinterpretation.\n",
      "  warnings.warn(\n"
     ]
    },
    {
     "data": {
      "text/plain": [
       "<matplotlib.axes._subplots.AxesSubplot at 0x1fa8c00ad90>"
      ]
     },
     "execution_count": 46,
     "metadata": {},
     "output_type": "execute_result"
    },
    {
     "data": {
      "image/png": "[encoded data removed]",
      "text/plain": [
       "<Figure size 720x360 with 1 Axes>"
      ]
     },
     "metadata": {
      "needs_background": "light"
     },
     "output_type": "display_data"
    }
   ],
   "source": [
    "plt.figure(figsize=(10,5)) \n",
    "sns.boxplot(df[\"TotalElectricityBill\"]) #there are outliers"
   ]
  },
  {
   "cell_type": "code",
   "execution_count": 47,
   "metadata": {},
   "outputs": [
    {
     "data": {
      "text/html": [
       "<div>\n",
       "<style scoped>\n",
       "    .dataframe tbody tr th:only-of-type {\n",
       "        vertical-align: middle;\n",
       "    }\n",
       "\n",
       "    .dataframe tbody tr th {\n",
       "        vertical-align: top;\n",
       "    }\n",
       "\n",
       "    .dataframe thead th {\n",
       "        text-align: right;\n",
       "    }\n",
       "</style>\n",
       "<table border=\"1\" class=\"dataframe\">\n",
       "  <thead>\n",
       "    <tr style=\"text-align: right;\">\n",
       "      <th></th>\n",
       "      <th>Value</th>\n",
       "      <th>PropertySize</th>\n",
       "      <th>BillingAmt</th>\n",
       "      <th>AverageBillingAmt</th>\n",
       "      <th>CollectedAmt</th>\n",
       "      <th>AverageCollectedAmt</th>\n",
       "      <th>DebtAmt</th>\n",
       "      <th>WriteOffAmt</th>\n",
       "      <th>CollectionRatio</th>\n",
       "      <th>DebtBillingRatio</th>\n",
       "      <th>TotalElectricityBill</th>\n",
       "    </tr>\n",
       "  </thead>\n",
       "  <tbody>\n",
       "    <tr>\n",
       "      <th>Value</th>\n",
       "      <td>1.000000</td>\n",
       "      <td>0.217937</td>\n",
       "      <td>0.309329</td>\n",
       "      <td>0.289516</td>\n",
       "      <td>0.324783</td>\n",
       "      <td>0.369737</td>\n",
       "      <td>0.018016</td>\n",
       "      <td>-0.006898</td>\n",
       "      <td>-0.000485</td>\n",
       "      <td>-0.000513</td>\n",
       "      <td>0.156508</td>\n",
       "    </tr>\n",
       "    <tr>\n",
       "      <th>PropertySize</th>\n",
       "      <td>0.217937</td>\n",
       "      <td>1.000000</td>\n",
       "      <td>0.006703</td>\n",
       "      <td>0.066198</td>\n",
       "      <td>0.006320</td>\n",
       "      <td>0.017601</td>\n",
       "      <td>-0.007068</td>\n",
       "      <td>-0.005475</td>\n",
       "      <td>-0.000442</td>\n",
       "      <td>-0.000376</td>\n",
       "      <td>0.008728</td>\n",
       "    </tr>\n",
       "    <tr>\n",
       "      <th>BillingAmt</th>\n",
       "      <td>0.309329</td>\n",
       "      <td>0.006703</td>\n",
       "      <td>1.000000</td>\n",
       "      <td>0.443106</td>\n",
       "      <td>0.974105</td>\n",
       "      <td>0.443766</td>\n",
       "      <td>0.080196</td>\n",
       "      <td>-0.000026</td>\n",
       "      <td>-0.000290</td>\n",
       "      <td>-0.000243</td>\n",
       "      <td>0.938904</td>\n",
       "    </tr>\n",
       "    <tr>\n",
       "      <th>AverageBillingAmt</th>\n",
       "      <td>0.289516</td>\n",
       "      <td>0.066198</td>\n",
       "      <td>0.443106</td>\n",
       "      <td>1.000000</td>\n",
       "      <td>0.425571</td>\n",
       "      <td>0.294307</td>\n",
       "      <td>0.080129</td>\n",
       "      <td>-0.003195</td>\n",
       "      <td>-0.000300</td>\n",
       "      <td>-0.000253</td>\n",
       "      <td>0.362148</td>\n",
       "    </tr>\n",
       "    <tr>\n",
       "      <th>CollectedAmt</th>\n",
       "      <td>0.324783</td>\n",
       "      <td>0.006320</td>\n",
       "      <td>0.974105</td>\n",
       "      <td>0.425571</td>\n",
       "      <td>1.000000</td>\n",
       "      <td>0.460290</td>\n",
       "      <td>0.008343</td>\n",
       "      <td>-0.001129</td>\n",
       "      <td>0.000666</td>\n",
       "      <td>-0.000200</td>\n",
       "      <td>0.949192</td>\n",
       "    </tr>\n",
       "    <tr>\n",
       "      <th>AverageCollectedAmt</th>\n",
       "      <td>0.369737</td>\n",
       "      <td>0.017601</td>\n",
       "      <td>0.443766</td>\n",
       "      <td>0.294307</td>\n",
       "      <td>0.460290</td>\n",
       "      <td>1.000000</td>\n",
       "      <td>0.009710</td>\n",
       "      <td>-0.000345</td>\n",
       "      <td>0.002703</td>\n",
       "      <td>-0.000147</td>\n",
       "      <td>0.333584</td>\n",
       "    </tr>\n",
       "    <tr>\n",
       "      <th>DebtAmt</th>\n",
       "      <td>0.018016</td>\n",
       "      <td>-0.007068</td>\n",
       "      <td>0.080196</td>\n",
       "      <td>0.080129</td>\n",
       "      <td>0.008343</td>\n",
       "      <td>0.009710</td>\n",
       "      <td>1.000000</td>\n",
       "      <td>0.107975</td>\n",
       "      <td>-0.000566</td>\n",
       "      <td>0.000583</td>\n",
       "      <td>0.011206</td>\n",
       "    </tr>\n",
       "    <tr>\n",
       "      <th>WriteOffAmt</th>\n",
       "      <td>-0.006898</td>\n",
       "      <td>-0.005475</td>\n",
       "      <td>-0.000026</td>\n",
       "      <td>-0.003195</td>\n",
       "      <td>-0.001129</td>\n",
       "      <td>-0.000345</td>\n",
       "      <td>0.107975</td>\n",
       "      <td>1.000000</td>\n",
       "      <td>-0.000146</td>\n",
       "      <td>0.009090</td>\n",
       "      <td>-0.001037</td>\n",
       "    </tr>\n",
       "    <tr>\n",
       "      <th>CollectionRatio</th>\n",
       "      <td>-0.000485</td>\n",
       "      <td>-0.000442</td>\n",
       "      <td>-0.000290</td>\n",
       "      <td>-0.000300</td>\n",
       "      <td>0.000666</td>\n",
       "      <td>0.002703</td>\n",
       "      <td>-0.000566</td>\n",
       "      <td>-0.000146</td>\n",
       "      <td>1.000000</td>\n",
       "      <td>0.040979</td>\n",
       "      <td>-0.000138</td>\n",
       "    </tr>\n",
       "    <tr>\n",
       "      <th>DebtBillingRatio</th>\n",
       "      <td>-0.000513</td>\n",
       "      <td>-0.000376</td>\n",
       "      <td>-0.000243</td>\n",
       "      <td>-0.000253</td>\n",
       "      <td>-0.000200</td>\n",
       "      <td>-0.000147</td>\n",
       "      <td>0.000583</td>\n",
       "      <td>0.009090</td>\n",
       "      <td>0.040979</td>\n",
       "      <td>1.000000</td>\n",
       "      <td>-0.000122</td>\n",
       "    </tr>\n",
       "    <tr>\n",
       "      <th>TotalElectricityBill</th>\n",
       "      <td>0.156508</td>\n",
       "      <td>0.008728</td>\n",
       "      <td>0.938904</td>\n",
       "      <td>0.362148</td>\n",
       "      <td>0.949192</td>\n",
       "      <td>0.333584</td>\n",
       "      <td>0.011206</td>\n",
       "      <td>-0.001037</td>\n",
       "      <td>-0.000138</td>\n",
       "      <td>-0.000122</td>\n",
       "      <td>1.000000</td>\n",
       "    </tr>\n",
       "  </tbody>\n",
       "</table>\n",
       "</div>"
      ],
      "text/plain": [
       "                         Value  PropertySize  BillingAmt  AverageBillingAmt  \\\n",
       "Value                 1.000000      0.217937    0.309329           0.289516   \n",
       "PropertySize          0.217937      1.000000    0.006703           0.066198   \n",
       "BillingAmt            0.309329      0.006703    1.000000           0.443106   \n",
       "AverageBillingAmt     0.289516      0.066198    0.443106           1.000000   \n",
       "CollectedAmt          0.324783      0.006320    0.974105           0.425571   \n",
       "AverageCollectedAmt   0.369737      0.017601    0.443766           0.294307   \n",
       "DebtAmt               0.018016     -0.007068    0.080196           0.080129   \n",
       "WriteOffAmt          -0.006898     -0.005475   -0.000026          -0.003195   \n",
       "CollectionRatio      -0.000485     -0.000442   -0.000290          -0.000300   \n",
       "DebtBillingRatio     -0.000513     -0.000376   -0.000243          -0.000253   \n",
       "TotalElectricityBill  0.156508      0.008728    0.938904           0.362148   \n",
       "\n",
       "                      CollectedAmt  AverageCollectedAmt   DebtAmt  \\\n",
       "Value                     0.324783             0.369737  0.018016   \n",
       "PropertySize              0.006320             0.017601 -0.007068   \n",
       "BillingAmt                0.974105             0.443766  0.080196   \n",
       "AverageBillingAmt         0.425571             0.294307  0.080129   \n",
       "CollectedAmt              1.000000             0.460290  0.008343   \n",
       "AverageCollectedAmt       0.460290             1.000000  0.009710   \n",
       "DebtAmt                   0.008343             0.009710  1.000000   \n",
       "WriteOffAmt              -0.001129            -0.000345  0.107975   \n",
       "CollectionRatio           0.000666             0.002703 -0.000566   \n",
       "DebtBillingRatio         -0.000200            -0.000147  0.000583   \n",
       "TotalElectricityBill      0.949192             0.333584  0.011206   \n",
       "\n",
       "                      WriteOffAmt  CollectionRatio  DebtBillingRatio  \\\n",
       "Value                   -0.006898        -0.000485         -0.000513   \n",
       "PropertySize            -0.005475        -0.000442         -0.000376   \n",
       "BillingAmt              -0.000026        -0.000290         -0.000243   \n",
       "AverageBillingAmt       -0.003195        -0.000300         -0.000253   \n",
       "CollectedAmt            -0.001129         0.000666         -0.000200   \n",
       "AverageCollectedAmt     -0.000345         0.002703         -0.000147   \n",
       "DebtAmt                  0.107975        -0.000566          0.000583   \n",
       "WriteOffAmt              1.000000        -0.000146          0.009090   \n",
       "CollectionRatio         -0.000146         1.000000          0.040979   \n",
       "DebtBillingRatio         0.009090         0.040979          1.000000   \n",
       "TotalElectricityBill    -0.001037        -0.000138         -0.000122   \n",
       "\n",
       "                      TotalElectricityBill  \n",
       "Value                             0.156508  \n",
       "PropertySize                      0.008728  \n",
       "BillingAmt                        0.938904  \n",
       "AverageBillingAmt                 0.362148  \n",
       "CollectedAmt                      0.949192  \n",
       "AverageCollectedAmt               0.333584  \n",
       "DebtAmt                           0.011206  \n",
       "WriteOffAmt                      -0.001037  \n",
       "CollectionRatio                  -0.000138  \n",
       "DebtBillingRatio                 -0.000122  \n",
       "TotalElectricityBill              1.000000  "
      ]
     },
     "execution_count": 47,
     "metadata": {},
     "output_type": "execute_result"
    }
   ],
   "source": [
    "df.corr()"
   ]
  },
  {
   "cell_type": "code",
   "execution_count": 48,
   "metadata": {},
   "outputs": [
    {
     "data": {
      "text/plain": [
       "<matplotlib.axes._subplots.AxesSubplot at 0x1fa8c0480d0>"
      ]
     },
     "execution_count": 48,
     "metadata": {},
     "output_type": "execute_result"
    },
    {
     "data": {
      "image/png": "[encoded data removed]",
      "text/plain": [
       "<Figure size 1440x720 with 2 Axes>"
      ]
     },
     "metadata": {
      "needs_background": "light"
     },
     "output_type": "display_data"
    }
   ],
   "source": [
    "plt.figure(figsize=(20,10)) #there are high correlation between CollectedAmt and BillingAmt, BillingAmt and TotalElectricityBill, and CollectedAmt andTotalElectricityBill   \n",
    "sns.heatmap(df.corr(), annot=True)"
   ]
  },
  {
   "cell_type": "code",
   "execution_count": 49,
   "metadata": {},
   "outputs": [
    {
     "data": {
      "text/plain": [
       "<Figure size 720x360 with 0 Axes>"
      ]
     },
     "metadata": {},
     "output_type": "display_data"
    },
    {
     "data": {
      "image/png": "[encoded data removed]",
      "text/plain": [
       "<Figure size 360x360 with 1 Axes>"
      ]
     },
     "metadata": {
      "needs_background": "light"
     },
     "output_type": "display_data"
    }
   ],
   "source": [
    "plt.figure(figsize=(10,5))\n",
    "sns.catplot(data=df,x=\"Label\", y=\"Value\")\n",
    "plt.xticks(rotation=90)\n",
    "plt.show()"
   ]
  },
  {
   "cell_type": "code",
   "execution_count": 50,
   "metadata": {
    "scrolled": true
   },
   "outputs": [
    {
     "data": {
      "text/plain": [
       "<Figure size 720x360 with 0 Axes>"
      ]
     },
     "metadata": {},
     "output_type": "display_data"
    },
    {
     "data": {
      "image/png": "[encoded data removed]",
      "text/plain": [
       "<Figure size 360x360 with 1 Axes>"
      ]
     },
     "metadata": {
      "needs_background": "light"
     },
     "output_type": "display_data"
    }
   ],
   "source": [
    "plt.figure(figsize=(10,5))\n",
    "sns.catplot(data=df,x=\"Label\", y=\"Value\")\n",
    "plt.xticks(rotation=90)\n",
    "plt.show()"
   ]
  },
  {
   "cell_type": "code",
   "execution_count": 51,
   "metadata": {},
   "outputs": [
    {
     "data": {
      "text/plain": [
       "<Figure size 720x360 with 0 Axes>"
      ]
     },
     "metadata": {},
     "output_type": "display_data"
    },
    {
     "data": {
      "image/png": "[encoded data removed]",
      "text/plain": [
       "<Figure size 360x360 with 1 Axes>"
      ]
     },
     "metadata": {
      "needs_background": "light"
     },
     "output_type": "display_data"
    }
   ],
   "source": [
    "plt.figure(figsize=(10,5))\n",
    "sns.catplot(data=df,x=\"Label\", y=\"PropertySize\")\n",
    "plt.xticks(rotation=90)\n",
    "plt.show()"
   ]
  },
  {
   "cell_type": "code",
   "execution_count": 52,
   "metadata": {},
   "outputs": [
    {
     "data": {
      "text/plain": [
       "<Figure size 720x360 with 0 Axes>"
      ]
     },
     "metadata": {},
     "output_type": "display_data"
    },
    {
     "data": {
      "image/png": "[encoded data removed]",
      "text/plain": [
       "<Figure size 360x360 with 1 Axes>"
      ]
     },
     "metadata": {
      "needs_background": "light"
     },
     "output_type": "display_data"
    }
   ],
   "source": [
    "plt.figure(figsize=(10,5))\n",
    "sns.catplot(data=df,x=\"Label\", y=\"BillingAmt\")\n",
    "plt.xticks(rotation=90)\n",
    "plt.show()"
   ]
  },
  {
   "cell_type": "code",
   "execution_count": 53,
   "metadata": {},
   "outputs": [
    {
     "data": {
      "text/plain": [
       "<Figure size 720x360 with 0 Axes>"
      ]
     },
     "metadata": {},
     "output_type": "display_data"
    },
    {
     "data": {
      "image/png": "[encoded data removed]",
      "text/plain": [
       "<Figure size 360x360 with 1 Axes>"
      ]
     },
     "metadata": {
      "needs_background": "light"
     },
     "output_type": "display_data"
    }
   ],
   "source": [
    "plt.figure(figsize=(10,5))\n",
    "sns.catplot(data=df,x=\"Label\", y=\"AverageBillingAmt\")\n",
    "plt.xticks(rotation=90)\n",
    "plt.show()"
   ]
  },
  {
   "cell_type": "code",
   "execution_count": 54,
   "metadata": {},
   "outputs": [
    {
     "data": {
      "text/plain": [
       "<Figure size 720x360 with 0 Axes>"
      ]
     },
     "metadata": {},
     "output_type": "display_data"
    },
    {
     "data": {
      "image/png": "[encoded data removed]",
      "text/plain": [
       "<Figure size 360x360 with 1 Axes>"
      ]
     },
     "metadata": {
      "needs_background": "light"
     },
     "output_type": "display_data"
    }
   ],
   "source": [
    "plt.figure(figsize=(10,5))\n",
    "sns.catplot(data=df,x=\"Label\", y=\"DebtAmt\")\n",
    "plt.xticks(rotation=90)\n",
    "plt.show()"
   ]
  },
  {
   "cell_type": "code",
   "execution_count": 55,
   "metadata": {},
   "outputs": [
    {
     "data": {
      "text/plain": [
       "<Figure size 720x360 with 0 Axes>"
      ]
     },
     "metadata": {},
     "output_type": "display_data"
    },
    {
     "data": {
      "image/png": "[encoded data removed]",
      "text/plain": [
       "<Figure size 360x360 with 1 Axes>"
      ]
     },
     "metadata": {
      "needs_background": "light"
     },
     "output_type": "display_data"
    }
   ],
   "source": [
    "plt.figure(figsize=(10,5))\n",
    "sns.catplot(data=df,x=\"Label\", y=\"WriteOffAmt\")\n",
    "plt.xticks(rotation=90)\n",
    "plt.show()"
   ]
  },
  {
   "cell_type": "code",
   "execution_count": 56,
   "metadata": {},
   "outputs": [
    {
     "data": {
      "text/plain": [
       "<Figure size 720x360 with 0 Axes>"
      ]
     },
     "metadata": {},
     "output_type": "display_data"
    },
    {
     "data": {
      "image/png": "[encoded data removed]",
      "text/plain": [
       "<Figure size 360x360 with 1 Axes>"
      ]
     },
     "metadata": {
      "needs_background": "light"
     },
     "output_type": "display_data"
    }
   ],
   "source": [
    "plt.figure(figsize=(10,5))\n",
    "sns.catplot(data=df,x=\"Label\", y=\"CollectionRatio\")\n",
    "plt.xticks(rotation=90)\n",
    "plt.show()"
   ]
  },
  {
   "cell_type": "code",
   "execution_count": 57,
   "metadata": {},
   "outputs": [
    {
     "data": {
      "text/plain": [
       "<Figure size 720x360 with 0 Axes>"
      ]
     },
     "metadata": {},
     "output_type": "display_data"
    },
    {
     "data": {
      "image/png": "[encoded data removed]",
      "text/plain": [
       "<Figure size 360x360 with 1 Axes>"
      ]
     },
     "metadata": {
      "needs_background": "light"
     },
     "output_type": "display_data"
    }
   ],
   "source": [
    "plt.figure(figsize=(10,5))\n",
    "sns.catplot(data=df,x=\"Label\", y=\"DebtBillingRatio\")\n",
    "plt.xticks(rotation=90)\n",
    "plt.show()"
   ]
  },
  {
   "cell_type": "code",
   "execution_count": 58,
   "metadata": {
    "scrolled": true
   },
   "outputs": [
    {
     "data": {
      "text/plain": [
       "<Figure size 720x360 with 0 Axes>"
      ]
     },
     "metadata": {},
     "output_type": "display_data"
    },
    {
     "data": {
      "image/png": "[encoded data removed]",
      "text/plain": [
       "<Figure size 360x360 with 1 Axes>"
      ]
     },
     "metadata": {
      "needs_background": "light"
     },
     "output_type": "display_data"
    }
   ],
   "source": [
    "plt.figure(figsize=(10,5))\n",
    "sns.catplot(data=df,x=\"Label\", y=\"TotalElectricityBill\")\n",
    "plt.xticks(rotation=90)\n",
    "plt.show()"
   ]
  },
  {
   "cell_type": "code",
   "execution_count": 59,
   "metadata": {
    "scrolled": true
   },
   "outputs": [
    {
     "data": {
      "text/plain": [
       "(array([ 0,  1,  2,  3,  4,  5,  6,  7,  8,  9, 10]),\n",
       " <a list of 11 Text major ticklabel objects>)"
      ]
     },
     "execution_count": 59,
     "metadata": {},
     "output_type": "execute_result"
    },
    {
     "data": {
      "image/png": "[encoded data removed]",
      "text/plain": [
       "<Figure size 720x360 with 1 Axes>"
      ]
     },
     "metadata": {
      "needs_background": "light"
     },
     "output_type": "display_data"
    }
   ],
   "source": [
    "plt.figure(figsize=(10,5))\n",
    "sns.countplot(data=df, x=\"Category\", hue=\"Label\")\n",
    "plt.xticks(rotation=90)"
   ]
  },
  {
   "cell_type": "code",
   "execution_count": 60,
   "metadata": {},
   "outputs": [
    {
     "data": {
      "text/plain": [
       "(array([0, 1]), <a list of 2 Text major ticklabel objects>)"
      ]
     },
     "execution_count": 60,
     "metadata": {},
     "output_type": "execute_result"
    },
    {
     "data": {
      "image/png": "[encoded data removed]",
      "text/plain": [
       "<Figure size 720x360 with 1 Axes>"
      ]
     },
     "metadata": {
      "needs_background": "light"
     },
     "output_type": "display_data"
    }
   ],
   "source": [
    "plt.figure(figsize=(10,5))\n",
    "sns.countplot(data=df, x=\"HasID\", hue=\"Label\")\n",
    "plt.xticks(rotation=90)"
   ]
  },
  {
   "cell_type": "markdown",
   "metadata": {},
   "source": [
    "# Data Processing"
   ]
  },
  {
   "cell_type": "code",
   "execution_count": 61,
   "metadata": {},
   "outputs": [
    {
     "data": {
      "text/plain": [
       "(8832, 14)"
      ]
     },
     "execution_count": 61,
     "metadata": {},
     "output_type": "execute_result"
    }
   ],
   "source": [
    "data_size=df[df[\"PropertySize\"]== 0]\n",
    "data_size.shape"
   ]
  },
  {
   "cell_type": "code",
   "execution_count": 62,
   "metadata": {},
   "outputs": [],
   "source": [
    "df1=df.copy()"
   ]
  },
  {
   "cell_type": "code",
   "execution_count": 63,
   "metadata": {},
   "outputs": [],
   "source": [
    "#df1.drop(data_size.index, axis=0, inplace=True)"
   ]
  },
  {
   "cell_type": "code",
   "execution_count": 64,
   "metadata": {},
   "outputs": [],
   "source": [
    "data_val=df1[df1[\"Value\"]== 0]\n"
   ]
  },
  {
   "cell_type": "code",
   "execution_count": 65,
   "metadata": {},
   "outputs": [],
   "source": [
    "#df1.drop(data_val.index, axis=0, inplace=True)"
   ]
  },
  {
   "cell_type": "code",
   "execution_count": 66,
   "metadata": {},
   "outputs": [],
   "source": [
    " #drop the rows that have 0 value on the property size; property size cannot be 0"
   ]
  },
  {
   "cell_type": "code",
   "execution_count": 67,
   "metadata": {},
   "outputs": [
    {
     "data": {
      "text/plain": [
       "(100474, 14)"
      ]
     },
     "execution_count": 67,
     "metadata": {},
     "output_type": "execute_result"
    }
   ],
   "source": [
    "df1.shape"
   ]
  },
  {
   "cell_type": "code",
   "execution_count": 68,
   "metadata": {},
   "outputs": [],
   "source": [
    "#df1.drop(columns=[\"BillingAmt\"], inplace=True) #drop it because there is a high correlation between this variable and CollectedAmt"
   ]
  },
  {
   "cell_type": "code",
   "execution_count": 69,
   "metadata": {},
   "outputs": [
    {
     "data": {
      "text/plain": [
       "<matplotlib.axes._subplots.AxesSubplot at 0x1fa85f9ea60>"
      ]
     },
     "execution_count": 69,
     "metadata": {},
     "output_type": "execute_result"
    },
    {
     "data": {
      "image/png": "[encoded data removed]",
      "text/plain": [
       "<Figure size 720x360 with 2 Axes>"
      ]
     },
     "metadata": {
      "needs_background": "light"
     },
     "output_type": "display_data"
    }
   ],
   "source": [
    "plt.figure(figsize=(10,5))\n",
    "sns.heatmap(df1.corr(), annot=True) #there is high correlation between CollectedAmt and TotalElectricityBill, but it is not a perfect correlation we can keep them\n"
   ]
  },
  {
   "cell_type": "code",
   "execution_count": 70,
   "metadata": {
    "scrolled": true
   },
   "outputs": [
    {
     "data": {
      "text/html": [
       "<div>\n",
       "<style scoped>\n",
       "    .dataframe tbody tr th:only-of-type {\n",
       "        vertical-align: middle;\n",
       "    }\n",
       "\n",
       "    .dataframe tbody tr th {\n",
       "        vertical-align: top;\n",
       "    }\n",
       "\n",
       "    .dataframe thead th {\n",
       "        text-align: right;\n",
       "    }\n",
       "</style>\n",
       "<table border=\"1\" class=\"dataframe\">\n",
       "  <thead>\n",
       "    <tr style=\"text-align: right;\">\n",
       "      <th></th>\n",
       "      <th>count</th>\n",
       "      <th>mean</th>\n",
       "      <th>std</th>\n",
       "      <th>min</th>\n",
       "      <th>25%</th>\n",
       "      <th>50%</th>\n",
       "      <th>75%</th>\n",
       "      <th>max</th>\n",
       "    </tr>\n",
       "  </thead>\n",
       "  <tbody>\n",
       "    <tr>\n",
       "      <th>Value</th>\n",
       "      <td>100474.0</td>\n",
       "      <td>706990.040379</td>\n",
       "      <td>3.047485e+06</td>\n",
       "      <td>0.0</td>\n",
       "      <td>35000.0</td>\n",
       "      <td>93000.0</td>\n",
       "      <td>750000.00</td>\n",
       "      <td>421860000.0</td>\n",
       "    </tr>\n",
       "    <tr>\n",
       "      <th>PropertySize</th>\n",
       "      <td>100474.0</td>\n",
       "      <td>746835.479169</td>\n",
       "      <td>5.651614e+06</td>\n",
       "      <td>0.0</td>\n",
       "      <td>276.0</td>\n",
       "      <td>511.0</td>\n",
       "      <td>1162.00</td>\n",
       "      <td>270515963.0</td>\n",
       "    </tr>\n",
       "    <tr>\n",
       "      <th>BillingAmt</th>\n",
       "      <td>100474.0</td>\n",
       "      <td>10899.731821</td>\n",
       "      <td>1.262354e+05</td>\n",
       "      <td>-4232630.0</td>\n",
       "      <td>461.0</td>\n",
       "      <td>3141.0</td>\n",
       "      <td>8715.00</td>\n",
       "      <td>26133617.0</td>\n",
       "    </tr>\n",
       "    <tr>\n",
       "      <th>AverageBillingAmt</th>\n",
       "      <td>100474.0</td>\n",
       "      <td>575.497940</td>\n",
       "      <td>6.430373e+03</td>\n",
       "      <td>-79384.0</td>\n",
       "      <td>23.0</td>\n",
       "      <td>107.0</td>\n",
       "      <td>281.00</td>\n",
       "      <td>805044.0</td>\n",
       "    </tr>\n",
       "    <tr>\n",
       "      <th>CollectedAmt</th>\n",
       "      <td>100474.0</td>\n",
       "      <td>9763.834295</td>\n",
       "      <td>1.201461e+05</td>\n",
       "      <td>-219260.0</td>\n",
       "      <td>0.0</td>\n",
       "      <td>360.0</td>\n",
       "      <td>7402.75</td>\n",
       "      <td>24371134.0</td>\n",
       "    </tr>\n",
       "    <tr>\n",
       "      <th>AverageCollectedAmt</th>\n",
       "      <td>100474.0</td>\n",
       "      <td>2044.722943</td>\n",
       "      <td>3.682523e+04</td>\n",
       "      <td>-219260.0</td>\n",
       "      <td>0.0</td>\n",
       "      <td>100.0</td>\n",
       "      <td>768.00</td>\n",
       "      <td>6828297.0</td>\n",
       "    </tr>\n",
       "    <tr>\n",
       "      <th>DebtAmt</th>\n",
       "      <td>100474.0</td>\n",
       "      <td>9642.686496</td>\n",
       "      <td>5.003061e+04</td>\n",
       "      <td>0.0</td>\n",
       "      <td>0.0</td>\n",
       "      <td>0.0</td>\n",
       "      <td>2298.00</td>\n",
       "      <td>6322610.0</td>\n",
       "    </tr>\n",
       "    <tr>\n",
       "      <th>WriteOffAmt</th>\n",
       "      <td>100474.0</td>\n",
       "      <td>602.777325</td>\n",
       "      <td>1.440929e+04</td>\n",
       "      <td>0.0</td>\n",
       "      <td>0.0</td>\n",
       "      <td>0.0</td>\n",
       "      <td>0.00</td>\n",
       "      <td>4306605.0</td>\n",
       "    </tr>\n",
       "    <tr>\n",
       "      <th>CollectionRatio</th>\n",
       "      <td>100474.0</td>\n",
       "      <td>19.536586</td>\n",
       "      <td>5.557047e+03</td>\n",
       "      <td>-115000.0</td>\n",
       "      <td>0.0</td>\n",
       "      <td>0.5</td>\n",
       "      <td>1.00</td>\n",
       "      <td>1701912.0</td>\n",
       "    </tr>\n",
       "    <tr>\n",
       "      <th>DebtBillingRatio</th>\n",
       "      <td>100474.0</td>\n",
       "      <td>18.633273</td>\n",
       "      <td>6.274782e+03</td>\n",
       "      <td>-436506.0</td>\n",
       "      <td>0.0</td>\n",
       "      <td>0.0</td>\n",
       "      <td>1.28</td>\n",
       "      <td>1836304.0</td>\n",
       "    </tr>\n",
       "    <tr>\n",
       "      <th>TotalElectricityBill</th>\n",
       "      <td>100474.0</td>\n",
       "      <td>4338.793588</td>\n",
       "      <td>1.050324e+05</td>\n",
       "      <td>-220289.0</td>\n",
       "      <td>0.0</td>\n",
       "      <td>0.0</td>\n",
       "      <td>88.00</td>\n",
       "      <td>22711689.0</td>\n",
       "    </tr>\n",
       "  </tbody>\n",
       "</table>\n",
       "</div>"
      ],
      "text/plain": [
       "                         count           mean           std        min  \\\n",
       "Value                 100474.0  706990.040379  3.047485e+06        0.0   \n",
       "PropertySize          100474.0  746835.479169  5.651614e+06        0.0   \n",
       "BillingAmt            100474.0   10899.731821  1.262354e+05 -4232630.0   \n",
       "AverageBillingAmt     100474.0     575.497940  6.430373e+03   -79384.0   \n",
       "CollectedAmt          100474.0    9763.834295  1.201461e+05  -219260.0   \n",
       "AverageCollectedAmt   100474.0    2044.722943  3.682523e+04  -219260.0   \n",
       "DebtAmt               100474.0    9642.686496  5.003061e+04        0.0   \n",
       "WriteOffAmt           100474.0     602.777325  1.440929e+04        0.0   \n",
       "CollectionRatio       100474.0      19.536586  5.557047e+03  -115000.0   \n",
       "DebtBillingRatio      100474.0      18.633273  6.274782e+03  -436506.0   \n",
       "TotalElectricityBill  100474.0    4338.793588  1.050324e+05  -220289.0   \n",
       "\n",
       "                          25%      50%        75%          max  \n",
       "Value                 35000.0  93000.0  750000.00  421860000.0  \n",
       "PropertySize            276.0    511.0    1162.00  270515963.0  \n",
       "BillingAmt              461.0   3141.0    8715.00   26133617.0  \n",
       "AverageBillingAmt        23.0    107.0     281.00     805044.0  \n",
       "CollectedAmt              0.0    360.0    7402.75   24371134.0  \n",
       "AverageCollectedAmt       0.0    100.0     768.00    6828297.0  \n",
       "DebtAmt                   0.0      0.0    2298.00    6322610.0  \n",
       "WriteOffAmt               0.0      0.0       0.00    4306605.0  \n",
       "CollectionRatio           0.0      0.5       1.00    1701912.0  \n",
       "DebtBillingRatio          0.0      0.0       1.28    1836304.0  \n",
       "TotalElectricityBill      0.0      0.0      88.00   22711689.0  "
      ]
     },
     "execution_count": 70,
     "metadata": {},
     "output_type": "execute_result"
    }
   ],
   "source": [
    "df1.describe().T"
   ]
  },
  {
   "cell_type": "markdown",
   "metadata": {},
   "source": [
    "#### Variable transformation "
   ]
  },
  {
   "cell_type": "markdown",
   "metadata": {},
   "source": [
    "All numeric values skewed so I use np.arcsinh to handle negative and 0 values."
   ]
  },
  {
   "cell_type": "code",
   "execution_count": 71,
   "metadata": {},
   "outputs": [],
   "source": [
    "df1[\"Value\" + \"_arc\"] = np.arcsinh(df1[\"Value\"])"
   ]
  },
  {
   "cell_type": "code",
   "execution_count": 72,
   "metadata": {},
   "outputs": [
    {
     "name": "stderr",
     "output_type": "stream",
     "text": [
      "C:\\Users\\kayaf\\anaconda3\\lib\\site-packages\\seaborn\\distributions.py:2619: FutureWarning: `distplot` is a deprecated function and will be removed in a future version. Please adapt your code to use either `displot` (a figure-level function with similar flexibility) or `histplot` (an axes-level function for histograms).\n",
      "  warnings.warn(msg, FutureWarning)\n"
     ]
    },
    {
     "data": {
      "text/plain": [
       "<matplotlib.axes._subplots.AxesSubplot at 0x1fa8d39c6a0>"
      ]
     },
     "execution_count": 72,
     "metadata": {},
     "output_type": "execute_result"
    },
    {
     "data": {
      "image/png": "[encoded data removed]",
      "text/plain": [
       "<Figure size 432x288 with 1 Axes>"
      ]
     },
     "metadata": {
      "needs_background": "light"
     },
     "output_type": "display_data"
    }
   ],
   "source": [
    "sns.distplot(df1[\"Value_arc\"])"
   ]
  },
  {
   "cell_type": "code",
   "execution_count": 73,
   "metadata": {
    "scrolled": true
   },
   "outputs": [
    {
     "data": {
      "text/html": [
       "<div>\n",
       "<style scoped>\n",
       "    .dataframe tbody tr th:only-of-type {\n",
       "        vertical-align: middle;\n",
       "    }\n",
       "\n",
       "    .dataframe tbody tr th {\n",
       "        vertical-align: top;\n",
       "    }\n",
       "\n",
       "    .dataframe thead th {\n",
       "        text-align: right;\n",
       "    }\n",
       "</style>\n",
       "<table border=\"1\" class=\"dataframe\">\n",
       "  <thead>\n",
       "    <tr style=\"text-align: right;\">\n",
       "      <th></th>\n",
       "      <th>Category</th>\n",
       "      <th>PropertySize</th>\n",
       "      <th>BillingAmt</th>\n",
       "      <th>AverageBillingAmt</th>\n",
       "      <th>CollectedAmt</th>\n",
       "      <th>AverageCollectedAmt</th>\n",
       "      <th>DebtAmt</th>\n",
       "      <th>WriteOffAmt</th>\n",
       "      <th>CollectionRatio</th>\n",
       "      <th>DebtBillingRatio</th>\n",
       "      <th>TotalElectricityBill</th>\n",
       "      <th>HasID</th>\n",
       "      <th>Label</th>\n",
       "      <th>Value_arc</th>\n",
       "    </tr>\n",
       "  </thead>\n",
       "  <tbody>\n",
       "    <tr>\n",
       "      <th>0</th>\n",
       "      <td>Residential</td>\n",
       "      <td>585</td>\n",
       "      <td>43717</td>\n",
       "      <td>729</td>\n",
       "      <td>43416</td>\n",
       "      <td>4342</td>\n",
       "      <td>0</td>\n",
       "      <td>0</td>\n",
       "      <td>0.99</td>\n",
       "      <td>0.00</td>\n",
       "      <td>0</td>\n",
       "      <td>0</td>\n",
       "      <td>0</td>\n",
       "      <td>15.492495</td>\n",
       "    </tr>\n",
       "    <tr>\n",
       "      <th>1</th>\n",
       "      <td>Residential</td>\n",
       "      <td>315</td>\n",
       "      <td>378</td>\n",
       "      <td>3</td>\n",
       "      <td>522</td>\n",
       "      <td>522</td>\n",
       "      <td>0</td>\n",
       "      <td>0</td>\n",
       "      <td>1.38</td>\n",
       "      <td>0.00</td>\n",
       "      <td>0</td>\n",
       "      <td>0</td>\n",
       "      <td>0</td>\n",
       "      <td>11.184421</td>\n",
       "    </tr>\n",
       "    <tr>\n",
       "      <th>2</th>\n",
       "      <td>Residential</td>\n",
       "      <td>528</td>\n",
       "      <td>25150</td>\n",
       "      <td>345</td>\n",
       "      <td>25104</td>\n",
       "      <td>349</td>\n",
       "      <td>0</td>\n",
       "      <td>0</td>\n",
       "      <td>1.00</td>\n",
       "      <td>0.00</td>\n",
       "      <td>10715</td>\n",
       "      <td>1</td>\n",
       "      <td>0</td>\n",
       "      <td>14.151983</td>\n",
       "    </tr>\n",
       "    <tr>\n",
       "      <th>3</th>\n",
       "      <td>Municipal</td>\n",
       "      <td>0</td>\n",
       "      <td>4773</td>\n",
       "      <td>133</td>\n",
       "      <td>0</td>\n",
       "      <td>0</td>\n",
       "      <td>7319</td>\n",
       "      <td>0</td>\n",
       "      <td>0.00</td>\n",
       "      <td>1.53</td>\n",
       "      <td>0</td>\n",
       "      <td>1</td>\n",
       "      <td>1</td>\n",
       "      <td>11.289782</td>\n",
       "    </tr>\n",
       "    <tr>\n",
       "      <th>4</th>\n",
       "      <td>Residential</td>\n",
       "      <td>0</td>\n",
       "      <td>-4</td>\n",
       "      <td>0</td>\n",
       "      <td>445</td>\n",
       "      <td>445</td>\n",
       "      <td>0</td>\n",
       "      <td>0</td>\n",
       "      <td>-121.26</td>\n",
       "      <td>0.00</td>\n",
       "      <td>0</td>\n",
       "      <td>0</td>\n",
       "      <td>0</td>\n",
       "      <td>12.435596</td>\n",
       "    </tr>\n",
       "  </tbody>\n",
       "</table>\n",
       "</div>"
      ],
      "text/plain": [
       "      Category  PropertySize  BillingAmt  AverageBillingAmt  CollectedAmt  \\\n",
       "0  Residential           585       43717                729         43416   \n",
       "1  Residential           315         378                  3           522   \n",
       "2  Residential           528       25150                345         25104   \n",
       "3    Municipal             0        4773                133             0   \n",
       "4  Residential             0          -4                  0           445   \n",
       "\n",
       "   AverageCollectedAmt  DebtAmt  WriteOffAmt  CollectionRatio  \\\n",
       "0                 4342        0            0             0.99   \n",
       "1                  522        0            0             1.38   \n",
       "2                  349        0            0             1.00   \n",
       "3                    0     7319            0             0.00   \n",
       "4                  445        0            0          -121.26   \n",
       "\n",
       "   DebtBillingRatio  TotalElectricityBill HasID Label  Value_arc  \n",
       "0              0.00                     0     0     0  15.492495  \n",
       "1              0.00                     0     0     0  11.184421  \n",
       "2              0.00                 10715     1     0  14.151983  \n",
       "3              1.53                     0     1     1  11.289782  \n",
       "4              0.00                     0     0     0  12.435596  "
      ]
     },
     "execution_count": 73,
     "metadata": {},
     "output_type": "execute_result"
    }
   ],
   "source": [
    "df1.drop(\"Value\", axis=1, inplace=True)\n",
    "df1.head()"
   ]
  },
  {
   "cell_type": "code",
   "execution_count": 74,
   "metadata": {},
   "outputs": [
    {
     "data": {
      "text/html": [
       "<div>\n",
       "<style scoped>\n",
       "    .dataframe tbody tr th:only-of-type {\n",
       "        vertical-align: middle;\n",
       "    }\n",
       "\n",
       "    .dataframe tbody tr th {\n",
       "        vertical-align: top;\n",
       "    }\n",
       "\n",
       "    .dataframe thead th {\n",
       "        text-align: right;\n",
       "    }\n",
       "</style>\n",
       "<table border=\"1\" class=\"dataframe\">\n",
       "  <thead>\n",
       "    <tr style=\"text-align: right;\">\n",
       "      <th></th>\n",
       "      <th>Category</th>\n",
       "      <th>BillingAmt</th>\n",
       "      <th>AverageBillingAmt</th>\n",
       "      <th>CollectedAmt</th>\n",
       "      <th>AverageCollectedAmt</th>\n",
       "      <th>DebtAmt</th>\n",
       "      <th>WriteOffAmt</th>\n",
       "      <th>CollectionRatio</th>\n",
       "      <th>DebtBillingRatio</th>\n",
       "      <th>TotalElectricityBill</th>\n",
       "      <th>HasID</th>\n",
       "      <th>Label</th>\n",
       "      <th>Value_arc</th>\n",
       "      <th>PropertySize_arc</th>\n",
       "    </tr>\n",
       "  </thead>\n",
       "  <tbody>\n",
       "    <tr>\n",
       "      <th>0</th>\n",
       "      <td>Residential</td>\n",
       "      <td>43717</td>\n",
       "      <td>729</td>\n",
       "      <td>43416</td>\n",
       "      <td>4342</td>\n",
       "      <td>0</td>\n",
       "      <td>0</td>\n",
       "      <td>0.99</td>\n",
       "      <td>0.00</td>\n",
       "      <td>0</td>\n",
       "      <td>0</td>\n",
       "      <td>0</td>\n",
       "      <td>15.492495</td>\n",
       "      <td>7.064760</td>\n",
       "    </tr>\n",
       "    <tr>\n",
       "      <th>1</th>\n",
       "      <td>Residential</td>\n",
       "      <td>378</td>\n",
       "      <td>3</td>\n",
       "      <td>522</td>\n",
       "      <td>522</td>\n",
       "      <td>0</td>\n",
       "      <td>0</td>\n",
       "      <td>1.38</td>\n",
       "      <td>0.00</td>\n",
       "      <td>0</td>\n",
       "      <td>0</td>\n",
       "      <td>0</td>\n",
       "      <td>11.184421</td>\n",
       "      <td>6.445722</td>\n",
       "    </tr>\n",
       "    <tr>\n",
       "      <th>2</th>\n",
       "      <td>Residential</td>\n",
       "      <td>25150</td>\n",
       "      <td>345</td>\n",
       "      <td>25104</td>\n",
       "      <td>349</td>\n",
       "      <td>0</td>\n",
       "      <td>0</td>\n",
       "      <td>1.00</td>\n",
       "      <td>0.00</td>\n",
       "      <td>10715</td>\n",
       "      <td>1</td>\n",
       "      <td>0</td>\n",
       "      <td>14.151983</td>\n",
       "      <td>6.962244</td>\n",
       "    </tr>\n",
       "    <tr>\n",
       "      <th>3</th>\n",
       "      <td>Municipal</td>\n",
       "      <td>4773</td>\n",
       "      <td>133</td>\n",
       "      <td>0</td>\n",
       "      <td>0</td>\n",
       "      <td>7319</td>\n",
       "      <td>0</td>\n",
       "      <td>0.00</td>\n",
       "      <td>1.53</td>\n",
       "      <td>0</td>\n",
       "      <td>1</td>\n",
       "      <td>1</td>\n",
       "      <td>11.289782</td>\n",
       "      <td>0.000000</td>\n",
       "    </tr>\n",
       "    <tr>\n",
       "      <th>4</th>\n",
       "      <td>Residential</td>\n",
       "      <td>-4</td>\n",
       "      <td>0</td>\n",
       "      <td>445</td>\n",
       "      <td>445</td>\n",
       "      <td>0</td>\n",
       "      <td>0</td>\n",
       "      <td>-121.26</td>\n",
       "      <td>0.00</td>\n",
       "      <td>0</td>\n",
       "      <td>0</td>\n",
       "      <td>0</td>\n",
       "      <td>12.435596</td>\n",
       "      <td>0.000000</td>\n",
       "    </tr>\n",
       "  </tbody>\n",
       "</table>\n",
       "</div>"
      ],
      "text/plain": [
       "      Category  BillingAmt  AverageBillingAmt  CollectedAmt  \\\n",
       "0  Residential       43717                729         43416   \n",
       "1  Residential         378                  3           522   \n",
       "2  Residential       25150                345         25104   \n",
       "3    Municipal        4773                133             0   \n",
       "4  Residential          -4                  0           445   \n",
       "\n",
       "   AverageCollectedAmt  DebtAmt  WriteOffAmt  CollectionRatio  \\\n",
       "0                 4342        0            0             0.99   \n",
       "1                  522        0            0             1.38   \n",
       "2                  349        0            0             1.00   \n",
       "3                    0     7319            0             0.00   \n",
       "4                  445        0            0          -121.26   \n",
       "\n",
       "   DebtBillingRatio  TotalElectricityBill HasID Label  Value_arc  \\\n",
       "0              0.00                     0     0     0  15.492495   \n",
       "1              0.00                     0     0     0  11.184421   \n",
       "2              0.00                 10715     1     0  14.151983   \n",
       "3              1.53                     0     1     1  11.289782   \n",
       "4              0.00                     0     0     0  12.435596   \n",
       "\n",
       "   PropertySize_arc  \n",
       "0          7.064760  \n",
       "1          6.445722  \n",
       "2          6.962244  \n",
       "3          0.000000  \n",
       "4          0.000000  "
      ]
     },
     "execution_count": 74,
     "metadata": {},
     "output_type": "execute_result"
    }
   ],
   "source": [
    "df1[\"PropertySize\" + \"_arc\"] = np.arcsinh(df1[\"PropertySize\"])\n",
    "df1.drop(\"PropertySize\", axis=1, inplace=True)\n",
    "df1.head()"
   ]
  },
  {
   "cell_type": "code",
   "execution_count": 75,
   "metadata": {},
   "outputs": [
    {
     "name": "stderr",
     "output_type": "stream",
     "text": [
      "C:\\Users\\kayaf\\anaconda3\\lib\\site-packages\\seaborn\\distributions.py:2619: FutureWarning: `distplot` is a deprecated function and will be removed in a future version. Please adapt your code to use either `displot` (a figure-level function with similar flexibility) or `histplot` (an axes-level function for histograms).\n",
      "  warnings.warn(msg, FutureWarning)\n"
     ]
    },
    {
     "data": {
      "text/plain": [
       "<matplotlib.axes._subplots.AxesSubplot at 0x1fa8d458bb0>"
      ]
     },
     "execution_count": 75,
     "metadata": {},
     "output_type": "execute_result"
    },
    {
     "data": {
      "image/png": "[encoded data removed]",
      "text/plain": [
       "<Figure size 432x288 with 1 Axes>"
      ]
     },
     "metadata": {
      "needs_background": "light"
     },
     "output_type": "display_data"
    }
   ],
   "source": [
    "sns.distplot(df1[\"PropertySize_arc\"])"
   ]
  },
  {
   "cell_type": "code",
   "execution_count": 76,
   "metadata": {},
   "outputs": [],
   "source": [
    "df1[\"CollectedAmt\" + \"_arc\"] = np.arcsinh(df1[\"CollectedAmt\"])\n",
    "df1.drop(\"CollectedAmt\", axis=1, inplace=True)\n"
   ]
  },
  {
   "cell_type": "code",
   "execution_count": 77,
   "metadata": {},
   "outputs": [
    {
     "data": {
      "text/plain": [
       "<seaborn.axisgrid.FacetGrid at 0x1fa8d1df5e0>"
      ]
     },
     "execution_count": 77,
     "metadata": {},
     "output_type": "execute_result"
    },
    {
     "data": {
      "image/png": "[encoded data removed]",
      "text/plain": [
       "<Figure size 360x360 with 1 Axes>"
      ]
     },
     "metadata": {
      "needs_background": "light"
     },
     "output_type": "display_data"
    }
   ],
   "source": [
    "sns.displot(df1[\"CollectedAmt_arc\"])"
   ]
  },
  {
   "cell_type": "code",
   "execution_count": 78,
   "metadata": {},
   "outputs": [],
   "source": [
    "df1[\"BillingAmt\" + \"_arc\"] = np.arcsinh(df1[\"BillingAmt\"])\n",
    "df1.drop(\"BillingAmt\", axis=1, inplace=True)"
   ]
  },
  {
   "cell_type": "code",
   "execution_count": 79,
   "metadata": {},
   "outputs": [],
   "source": [
    "df1[\"AverageCollectedAmt\" + \"_arc\"] = np.arcsinh(df1[\"AverageCollectedAmt\"])\n",
    "df1.drop(\"AverageCollectedAmt\", axis=1, inplace=True)"
   ]
  },
  {
   "cell_type": "code",
   "execution_count": 80,
   "metadata": {},
   "outputs": [
    {
     "name": "stderr",
     "output_type": "stream",
     "text": [
      "C:\\Users\\kayaf\\anaconda3\\lib\\site-packages\\seaborn\\distributions.py:2619: FutureWarning: `distplot` is a deprecated function and will be removed in a future version. Please adapt your code to use either `displot` (a figure-level function with similar flexibility) or `histplot` (an axes-level function for histograms).\n",
      "  warnings.warn(msg, FutureWarning)\n"
     ]
    },
    {
     "data": {
      "text/plain": [
       "<matplotlib.axes._subplots.AxesSubplot at 0x1fa8d1f7a00>"
      ]
     },
     "execution_count": 80,
     "metadata": {},
     "output_type": "execute_result"
    },
    {
     "data": {
      "image/png": "[encoded data removed]",
      "text/plain": [
       "<Figure size 432x288 with 1 Axes>"
      ]
     },
     "metadata": {
      "needs_background": "light"
     },
     "output_type": "display_data"
    }
   ],
   "source": [
    "sns.distplot(df1[\"AverageCollectedAmt_arc\"])"
   ]
  },
  {
   "cell_type": "code",
   "execution_count": 81,
   "metadata": {},
   "outputs": [],
   "source": [
    "df1[\"DebtAmt\" + \"_arc\"] = np.arcsinh(df1[\"DebtAmt\"])\n",
    "df1.drop(\"DebtAmt\", axis=1, inplace=True)"
   ]
  },
  {
   "cell_type": "code",
   "execution_count": 82,
   "metadata": {},
   "outputs": [
    {
     "name": "stderr",
     "output_type": "stream",
     "text": [
      "C:\\Users\\kayaf\\anaconda3\\lib\\site-packages\\seaborn\\distributions.py:2619: FutureWarning: `distplot` is a deprecated function and will be removed in a future version. Please adapt your code to use either `displot` (a figure-level function with similar flexibility) or `histplot` (an axes-level function for histograms).\n",
      "  warnings.warn(msg, FutureWarning)\n"
     ]
    },
    {
     "data": {
      "text/plain": [
       "<matplotlib.axes._subplots.AxesSubplot at 0x1fa8d1eba30>"
      ]
     },
     "execution_count": 82,
     "metadata": {},
     "output_type": "execute_result"
    },
    {
     "data": {
      "image/png": "[encoded data removed]",
      "text/plain": [
       "<Figure size 432x288 with 1 Axes>"
      ]
     },
     "metadata": {
      "needs_background": "light"
     },
     "output_type": "display_data"
    }
   ],
   "source": [
    "sns.distplot(df1[\"DebtAmt_arc\"])"
   ]
  },
  {
   "cell_type": "code",
   "execution_count": 83,
   "metadata": {},
   "outputs": [],
   "source": [
    "df1[\"WriteOffAmt\" + \"_arc\"] = np.arcsinh(df1[\"WriteOffAmt\"])\n",
    "df1.drop(\"WriteOffAmt\", axis=1, inplace=True)"
   ]
  },
  {
   "cell_type": "code",
   "execution_count": 84,
   "metadata": {},
   "outputs": [
    {
     "name": "stderr",
     "output_type": "stream",
     "text": [
      "C:\\Users\\kayaf\\anaconda3\\lib\\site-packages\\seaborn\\distributions.py:2619: FutureWarning: `distplot` is a deprecated function and will be removed in a future version. Please adapt your code to use either `displot` (a figure-level function with similar flexibility) or `histplot` (an axes-level function for histograms).\n",
      "  warnings.warn(msg, FutureWarning)\n"
     ]
    },
    {
     "data": {
      "text/plain": [
       "<matplotlib.axes._subplots.AxesSubplot at 0x1fa8dde6f40>"
      ]
     },
     "execution_count": 84,
     "metadata": {},
     "output_type": "execute_result"
    },
    {
     "data": {
      "image/png": "[encoded data removed]",
      "text/plain": [
       "<Figure size 432x288 with 1 Axes>"
      ]
     },
     "metadata": {
      "needs_background": "light"
     },
     "output_type": "display_data"
    }
   ],
   "source": [
    "sns.distplot(df1[\"WriteOffAmt_arc\"])"
   ]
  },
  {
   "cell_type": "code",
   "execution_count": 85,
   "metadata": {},
   "outputs": [],
   "source": [
    "df1[\"CollectionRatio\" + \"_arc\"] = np.arcsinh(df1[\"CollectionRatio\"])\n",
    "df1.drop(\"CollectionRatio\", axis=1, inplace=True)"
   ]
  },
  {
   "cell_type": "code",
   "execution_count": 86,
   "metadata": {},
   "outputs": [
    {
     "name": "stderr",
     "output_type": "stream",
     "text": [
      "C:\\Users\\kayaf\\anaconda3\\lib\\site-packages\\seaborn\\distributions.py:2619: FutureWarning: `distplot` is a deprecated function and will be removed in a future version. Please adapt your code to use either `displot` (a figure-level function with similar flexibility) or `histplot` (an axes-level function for histograms).\n",
      "  warnings.warn(msg, FutureWarning)\n"
     ]
    },
    {
     "data": {
      "text/plain": [
       "<matplotlib.axes._subplots.AxesSubplot at 0x1fa8d617c10>"
      ]
     },
     "execution_count": 86,
     "metadata": {},
     "output_type": "execute_result"
    },
    {
     "data": {
      "image/png": "[encoded data removed]",
      "text/plain": [
       "<Figure size 432x288 with 1 Axes>"
      ]
     },
     "metadata": {
      "needs_background": "light"
     },
     "output_type": "display_data"
    }
   ],
   "source": [
    "sns.distplot(df1[\"CollectionRatio_arc\"])"
   ]
  },
  {
   "cell_type": "code",
   "execution_count": 87,
   "metadata": {},
   "outputs": [],
   "source": [
    "df1[\"DebtBillingRatio\" + \"_arc\"] = np.arcsinh(df1[\"DebtBillingRatio\"])\n",
    "df1.drop(\"DebtBillingRatio\", axis=1, inplace=True)"
   ]
  },
  {
   "cell_type": "code",
   "execution_count": 88,
   "metadata": {},
   "outputs": [
    {
     "name": "stderr",
     "output_type": "stream",
     "text": [
      "C:\\Users\\kayaf\\anaconda3\\lib\\site-packages\\seaborn\\distributions.py:2619: FutureWarning: `distplot` is a deprecated function and will be removed in a future version. Please adapt your code to use either `displot` (a figure-level function with similar flexibility) or `histplot` (an axes-level function for histograms).\n",
      "  warnings.warn(msg, FutureWarning)\n"
     ]
    },
    {
     "data": {
      "text/plain": [
       "<matplotlib.axes._subplots.AxesSubplot at 0x1fa8d982f10>"
      ]
     },
     "execution_count": 88,
     "metadata": {},
     "output_type": "execute_result"
    },
    {
     "data": {
      "image/png": "[encoded data removed]",
      "text/plain": [
       "<Figure size 432x288 with 1 Axes>"
      ]
     },
     "metadata": {
      "needs_background": "light"
     },
     "output_type": "display_data"
    }
   ],
   "source": [
    "sns.distplot(df1[\"DebtBillingRatio_arc\"])"
   ]
  },
  {
   "cell_type": "code",
   "execution_count": 89,
   "metadata": {},
   "outputs": [],
   "source": [
    "df1[\"TotalElectricityBill\" + \"_arc\"] = np.arcsinh(df1[\"TotalElectricityBill\"])\n",
    "df1.drop(\"TotalElectricityBill\", axis=1, inplace=True)"
   ]
  },
  {
   "cell_type": "code",
   "execution_count": 90,
   "metadata": {
    "scrolled": true
   },
   "outputs": [
    {
     "name": "stderr",
     "output_type": "stream",
     "text": [
      "C:\\Users\\kayaf\\anaconda3\\lib\\site-packages\\seaborn\\distributions.py:2619: FutureWarning: `distplot` is a deprecated function and will be removed in a future version. Please adapt your code to use either `displot` (a figure-level function with similar flexibility) or `histplot` (an axes-level function for histograms).\n",
      "  warnings.warn(msg, FutureWarning)\n"
     ]
    },
    {
     "data": {
      "text/plain": [
       "<matplotlib.axes._subplots.AxesSubplot at 0x1fa8e038910>"
      ]
     },
     "execution_count": 90,
     "metadata": {},
     "output_type": "execute_result"
    },
    {
     "data": {
      "image/png": "[encoded data removed]",
      "text/plain": [
       "<Figure size 432x288 with 1 Axes>"
      ]
     },
     "metadata": {
      "needs_background": "light"
     },
     "output_type": "display_data"
    }
   ],
   "source": [
    "sns.distplot(df1[\"TotalElectricityBill_arc\"])"
   ]
  },
  {
   "cell_type": "code",
   "execution_count": 91,
   "metadata": {},
   "outputs": [],
   "source": [
    "df1[\"AverageBillingAmt\" + \"_arc\"] = np.arcsinh(df1[\"AverageBillingAmt\"])\n",
    "df1.drop(\"AverageBillingAmt\", axis=1, inplace=True)"
   ]
  },
  {
   "cell_type": "code",
   "execution_count": 92,
   "metadata": {},
   "outputs": [
    {
     "data": {
      "text/plain": [
       "<seaborn.axisgrid.FacetGrid at 0x1fa8ded2880>"
      ]
     },
     "execution_count": 92,
     "metadata": {},
     "output_type": "execute_result"
    },
    {
     "data": {
      "image/png": "[encoded data removed]",
      "text/plain": [
       "<Figure size 360x360 with 1 Axes>"
      ]
     },
     "metadata": {
      "needs_background": "light"
     },
     "output_type": "display_data"
    }
   ],
   "source": [
    "sns.displot(df1['AverageBillingAmt_arc'])"
   ]
  },
  {
   "cell_type": "markdown",
   "metadata": {},
   "source": [
    "### Standardizing "
   ]
  },
  {
   "cell_type": "code",
   "execution_count": 93,
   "metadata": {},
   "outputs": [],
   "source": [
    "from sklearn.preprocessing import StandardScaler, MinMaxScaler"
   ]
  },
  {
   "cell_type": "code",
   "execution_count": 94,
   "metadata": {},
   "outputs": [],
   "source": [
    "std_scaler = StandardScaler()"
   ]
  },
  {
   "cell_type": "code",
   "execution_count": 95,
   "metadata": {},
   "outputs": [
    {
     "data": {
      "text/plain": [
       "Index(['Category', 'HasID', 'Label', 'Value_arc', 'PropertySize_arc',\n",
       "       'CollectedAmt_arc', 'BillingAmt_arc', 'AverageCollectedAmt_arc',\n",
       "       'DebtAmt_arc', 'WriteOffAmt_arc', 'CollectionRatio_arc',\n",
       "       'DebtBillingRatio_arc', 'TotalElectricityBill_arc',\n",
       "       'AverageBillingAmt_arc'],\n",
       "      dtype='object')"
      ]
     },
     "execution_count": 95,
     "metadata": {},
     "output_type": "execute_result"
    }
   ],
   "source": [
    "df1.columns"
   ]
  },
  {
   "cell_type": "code",
   "execution_count": 96,
   "metadata": {},
   "outputs": [],
   "source": [
    "df1['PropertySize_arc'] = std_scaler.fit_transform(df1[['PropertySize_arc']])"
   ]
  },
  {
   "cell_type": "code",
   "execution_count": 97,
   "metadata": {},
   "outputs": [],
   "source": [
    "df1['CollectedAmt_arc'] = std_scaler.fit_transform(df1[['CollectedAmt_arc']])\n",
    "df1['AverageCollectedAmt_arc'] = std_scaler.fit_transform(df1[['AverageCollectedAmt_arc']])\n",
    "df1['DebtAmt_arc'] = std_scaler.fit_transform(df1[['DebtAmt_arc']])\n",
    "df1['WriteOffAmt_arc'] = std_scaler.fit_transform(df1[['WriteOffAmt_arc']])\n",
    "df1['CollectionRatio_arc'] = std_scaler.fit_transform(df1[['CollectionRatio_arc']])\n",
    "df1['DebtBillingRatio_arc'] = std_scaler.fit_transform(df1[['DebtBillingRatio_arc']])\n",
    "df1['TotalElectricityBill_arc'] = std_scaler.fit_transform(df1[['TotalElectricityBill_arc']])\n",
    "df1['AverageBillingAmt_arc'] = std_scaler.fit_transform(df1[['AverageBillingAmt_arc']])\n",
    "df1['Value_arc'] = std_scaler.fit_transform(df1[['Value_arc']])\n",
    "df1['BillingAmt_arc'] = std_scaler.fit_transform(df1[['BillingAmt_arc']])"
   ]
  },
  {
   "cell_type": "code",
   "execution_count": 98,
   "metadata": {},
   "outputs": [
    {
     "data": {
      "text/html": [
       "<div>\n",
       "<style scoped>\n",
       "    .dataframe tbody tr th:only-of-type {\n",
       "        vertical-align: middle;\n",
       "    }\n",
       "\n",
       "    .dataframe tbody tr th {\n",
       "        vertical-align: top;\n",
       "    }\n",
       "\n",
       "    .dataframe thead th {\n",
       "        text-align: right;\n",
       "    }\n",
       "</style>\n",
       "<table border=\"1\" class=\"dataframe\">\n",
       "  <thead>\n",
       "    <tr style=\"text-align: right;\">\n",
       "      <th></th>\n",
       "      <th>Category</th>\n",
       "      <th>HasID</th>\n",
       "      <th>Label</th>\n",
       "      <th>Value_arc</th>\n",
       "      <th>PropertySize_arc</th>\n",
       "      <th>CollectedAmt_arc</th>\n",
       "      <th>BillingAmt_arc</th>\n",
       "      <th>AverageCollectedAmt_arc</th>\n",
       "      <th>DebtAmt_arc</th>\n",
       "      <th>WriteOffAmt_arc</th>\n",
       "      <th>CollectionRatio_arc</th>\n",
       "      <th>DebtBillingRatio_arc</th>\n",
       "      <th>TotalElectricityBill_arc</th>\n",
       "      <th>AverageBillingAmt_arc</th>\n",
       "    </tr>\n",
       "  </thead>\n",
       "  <tbody>\n",
       "    <tr>\n",
       "      <th>0</th>\n",
       "      <td>Residential</td>\n",
       "      <td>0</td>\n",
       "      <td>0</td>\n",
       "      <td>0.959394</td>\n",
       "      <td>-0.045559</td>\n",
       "      <td>1.336395</td>\n",
       "      <td>0.918474</td>\n",
       "      <td>1.334613</td>\n",
       "      <td>-0.764697</td>\n",
       "      <td>-0.334405</td>\n",
       "      <td>0.586413</td>\n",
       "      <td>-0.460857</td>\n",
       "      <td>-0.565815</td>\n",
       "      <td>0.887066</td>\n",
       "    </tr>\n",
       "    <tr>\n",
       "      <th>1</th>\n",
       "      <td>Residential</td>\n",
       "      <td>0</td>\n",
       "      <td>0</td>\n",
       "      <td>-0.106218</td>\n",
       "      <td>-0.229964</td>\n",
       "      <td>0.388106</td>\n",
       "      <td>-0.205954</td>\n",
       "      <td>0.767866</td>\n",
       "      <td>-0.764697</td>\n",
       "      <td>-0.334405</td>\n",
       "      <td>0.978633</td>\n",
       "      <td>-0.460857</td>\n",
       "      <td>-0.565815</td>\n",
       "      <td>-0.968029</td>\n",
       "    </tr>\n",
       "    <tr>\n",
       "      <th>2</th>\n",
       "      <td>Residential</td>\n",
       "      <td>1</td>\n",
       "      <td>0</td>\n",
       "      <td>0.627815</td>\n",
       "      <td>-0.076097</td>\n",
       "      <td>1.218892</td>\n",
       "      <td>0.787612</td>\n",
       "      <td>0.660159</td>\n",
       "      <td>-0.764697</td>\n",
       "      <td>-0.334405</td>\n",
       "      <td>0.597446</td>\n",
       "      <td>-0.460857</td>\n",
       "      <td>1.937600</td>\n",
       "      <td>0.633178</td>\n",
       "    </tr>\n",
       "    <tr>\n",
       "      <th>3</th>\n",
       "      <td>Municipal</td>\n",
       "      <td>1</td>\n",
       "      <td>1</td>\n",
       "      <td>-0.080157</td>\n",
       "      <td>-2.150086</td>\n",
       "      <td>-1.102850</td>\n",
       "      <td>0.394257</td>\n",
       "      <td>-1.091703</td>\n",
       "      <td>1.315761</td>\n",
       "      <td>-0.334405</td>\n",
       "      <td>-0.774254</td>\n",
       "      <td>0.372972</td>\n",
       "      <td>-0.565815</td>\n",
       "      <td>0.309701</td>\n",
       "    </tr>\n",
       "    <tr>\n",
       "      <th>4</th>\n",
       "      <td>Residential</td>\n",
       "      <td>0</td>\n",
       "      <td>0</td>\n",
       "      <td>0.203263</td>\n",
       "      <td>-2.150086</td>\n",
       "      <td>0.353873</td>\n",
       "      <td>-2.270560</td>\n",
       "      <td>0.725170</td>\n",
       "      <td>-0.764697</td>\n",
       "      <td>-0.334405</td>\n",
       "      <td>-9.320167</td>\n",
       "      <td>-0.460857</td>\n",
       "      <td>-0.565815</td>\n",
       "      <td>-1.585146</td>\n",
       "    </tr>\n",
       "  </tbody>\n",
       "</table>\n",
       "</div>"
      ],
      "text/plain": [
       "      Category HasID Label  Value_arc  PropertySize_arc  CollectedAmt_arc  \\\n",
       "0  Residential     0     0   0.959394         -0.045559          1.336395   \n",
       "1  Residential     0     0  -0.106218         -0.229964          0.388106   \n",
       "2  Residential     1     0   0.627815         -0.076097          1.218892   \n",
       "3    Municipal     1     1  -0.080157         -2.150086         -1.102850   \n",
       "4  Residential     0     0   0.203263         -2.150086          0.353873   \n",
       "\n",
       "   BillingAmt_arc  AverageCollectedAmt_arc  DebtAmt_arc  WriteOffAmt_arc  \\\n",
       "0        0.918474                 1.334613    -0.764697        -0.334405   \n",
       "1       -0.205954                 0.767866    -0.764697        -0.334405   \n",
       "2        0.787612                 0.660159    -0.764697        -0.334405   \n",
       "3        0.394257                -1.091703     1.315761        -0.334405   \n",
       "4       -2.270560                 0.725170    -0.764697        -0.334405   \n",
       "\n",
       "   CollectionRatio_arc  DebtBillingRatio_arc  TotalElectricityBill_arc  \\\n",
       "0             0.586413             -0.460857                 -0.565815   \n",
       "1             0.978633             -0.460857                 -0.565815   \n",
       "2             0.597446             -0.460857                  1.937600   \n",
       "3            -0.774254              0.372972                 -0.565815   \n",
       "4            -9.320167             -0.460857                 -0.565815   \n",
       "\n",
       "   AverageBillingAmt_arc  \n",
       "0               0.887066  \n",
       "1              -0.968029  \n",
       "2               0.633178  \n",
       "3               0.309701  \n",
       "4              -1.585146  "
      ]
     },
     "execution_count": 98,
     "metadata": {},
     "output_type": "execute_result"
    }
   ],
   "source": [
    "df1.head()"
   ]
  },
  {
   "cell_type": "markdown",
   "metadata": {},
   "source": [
    "### Outliers"
   ]
  },
  {
   "cell_type": "code",
   "execution_count": 99,
   "metadata": {},
   "outputs": [
    {
     "data": {
      "text/plain": [
       "Category                    category\n",
       "HasID                       category\n",
       "Label                       category\n",
       "Value_arc                    float64\n",
       "PropertySize_arc             float64\n",
       "CollectedAmt_arc             float64\n",
       "BillingAmt_arc               float64\n",
       "AverageCollectedAmt_arc      float64\n",
       "DebtAmt_arc                  float64\n",
       "WriteOffAmt_arc              float64\n",
       "CollectionRatio_arc          float64\n",
       "DebtBillingRatio_arc         float64\n",
       "TotalElectricityBill_arc     float64\n",
       "AverageBillingAmt_arc        float64\n",
       "dtype: object"
      ]
     },
     "execution_count": 99,
     "metadata": {},
     "output_type": "execute_result"
    }
   ],
   "source": [
    "df1.dtypes"
   ]
  },
  {
   "cell_type": "code",
   "execution_count": 100,
   "metadata": {},
   "outputs": [],
   "source": [
    "Q1 = df1.quantile(0.25)  \n",
    "Q3 = df1.quantile(0.75)\n",
    "\n",
    "IQR = Q3 - Q1  \n",
    "\n",
    "lower = (\n",
    "    Q1 - 1.5 * IQR\n",
    ")  # Finding lower and upper bounds for all values. All values outside these bounds are outliers\n",
    "upper = Q3 + 1.5 * IQR"
   ]
  },
  {
   "cell_type": "code",
   "execution_count": 101,
   "metadata": {},
   "outputs": [
    {
     "data": {
      "text/plain": [
       "Value_arc                    9.151621\n",
       "PropertySize_arc            20.446086\n",
       "CollectedAmt_arc             0.000000\n",
       "BillingAmt_arc               8.011028\n",
       "AverageCollectedAmt_arc      0.001991\n",
       "DebtAmt_arc                  0.000000\n",
       "WriteOffAmt_arc             10.791847\n",
       "CollectionRatio_arc          1.452117\n",
       "DebtBillingRatio_arc        13.432331\n",
       "TotalElectricityBill_arc     0.305552\n",
       "AverageBillingAmt_arc        9.656229\n",
       "dtype: float64"
      ]
     },
     "execution_count": 101,
     "metadata": {},
     "output_type": "execute_result"
    }
   ],
   "source": [
    "(\n",
    "    (df1.select_dtypes(include=[\"float64\"]) < lower)\n",
    "    | (df1.select_dtypes(include=[\"float64\"]) > upper) #there are outliers but i want to keep these first \n",
    ").sum() / len(df1) * 100"
   ]
  },
  {
   "cell_type": "code",
   "execution_count": 102,
   "metadata": {},
   "outputs": [],
   "source": [
    "df2=df1.copy()"
   ]
  },
  {
   "cell_type": "markdown",
   "metadata": {},
   "source": [
    "#### Data Preparation"
   ]
  },
  {
   "cell_type": "code",
   "execution_count": 103,
   "metadata": {},
   "outputs": [],
   "source": [
    "X = df2.drop([\"Label\"], axis=1)\n",
    "\n",
    "Y = df2[\"Label\"]\n",
    "\n",
    "X = pd.get_dummies(X, columns=[\"Category\"], drop_first=True)\n",
    "\n",
    "# Splitting data in train and test sets\n",
    "X_train, X_test, y_train, y_test = train_test_split(\n",
    "    X, Y, test_size=0.30, random_state=1\n",
    ")"
   ]
  },
  {
   "cell_type": "code",
   "execution_count": 104,
   "metadata": {},
   "outputs": [
    {
     "name": "stdout",
     "output_type": "stream",
     "text": [
      "Shape of Training set :  (70331, 22)\n",
      "Shape of test set :  (30143, 22)\n",
      "Percentage of classes in training set:\n",
      "0    0.538198\n",
      "1    0.461802\n",
      "Name: Label, dtype: float64\n",
      "Percentage of classes in test set:\n",
      "0    0.539462\n",
      "1    0.460538\n",
      "Name: Label, dtype: float64\n"
     ]
    }
   ],
   "source": [
    "print(\"Shape of Training set : \", X_train.shape)\n",
    "print(\"Shape of test set : \", X_test.shape)\n",
    "print(\"Percentage of classes in training set:\")\n",
    "print(y_train.value_counts(normalize=True))\n",
    "print(\"Percentage of classes in test set:\")\n",
    "print(y_test.value_counts(normalize=True))"
   ]
  },
  {
   "cell_type": "code",
   "execution_count": 105,
   "metadata": {},
   "outputs": [],
   "source": [
    "def model_performance_classification_sklearn_with_threshold(\n",
    "    model, predictors, target, threshold=0.5\n",
    "):\n",
    "\n",
    "    pred_prob = model.predict_proba(predictors)[:, 1]\n",
    "    pred_thres = pred_prob > threshold\n",
    "    pred = np.round(pred_thres)\n",
    "\n",
    "    acc = accuracy_score(target, pred)  # to compute Accuracy\n",
    "    recall = recall_score(target, pred)  # to compute Recall\n",
    "    precision = precision_score(target, pred)  # to compute Precision\n",
    "    f1 = f1_score(target, pred)\n",
    "    av_pre= average_precision_score(target, pred)\n",
    "\n",
    "    # creating a dataframe of metrics\n",
    "    df_perf = pd.DataFrame(\n",
    "        {\"Accuracy\": acc, \"Recall\": recall, \"Precision\": precision, \"F1\": f1, \"Ave_Precision\":av_pre},\n",
    "        index=[0],\n",
    "    )\n",
    "\n",
    "    return df_perf"
   ]
  },
  {
   "cell_type": "code",
   "execution_count": 106,
   "metadata": {},
   "outputs": [],
   "source": [
    "def confusion_matrix_sklearn_with_threshold(model, predictors, target, threshold=0.5):\n",
    "    pred_prob = model.predict_proba(predictors)[:, 1]\n",
    "    pred_thres = pred_prob > threshold\n",
    "    y_pred = np.round(pred_thres)\n",
    "\n",
    "    cm = confusion_matrix(target, y_pred)\n",
    "    labels = np.asarray(\n",
    "        [\n",
    "            [\"{0:0.0f}\".format(item) + \"\\n{0:.2%}\".format(item / cm.flatten().sum())]\n",
    "            for item in cm.flatten()\n",
    "        ]\n",
    "    ).reshape(2, 2)\n",
    "\n",
    "    plt.figure(figsize=(6, 4))\n",
    "    sns.heatmap(cm, annot=labels, fmt=\"\")\n",
    "    plt.ylabel(\"True label\")\n",
    "    plt.xlabel(\"Predicted label\")"
   ]
  },
  {
   "cell_type": "markdown",
   "metadata": {},
   "source": [
    "# Building the model"
   ]
  },
  {
   "cell_type": "code",
   "execution_count": 107,
   "metadata": {},
   "outputs": [],
   "source": [
    "lg = LogisticRegression(solver=\"newton-cg\", random_state=1)\n",
    "logmodel = lg.fit(X_train, y_train)"
   ]
  },
  {
   "cell_type": "code",
   "execution_count": 108,
   "metadata": {},
   "outputs": [
    {
     "name": "stderr",
     "output_type": "stream",
     "text": [
      "C:\\Users\\kayaf\\anaconda3\\lib\\site-packages\\sklearn\\base.py:566: FutureWarning: Arrays of bytes/strings is being converted to decimal numbers if dtype='numeric'. This behavior is deprecated in 0.24 and will be removed in 1.1 (renaming of 0.26). Please convert your data to numeric values explicitly instead.\n",
      "  X = check_array(X, **check_params)\n"
     ]
    },
    {
     "data": {
      "image/png": "[encoded data removed]",
      "text/plain": [
       "<Figure size 432x288 with 2 Axes>"
      ]
     },
     "metadata": {
      "needs_background": "light"
     },
     "output_type": "display_data"
    }
   ],
   "source": [
    "confusion_matrix_sklearn_with_threshold(logmodel, X_train, y_train)"
   ]
  },
  {
   "cell_type": "code",
   "execution_count": 109,
   "metadata": {},
   "outputs": [
    {
     "name": "stderr",
     "output_type": "stream",
     "text": [
      "C:\\Users\\kayaf\\anaconda3\\lib\\site-packages\\sklearn\\base.py:566: FutureWarning: Arrays of bytes/strings is being converted to decimal numbers if dtype='numeric'. This behavior is deprecated in 0.24 and will be removed in 1.1 (renaming of 0.26). Please convert your data to numeric values explicitly instead.\n",
      "  X = check_array(X, **check_params)\n"
     ]
    },
    {
     "data": {
      "text/html": [
       "<div>\n",
       "<style scoped>\n",
       "    .dataframe tbody tr th:only-of-type {\n",
       "        vertical-align: middle;\n",
       "    }\n",
       "\n",
       "    .dataframe tbody tr th {\n",
       "        vertical-align: top;\n",
       "    }\n",
       "\n",
       "    .dataframe thead th {\n",
       "        text-align: right;\n",
       "    }\n",
       "</style>\n",
       "<table border=\"1\" class=\"dataframe\">\n",
       "  <thead>\n",
       "    <tr style=\"text-align: right;\">\n",
       "      <th></th>\n",
       "      <th>Accuracy</th>\n",
       "      <th>Recall</th>\n",
       "      <th>Precision</th>\n",
       "      <th>F1</th>\n",
       "      <th>Ave_Precision</th>\n",
       "    </tr>\n",
       "  </thead>\n",
       "  <tbody>\n",
       "    <tr>\n",
       "      <th>0</th>\n",
       "      <td>0.99582</td>\n",
       "      <td>0.990948</td>\n",
       "      <td>1.0</td>\n",
       "      <td>0.995453</td>\n",
       "      <td>0.995128</td>\n",
       "    </tr>\n",
       "  </tbody>\n",
       "</table>\n",
       "</div>"
      ],
      "text/plain": [
       "   Accuracy    Recall  Precision        F1  Ave_Precision\n",
       "0   0.99582  0.990948        1.0  0.995453       0.995128"
      ]
     },
     "execution_count": 109,
     "metadata": {},
     "output_type": "execute_result"
    }
   ],
   "source": [
    "model_performance_classification_sklearn_with_threshold(\n",
    "    logmodel, X_train, y_train\n",
    ")"
   ]
  },
  {
   "cell_type": "code",
   "execution_count": 110,
   "metadata": {},
   "outputs": [
    {
     "name": "stderr",
     "output_type": "stream",
     "text": [
      "C:\\Users\\kayaf\\anaconda3\\lib\\site-packages\\sklearn\\base.py:566: FutureWarning: Arrays of bytes/strings is being converted to decimal numbers if dtype='numeric'. This behavior is deprecated in 0.24 and will be removed in 1.1 (renaming of 0.26). Please convert your data to numeric values explicitly instead.\n",
      "  X = check_array(X, **check_params)\n"
     ]
    },
    {
     "data": {
      "text/html": [
       "<div>\n",
       "<style scoped>\n",
       "    .dataframe tbody tr th:only-of-type {\n",
       "        vertical-align: middle;\n",
       "    }\n",
       "\n",
       "    .dataframe tbody tr th {\n",
       "        vertical-align: top;\n",
       "    }\n",
       "\n",
       "    .dataframe thead th {\n",
       "        text-align: right;\n",
       "    }\n",
       "</style>\n",
       "<table border=\"1\" class=\"dataframe\">\n",
       "  <thead>\n",
       "    <tr style=\"text-align: right;\">\n",
       "      <th></th>\n",
       "      <th>Accuracy</th>\n",
       "      <th>Recall</th>\n",
       "      <th>Precision</th>\n",
       "      <th>F1</th>\n",
       "      <th>Ave_Precision</th>\n",
       "    </tr>\n",
       "  </thead>\n",
       "  <tbody>\n",
       "    <tr>\n",
       "      <th>0</th>\n",
       "      <td>0.995687</td>\n",
       "      <td>0.990635</td>\n",
       "      <td>1.0</td>\n",
       "      <td>0.995296</td>\n",
       "      <td>0.994948</td>\n",
       "    </tr>\n",
       "  </tbody>\n",
       "</table>\n",
       "</div>"
      ],
      "text/plain": [
       "   Accuracy    Recall  Precision        F1  Ave_Precision\n",
       "0  0.995687  0.990635        1.0  0.995296       0.994948"
      ]
     },
     "execution_count": 110,
     "metadata": {},
     "output_type": "execute_result"
    }
   ],
   "source": [
    "model_performance_classification_sklearn_with_threshold(\n",
    "    logmodel, X_test, y_test\n",
    ")"
   ]
  },
  {
   "cell_type": "markdown",
   "metadata": {},
   "source": [
    "Train and test sets performances are good and the model is not overfit. "
   ]
  },
  {
   "cell_type": "code",
   "execution_count": 111,
   "metadata": {},
   "outputs": [
    {
     "data": {
      "text/html": [
       "<div>\n",
       "<style scoped>\n",
       "    .dataframe tbody tr th:only-of-type {\n",
       "        vertical-align: middle;\n",
       "    }\n",
       "\n",
       "    .dataframe tbody tr th {\n",
       "        vertical-align: top;\n",
       "    }\n",
       "\n",
       "    .dataframe thead th {\n",
       "        text-align: right;\n",
       "    }\n",
       "</style>\n",
       "<table border=\"1\" class=\"dataframe\">\n",
       "  <thead>\n",
       "    <tr style=\"text-align: right;\">\n",
       "      <th></th>\n",
       "      <th>HasID</th>\n",
       "      <th>Value_arc</th>\n",
       "      <th>PropertySize_arc</th>\n",
       "      <th>CollectedAmt_arc</th>\n",
       "      <th>BillingAmt_arc</th>\n",
       "      <th>AverageCollectedAmt_arc</th>\n",
       "      <th>DebtAmt_arc</th>\n",
       "      <th>WriteOffAmt_arc</th>\n",
       "      <th>CollectionRatio_arc</th>\n",
       "      <th>DebtBillingRatio_arc</th>\n",
       "      <th>TotalElectricityBill_arc</th>\n",
       "      <th>AverageBillingAmt_arc</th>\n",
       "      <th>Category_Business</th>\n",
       "      <th>Category_Educational</th>\n",
       "      <th>Category_Government</th>\n",
       "      <th>Category_Industry</th>\n",
       "      <th>Category_Infrastructure</th>\n",
       "      <th>Category_Municipal</th>\n",
       "      <th>Category_Place of Worship</th>\n",
       "      <th>Category_Public Benefit</th>\n",
       "      <th>Category_Residential</th>\n",
       "      <th>Category_Unknown</th>\n",
       "    </tr>\n",
       "  </thead>\n",
       "  <tbody>\n",
       "    <tr>\n",
       "      <th>coef</th>\n",
       "      <td>1.08411</td>\n",
       "      <td>0.05109</td>\n",
       "      <td>-0.08418</td>\n",
       "      <td>-0.56786</td>\n",
       "      <td>-0.07275</td>\n",
       "      <td>0.64161</td>\n",
       "      <td>18.86667</td>\n",
       "      <td>8.28402</td>\n",
       "      <td>0.00389</td>\n",
       "      <td>0.72928</td>\n",
       "      <td>-0.10214</td>\n",
       "      <td>-0.30920</td>\n",
       "      <td>-1.10123</td>\n",
       "      <td>-0.50707</td>\n",
       "      <td>-0.68370</td>\n",
       "      <td>-0.69347</td>\n",
       "      <td>1.46806</td>\n",
       "      <td>-0.82280</td>\n",
       "      <td>-0.22666</td>\n",
       "      <td>-0.11318</td>\n",
       "      <td>-1.17527</td>\n",
       "      <td>-1.24223</td>\n",
       "    </tr>\n",
       "  </tbody>\n",
       "</table>\n",
       "</div>"
      ],
      "text/plain": [
       "       HasID  Value_arc  PropertySize_arc  CollectedAmt_arc  BillingAmt_arc  \\\n",
       "coef 1.08411    0.05109          -0.08418          -0.56786        -0.07275   \n",
       "\n",
       "      AverageCollectedAmt_arc  DebtAmt_arc  WriteOffAmt_arc  \\\n",
       "coef                  0.64161     18.86667          8.28402   \n",
       "\n",
       "      CollectionRatio_arc  DebtBillingRatio_arc  TotalElectricityBill_arc  \\\n",
       "coef              0.00389               0.72928                  -0.10214   \n",
       "\n",
       "      AverageBillingAmt_arc  Category_Business  Category_Educational  \\\n",
       "coef               -0.30920           -1.10123              -0.50707   \n",
       "\n",
       "      Category_Government  Category_Industry  Category_Infrastructure  \\\n",
       "coef             -0.68370           -0.69347                  1.46806   \n",
       "\n",
       "      Category_Municipal  Category_Place of Worship  Category_Public Benefit  \\\n",
       "coef            -0.82280                   -0.22666                 -0.11318   \n",
       "\n",
       "      Category_Residential  Category_Unknown  \n",
       "coef              -1.17527          -1.24223  "
      ]
     },
     "execution_count": 111,
     "metadata": {},
     "output_type": "execute_result"
    }
   ],
   "source": [
    "log_odds = logmodel.coef_[0]\n",
    "pd.options.display.float_format = \"{:.5f}\".format\n",
    "pd.DataFrame(log_odds, X_train.columns, columns=[\"coef\"]).T"
   ]
  },
  {
   "cell_type": "code",
   "execution_count": 112,
   "metadata": {
    "scrolled": true
   },
   "outputs": [
    {
     "data": {
      "text/html": [
       "<div>\n",
       "<style scoped>\n",
       "    .dataframe tbody tr th:only-of-type {\n",
       "        vertical-align: middle;\n",
       "    }\n",
       "\n",
       "    .dataframe tbody tr th {\n",
       "        vertical-align: top;\n",
       "    }\n",
       "\n",
       "    .dataframe thead th {\n",
       "        text-align: right;\n",
       "    }\n",
       "</style>\n",
       "<table border=\"1\" class=\"dataframe\">\n",
       "  <thead>\n",
       "    <tr style=\"text-align: right;\">\n",
       "      <th></th>\n",
       "      <th>HasID</th>\n",
       "      <th>Value_arc</th>\n",
       "      <th>PropertySize_arc</th>\n",
       "      <th>CollectedAmt_arc</th>\n",
       "      <th>BillingAmt_arc</th>\n",
       "      <th>AverageCollectedAmt_arc</th>\n",
       "      <th>DebtAmt_arc</th>\n",
       "      <th>WriteOffAmt_arc</th>\n",
       "      <th>CollectionRatio_arc</th>\n",
       "      <th>DebtBillingRatio_arc</th>\n",
       "      <th>TotalElectricityBill_arc</th>\n",
       "      <th>AverageBillingAmt_arc</th>\n",
       "      <th>Category_Business</th>\n",
       "      <th>Category_Educational</th>\n",
       "      <th>Category_Government</th>\n",
       "      <th>Category_Industry</th>\n",
       "      <th>Category_Infrastructure</th>\n",
       "      <th>Category_Municipal</th>\n",
       "      <th>Category_Place of Worship</th>\n",
       "      <th>Category_Public Benefit</th>\n",
       "      <th>Category_Residential</th>\n",
       "      <th>Category_Unknown</th>\n",
       "    </tr>\n",
       "  </thead>\n",
       "  <tbody>\n",
       "    <tr>\n",
       "      <th>Odds</th>\n",
       "      <td>2.95681</td>\n",
       "      <td>1.05242</td>\n",
       "      <td>0.91927</td>\n",
       "      <td>0.56674</td>\n",
       "      <td>0.92983</td>\n",
       "      <td>1.89953</td>\n",
       "      <td>156203107.95608</td>\n",
       "      <td>3960.08482</td>\n",
       "      <td>1.00390</td>\n",
       "      <td>2.07358</td>\n",
       "      <td>0.90290</td>\n",
       "      <td>0.73403</td>\n",
       "      <td>0.33246</td>\n",
       "      <td>0.60226</td>\n",
       "      <td>0.50474</td>\n",
       "      <td>0.49984</td>\n",
       "      <td>4.34079</td>\n",
       "      <td>0.43920</td>\n",
       "      <td>0.79719</td>\n",
       "      <td>0.89299</td>\n",
       "      <td>0.30873</td>\n",
       "      <td>0.28874</td>\n",
       "    </tr>\n",
       "    <tr>\n",
       "      <th>Change_odd%</th>\n",
       "      <td>195.68143</td>\n",
       "      <td>5.24222</td>\n",
       "      <td>-8.07340</td>\n",
       "      <td>-43.32641</td>\n",
       "      <td>-7.01673</td>\n",
       "      <td>89.95319</td>\n",
       "      <td>15620310695.60779</td>\n",
       "      <td>395908.48184</td>\n",
       "      <td>0.39016</td>\n",
       "      <td>107.35774</td>\n",
       "      <td>-9.70966</td>\n",
       "      <td>-26.59687</td>\n",
       "      <td>-66.75386</td>\n",
       "      <td>-39.77396</td>\n",
       "      <td>-49.52556</td>\n",
       "      <td>-50.01590</td>\n",
       "      <td>334.07925</td>\n",
       "      <td>-56.07993</td>\n",
       "      <td>-20.28051</td>\n",
       "      <td>-10.70098</td>\n",
       "      <td>-69.12652</td>\n",
       "      <td>-71.12605</td>\n",
       "    </tr>\n",
       "  </tbody>\n",
       "</table>\n",
       "</div>"
      ],
      "text/plain": [
       "                HasID  Value_arc  PropertySize_arc  CollectedAmt_arc  \\\n",
       "Odds          2.95681    1.05242           0.91927           0.56674   \n",
       "Change_odd% 195.68143    5.24222          -8.07340         -43.32641   \n",
       "\n",
       "             BillingAmt_arc  AverageCollectedAmt_arc       DebtAmt_arc  \\\n",
       "Odds                0.92983                  1.89953   156203107.95608   \n",
       "Change_odd%        -7.01673                 89.95319 15620310695.60779   \n",
       "\n",
       "             WriteOffAmt_arc  CollectionRatio_arc  DebtBillingRatio_arc  \\\n",
       "Odds              3960.08482              1.00390               2.07358   \n",
       "Change_odd%     395908.48184              0.39016             107.35774   \n",
       "\n",
       "             TotalElectricityBill_arc  AverageBillingAmt_arc  \\\n",
       "Odds                          0.90290                0.73403   \n",
       "Change_odd%                  -9.70966              -26.59687   \n",
       "\n",
       "             Category_Business  Category_Educational  Category_Government  \\\n",
       "Odds                   0.33246               0.60226              0.50474   \n",
       "Change_odd%          -66.75386             -39.77396            -49.52556   \n",
       "\n",
       "             Category_Industry  Category_Infrastructure  Category_Municipal  \\\n",
       "Odds                   0.49984                  4.34079             0.43920   \n",
       "Change_odd%          -50.01590                334.07925           -56.07993   \n",
       "\n",
       "             Category_Place of Worship  Category_Public Benefit  \\\n",
       "Odds                           0.79719                  0.89299   \n",
       "Change_odd%                  -20.28051                -10.70098   \n",
       "\n",
       "             Category_Residential  Category_Unknown  \n",
       "Odds                      0.30873           0.28874  \n",
       "Change_odd%             -69.12652         -71.12605  "
      ]
     },
     "execution_count": 112,
     "metadata": {},
     "output_type": "execute_result"
    }
   ],
   "source": [
    "odds = np.exp(logmodel.coef_[0])\n",
    "\n",
    "# finding the percentage change\n",
    "perc_change_odds = (np.exp(logmodel.coef_[0]) - 1) * 100\n",
    "\n",
    "# adding the odds to a dataframe\n",
    "pd.DataFrame({\"Odds\": odds, \"Change_odd%\": perc_change_odds}, index=X_train.columns).T"
   ]
  },
  {
   "cell_type": "code",
   "execution_count": 113,
   "metadata": {},
   "outputs": [],
   "source": [
    "from sklearn.model_selection import GridSearchCV"
   ]
  },
  {
   "cell_type": "code",
   "execution_count": 114,
   "metadata": {},
   "outputs": [],
   "source": [
    "param_grid_lr = {\n",
    "    'max_iter': [10, 20, 50, 100, 200, 500, 1000],                      \n",
    "    'solver': ['newton-cg', 'lbfgs', 'liblinear', 'sag', 'saga'],\n",
    "    'class_weight': ['balanced']\n",
    "}"
   ]
  },
  {
   "cell_type": "code",
   "execution_count": 115,
   "metadata": {},
   "outputs": [],
   "source": [
    "model3 = LogisticRegression(solver=\"newton-cg\", n_jobs=-1, random_state=1, max_iter=1000, class_weight='balanced')"
   ]
  },
  {
   "cell_type": "code",
   "execution_count": 116,
   "metadata": {},
   "outputs": [
    {
     "data": {
      "text/plain": [
       "LogisticRegression(class_weight='balanced', max_iter=1000, n_jobs=-1,\n",
       "                   random_state=1, solver='newton-cg')"
      ]
     },
     "execution_count": 116,
     "metadata": {},
     "output_type": "execute_result"
    }
   ],
   "source": [
    "model3.fit(X_train, y_train)"
   ]
  },
  {
   "cell_type": "code",
   "execution_count": 117,
   "metadata": {},
   "outputs": [
    {
     "name": "stderr",
     "output_type": "stream",
     "text": [
      "C:\\Users\\kayaf\\anaconda3\\lib\\site-packages\\sklearn\\base.py:566: FutureWarning: Arrays of bytes/strings is being converted to decimal numbers if dtype='numeric'. This behavior is deprecated in 0.24 and will be removed in 1.1 (renaming of 0.26). Please convert your data to numeric values explicitly instead.\n",
      "  X = check_array(X, **check_params)\n"
     ]
    },
    {
     "data": {
      "text/html": [
       "<div>\n",
       "<style scoped>\n",
       "    .dataframe tbody tr th:only-of-type {\n",
       "        vertical-align: middle;\n",
       "    }\n",
       "\n",
       "    .dataframe tbody tr th {\n",
       "        vertical-align: top;\n",
       "    }\n",
       "\n",
       "    .dataframe thead th {\n",
       "        text-align: right;\n",
       "    }\n",
       "</style>\n",
       "<table border=\"1\" class=\"dataframe\">\n",
       "  <thead>\n",
       "    <tr style=\"text-align: right;\">\n",
       "      <th></th>\n",
       "      <th>Accuracy</th>\n",
       "      <th>Recall</th>\n",
       "      <th>Precision</th>\n",
       "      <th>F1</th>\n",
       "      <th>Ave_Precision</th>\n",
       "    </tr>\n",
       "  </thead>\n",
       "  <tbody>\n",
       "    <tr>\n",
       "      <th>0</th>\n",
       "      <td>0.99589</td>\n",
       "      <td>0.99110</td>\n",
       "      <td>1.00000</td>\n",
       "      <td>0.99553</td>\n",
       "      <td>0.99521</td>\n",
       "    </tr>\n",
       "  </tbody>\n",
       "</table>\n",
       "</div>"
      ],
      "text/plain": [
       "   Accuracy  Recall  Precision      F1  Ave_Precision\n",
       "0   0.99589 0.99110    1.00000 0.99553        0.99521"
      ]
     },
     "execution_count": 117,
     "metadata": {},
     "output_type": "execute_result"
    }
   ],
   "source": [
    "model_performance_classification_sklearn_with_threshold(\n",
    "    model3, X_train, y_train\n",
    ")"
   ]
  },
  {
   "cell_type": "code",
   "execution_count": 118,
   "metadata": {},
   "outputs": [
    {
     "name": "stderr",
     "output_type": "stream",
     "text": [
      "C:\\Users\\kayaf\\anaconda3\\lib\\site-packages\\sklearn\\base.py:566: FutureWarning: Arrays of bytes/strings is being converted to decimal numbers if dtype='numeric'. This behavior is deprecated in 0.24 and will be removed in 1.1 (renaming of 0.26). Please convert your data to numeric values explicitly instead.\n",
      "  X = check_array(X, **check_params)\n"
     ]
    },
    {
     "data": {
      "text/html": [
       "<div>\n",
       "<style scoped>\n",
       "    .dataframe tbody tr th:only-of-type {\n",
       "        vertical-align: middle;\n",
       "    }\n",
       "\n",
       "    .dataframe tbody tr th {\n",
       "        vertical-align: top;\n",
       "    }\n",
       "\n",
       "    .dataframe thead th {\n",
       "        text-align: right;\n",
       "    }\n",
       "</style>\n",
       "<table border=\"1\" class=\"dataframe\">\n",
       "  <thead>\n",
       "    <tr style=\"text-align: right;\">\n",
       "      <th></th>\n",
       "      <th>Accuracy</th>\n",
       "      <th>Recall</th>\n",
       "      <th>Precision</th>\n",
       "      <th>F1</th>\n",
       "      <th>Ave_Precision</th>\n",
       "    </tr>\n",
       "  </thead>\n",
       "  <tbody>\n",
       "    <tr>\n",
       "      <th>0</th>\n",
       "      <td>0.99579</td>\n",
       "      <td>0.99085</td>\n",
       "      <td>1.00000</td>\n",
       "      <td>0.99540</td>\n",
       "      <td>0.99506</td>\n",
       "    </tr>\n",
       "  </tbody>\n",
       "</table>\n",
       "</div>"
      ],
      "text/plain": [
       "   Accuracy  Recall  Precision      F1  Ave_Precision\n",
       "0   0.99579 0.99085    1.00000 0.99540        0.99506"
      ]
     },
     "execution_count": 118,
     "metadata": {},
     "output_type": "execute_result"
    }
   ],
   "source": [
    "model_performance_classification_sklearn_with_threshold(\n",
    "    model3, X_test, y_test\n",
    ")"
   ]
  },
  {
   "cell_type": "markdown",
   "metadata": {},
   "source": [
    "Upload the test data"
   ]
  },
  {
   "cell_type": "code",
   "execution_count": 119,
   "metadata": {},
   "outputs": [],
   "source": [
    "df_test_raw=pd.read_csv(\"account_test.csv\")"
   ]
  },
  {
   "cell_type": "code",
   "execution_count": 120,
   "metadata": {},
   "outputs": [],
   "source": [
    "df_test=df_test_raw.copy()"
   ]
  },
  {
   "cell_type": "code",
   "execution_count": 121,
   "metadata": {},
   "outputs": [
    {
     "data": {
      "text/html": [
       "<div>\n",
       "<style scoped>\n",
       "    .dataframe tbody tr th:only-of-type {\n",
       "        vertical-align: middle;\n",
       "    }\n",
       "\n",
       "    .dataframe tbody tr th {\n",
       "        vertical-align: top;\n",
       "    }\n",
       "\n",
       "    .dataframe thead th {\n",
       "        text-align: right;\n",
       "    }\n",
       "</style>\n",
       "<table border=\"1\" class=\"dataframe\">\n",
       "  <thead>\n",
       "    <tr style=\"text-align: right;\">\n",
       "      <th></th>\n",
       "      <th>AccID</th>\n",
       "      <th>CategoryID</th>\n",
       "      <th>Category</th>\n",
       "      <th>Value</th>\n",
       "      <th>PropertySize</th>\n",
       "      <th>BillingAmt</th>\n",
       "      <th>AverageBillingAmt</th>\n",
       "      <th>CollectedAmt</th>\n",
       "      <th>AverageCollectedAmt</th>\n",
       "      <th>DebtAmt</th>\n",
       "      <th>WriteOffAmt</th>\n",
       "      <th>CollectionRatio</th>\n",
       "      <th>DebtBillingRatio</th>\n",
       "      <th>TotalElectricityBill</th>\n",
       "      <th>HasID</th>\n",
       "    </tr>\n",
       "  </thead>\n",
       "  <tbody>\n",
       "    <tr>\n",
       "      <th>0</th>\n",
       "      <td>d0390389-df62-4bf1-8659-bbc736ce777d</td>\n",
       "      <td>1</td>\n",
       "      <td>Residential</td>\n",
       "      <td>45000</td>\n",
       "      <td>291</td>\n",
       "      <td>2569</td>\n",
       "      <td>103</td>\n",
       "      <td>0</td>\n",
       "      <td>0</td>\n",
       "      <td>15104</td>\n",
       "      <td>0</td>\n",
       "      <td>0.00000</td>\n",
       "      <td>5.88000</td>\n",
       "      <td>0</td>\n",
       "      <td>1</td>\n",
       "    </tr>\n",
       "    <tr>\n",
       "      <th>1</th>\n",
       "      <td>b662b850-85e7-40d6-8fdd-3c2566a154dd</td>\n",
       "      <td>1</td>\n",
       "      <td>Residential</td>\n",
       "      <td>440000</td>\n",
       "      <td>794</td>\n",
       "      <td>9065</td>\n",
       "      <td>245</td>\n",
       "      <td>9065</td>\n",
       "      <td>2266</td>\n",
       "      <td>0</td>\n",
       "      <td>0</td>\n",
       "      <td>1.00000</td>\n",
       "      <td>0.00000</td>\n",
       "      <td>3132</td>\n",
       "      <td>1</td>\n",
       "    </tr>\n",
       "    <tr>\n",
       "      <th>2</th>\n",
       "      <td>41b6ebc4-569c-4c93-8cfa-3d85bce546ac</td>\n",
       "      <td>4</td>\n",
       "      <td>Agricultural</td>\n",
       "      <td>991700</td>\n",
       "      <td>3211597</td>\n",
       "      <td>397</td>\n",
       "      <td>397</td>\n",
       "      <td>0</td>\n",
       "      <td>0</td>\n",
       "      <td>0</td>\n",
       "      <td>0</td>\n",
       "      <td>0.00000</td>\n",
       "      <td>0.00000</td>\n",
       "      <td>0</td>\n",
       "      <td>0</td>\n",
       "    </tr>\n",
       "    <tr>\n",
       "      <th>3</th>\n",
       "      <td>6f0ecc23-da5c-4b84-bcd0-4fae4b3a5aec</td>\n",
       "      <td>1</td>\n",
       "      <td>Residential</td>\n",
       "      <td>180000</td>\n",
       "      <td>572</td>\n",
       "      <td>1578</td>\n",
       "      <td>63</td>\n",
       "      <td>5278</td>\n",
       "      <td>586</td>\n",
       "      <td>1741</td>\n",
       "      <td>0</td>\n",
       "      <td>3.35000</td>\n",
       "      <td>1.10000</td>\n",
       "      <td>0</td>\n",
       "      <td>0</td>\n",
       "    </tr>\n",
       "    <tr>\n",
       "      <th>4</th>\n",
       "      <td>6467f24e-d256-4e6d-8c0d-b726e8d80f48</td>\n",
       "      <td>1</td>\n",
       "      <td>Residential</td>\n",
       "      <td>43000</td>\n",
       "      <td>268</td>\n",
       "      <td>30</td>\n",
       "      <td>1</td>\n",
       "      <td>0</td>\n",
       "      <td>0</td>\n",
       "      <td>0</td>\n",
       "      <td>0</td>\n",
       "      <td>0.00000</td>\n",
       "      <td>0.00000</td>\n",
       "      <td>0</td>\n",
       "      <td>0</td>\n",
       "    </tr>\n",
       "  </tbody>\n",
       "</table>\n",
       "</div>"
      ],
      "text/plain": [
       "                                  AccID  CategoryID      Category   Value  \\\n",
       "0  d0390389-df62-4bf1-8659-bbc736ce777d           1   Residential   45000   \n",
       "1  b662b850-85e7-40d6-8fdd-3c2566a154dd           1   Residential  440000   \n",
       "2  41b6ebc4-569c-4c93-8cfa-3d85bce546ac           4  Agricultural  991700   \n",
       "3  6f0ecc23-da5c-4b84-bcd0-4fae4b3a5aec           1   Residential  180000   \n",
       "4  6467f24e-d256-4e6d-8c0d-b726e8d80f48           1   Residential   43000   \n",
       "\n",
       "   PropertySize  BillingAmt  AverageBillingAmt  CollectedAmt  \\\n",
       "0           291        2569                103             0   \n",
       "1           794        9065                245          9065   \n",
       "2       3211597         397                397             0   \n",
       "3           572        1578                 63          5278   \n",
       "4           268          30                  1             0   \n",
       "\n",
       "   AverageCollectedAmt  DebtAmt  WriteOffAmt  CollectionRatio  \\\n",
       "0                    0    15104            0          0.00000   \n",
       "1                 2266        0            0          1.00000   \n",
       "2                    0        0            0          0.00000   \n",
       "3                  586     1741            0          3.35000   \n",
       "4                    0        0            0          0.00000   \n",
       "\n",
       "   DebtBillingRatio  TotalElectricityBill  HasID  \n",
       "0           5.88000                     0      1  \n",
       "1           0.00000                  3132      1  \n",
       "2           0.00000                     0      0  \n",
       "3           1.10000                     0      0  \n",
       "4           0.00000                     0      0  "
      ]
     },
     "execution_count": 121,
     "metadata": {},
     "output_type": "execute_result"
    }
   ],
   "source": [
    "df_test.head()"
   ]
  },
  {
   "cell_type": "code",
   "execution_count": 122,
   "metadata": {},
   "outputs": [
    {
     "data": {
      "text/plain": [
       "(33493, 15)"
      ]
     },
     "execution_count": 122,
     "metadata": {},
     "output_type": "execute_result"
    }
   ],
   "source": [
    "df_test.shape # lets prepate the test data to make suitable for the model"
   ]
  },
  {
   "cell_type": "code",
   "execution_count": 123,
   "metadata": {},
   "outputs": [],
   "source": [
    "df_test.drop(columns=[\"AccID\",\"CategoryID\"], inplace=True)"
   ]
  },
  {
   "cell_type": "code",
   "execution_count": 124,
   "metadata": {},
   "outputs": [],
   "source": [
    "df_test[\"Value\" + \"_arc\"] = np.arcsinh(df_test[\"Value\"])\n",
    "df_test.drop(\"Value\", axis=1, inplace=True)\n",
    "df_test[\"PropertySize\" + \"_arc\"] = np.arcsinh(df_test[\"PropertySize\"])\n",
    "df_test.drop(\"PropertySize\", axis=1, inplace=True)\n",
    "df_test[\"CollectedAmt\" + \"_arc\"] = np.arcsinh(df_test[\"CollectedAmt\"])\n",
    "df_test.drop(\"CollectedAmt\", axis=1, inplace=True)\n",
    "df_test[\"AverageCollectedAmt\" + \"_arc\"] = np.arcsinh(df_test[\"AverageCollectedAmt\"])\n",
    "df_test.drop(\"AverageCollectedAmt\", axis=1, inplace=True)\n",
    "df_test[\"DebtAmt\" + \"_arc\"] = np.arcsinh(df_test[\"DebtAmt\"])\n",
    "df_test.drop(\"DebtAmt\", axis=1, inplace=True)\n",
    "df_test[\"WriteOffAmt\" + \"_arc\"] = np.arcsinh(df_test[\"WriteOffAmt\"])\n",
    "df_test.drop(\"WriteOffAmt\", axis=1, inplace=True)\n",
    "df_test[\"CollectionRatio\" + \"_arc\"] = np.arcsinh(df_test[\"CollectionRatio\"])\n",
    "df_test.drop(\"CollectionRatio\", axis=1, inplace=True)\n",
    "df_test[\"DebtBillingRatio\" + \"_arc\"] = np.arcsinh(df_test[\"DebtBillingRatio\"])\n",
    "df_test.drop(\"DebtBillingRatio\", axis=1, inplace=True)\n",
    "df_test[\"TotalElectricityBill\" + \"_arc\"] = np.arcsinh(df_test[\"TotalElectricityBill\"])\n",
    "df_test.drop(\"TotalElectricityBill\", axis=1, inplace=True)\n",
    "df_test[\"AverageBillingAmt\" + \"_arc\"] = np.arcsinh(df_test[\"AverageBillingAmt\"])\n",
    "df_test.drop(\"AverageBillingAmt\", axis=1, inplace=True)"
   ]
  },
  {
   "cell_type": "code",
   "execution_count": 125,
   "metadata": {},
   "outputs": [],
   "source": [
    "df_test['PropertySize_arc'] = std_scaler.fit_transform(df_test[['PropertySize_arc']])\n",
    "df_test['CollectedAmt_arc'] = std_scaler.fit_transform(df_test[['CollectedAmt_arc']])\n",
    "df_test['AverageCollectedAmt_arc'] = std_scaler.fit_transform(df_test[['AverageCollectedAmt_arc']])\n",
    "df_test['DebtAmt_arc'] = std_scaler.fit_transform(df_test[['DebtAmt_arc']])\n",
    "df_test['WriteOffAmt_arc'] = std_scaler.fit_transform(df_test[['WriteOffAmt_arc']])\n",
    "df_test['CollectionRatio_arc'] = std_scaler.fit_transform(df_test[['CollectionRatio_arc']])\n",
    "df_test['DebtBillingRatio_arc'] = std_scaler.fit_transform(df_test[['DebtBillingRatio_arc']])\n",
    "df_test['TotalElectricityBill_arc'] = std_scaler.fit_transform(df_test[['TotalElectricityBill_arc']])\n",
    "df_test['AverageBillingAmt_arc'] = std_scaler.fit_transform(df_test[['AverageBillingAmt_arc']])\n",
    "df_test['Value_arc'] = std_scaler.fit_transform(df_test[['Value_arc']])"
   ]
  },
  {
   "cell_type": "code",
   "execution_count": 126,
   "metadata": {},
   "outputs": [
    {
     "data": {
      "text/html": [
       "<div>\n",
       "<style scoped>\n",
       "    .dataframe tbody tr th:only-of-type {\n",
       "        vertical-align: middle;\n",
       "    }\n",
       "\n",
       "    .dataframe tbody tr th {\n",
       "        vertical-align: top;\n",
       "    }\n",
       "\n",
       "    .dataframe thead th {\n",
       "        text-align: right;\n",
       "    }\n",
       "</style>\n",
       "<table border=\"1\" class=\"dataframe\">\n",
       "  <thead>\n",
       "    <tr style=\"text-align: right;\">\n",
       "      <th></th>\n",
       "      <th>Category</th>\n",
       "      <th>BillingAmt</th>\n",
       "      <th>HasID</th>\n",
       "      <th>Value_arc</th>\n",
       "      <th>PropertySize_arc</th>\n",
       "      <th>CollectedAmt_arc</th>\n",
       "      <th>AverageCollectedAmt_arc</th>\n",
       "      <th>DebtAmt_arc</th>\n",
       "      <th>WriteOffAmt_arc</th>\n",
       "      <th>CollectionRatio_arc</th>\n",
       "      <th>DebtBillingRatio_arc</th>\n",
       "      <th>TotalElectricityBill_arc</th>\n",
       "      <th>AverageBillingAmt_arc</th>\n",
       "    </tr>\n",
       "  </thead>\n",
       "  <tbody>\n",
       "    <tr>\n",
       "      <th>0</th>\n",
       "      <td>Residential</td>\n",
       "      <td>2569</td>\n",
       "      <td>1</td>\n",
       "      <td>-0.04576</td>\n",
       "      <td>-0.24391</td>\n",
       "      <td>-1.10659</td>\n",
       "      <td>-1.09468</td>\n",
       "      <td>1.46629</td>\n",
       "      <td>-0.33205</td>\n",
       "      <td>-0.77699</td>\n",
       "      <td>1.26361</td>\n",
       "      <td>-0.56355</td>\n",
       "      <td>0.22307</td>\n",
       "    </tr>\n",
       "    <tr>\n",
       "      <th>1</th>\n",
       "      <td>Residential</td>\n",
       "      <td>9065</td>\n",
       "      <td>1</td>\n",
       "      <td>0.51627</td>\n",
       "      <td>0.05717</td>\n",
       "      <td>0.99467</td>\n",
       "      <td>1.15259</td>\n",
       "      <td>-0.76796</td>\n",
       "      <td>-0.33205</td>\n",
       "      <td>0.58797</td>\n",
       "      <td>-0.45917</td>\n",
       "      <td>1.63256</td>\n",
       "      <td>0.51491</td>\n",
       "    </tr>\n",
       "    <tr>\n",
       "      <th>2</th>\n",
       "      <td>Agricultural</td>\n",
       "      <td>397</td>\n",
       "      <td>0</td>\n",
       "      <td>0.71658</td>\n",
       "      <td>2.54838</td>\n",
       "      <td>-1.10659</td>\n",
       "      <td>-1.09468</td>\n",
       "      <td>-0.76796</td>\n",
       "      <td>-0.33205</td>\n",
       "      <td>-0.77699</td>\n",
       "      <td>-0.45917</td>\n",
       "      <td>-0.56355</td>\n",
       "      <td>0.67748</td>\n",
       "    </tr>\n",
       "    <tr>\n",
       "      <th>3</th>\n",
       "      <td>Residential</td>\n",
       "      <td>1578</td>\n",
       "      <td>0</td>\n",
       "      <td>0.29595</td>\n",
       "      <td>-0.04120</td>\n",
       "      <td>0.87876</td>\n",
       "      <td>0.79158</td>\n",
       "      <td>0.99836</td>\n",
       "      <td>-0.33205</td>\n",
       "      <td>2.20215</td>\n",
       "      <td>0.20318</td>\n",
       "      <td>-0.56355</td>\n",
       "      <td>0.05751</td>\n",
       "    </tr>\n",
       "    <tr>\n",
       "      <th>4</th>\n",
       "      <td>Residential</td>\n",
       "      <td>30</td>\n",
       "      <td>0</td>\n",
       "      <td>-0.05697</td>\n",
       "      <td>-0.26861</td>\n",
       "      <td>-1.10659</td>\n",
       "      <td>-1.09468</td>\n",
       "      <td>-0.76796</td>\n",
       "      <td>-0.33205</td>\n",
       "      <td>-0.77699</td>\n",
       "      <td>-0.45917</td>\n",
       "      <td>-0.56355</td>\n",
       "      <td>-1.27453</td>\n",
       "    </tr>\n",
       "  </tbody>\n",
       "</table>\n",
       "</div>"
      ],
      "text/plain": [
       "       Category  BillingAmt  HasID  Value_arc  PropertySize_arc  \\\n",
       "0   Residential        2569      1   -0.04576          -0.24391   \n",
       "1   Residential        9065      1    0.51627           0.05717   \n",
       "2  Agricultural         397      0    0.71658           2.54838   \n",
       "3   Residential        1578      0    0.29595          -0.04120   \n",
       "4   Residential          30      0   -0.05697          -0.26861   \n",
       "\n",
       "   CollectedAmt_arc  AverageCollectedAmt_arc  DebtAmt_arc  WriteOffAmt_arc  \\\n",
       "0          -1.10659                 -1.09468      1.46629         -0.33205   \n",
       "1           0.99467                  1.15259     -0.76796         -0.33205   \n",
       "2          -1.10659                 -1.09468     -0.76796         -0.33205   \n",
       "3           0.87876                  0.79158      0.99836         -0.33205   \n",
       "4          -1.10659                 -1.09468     -0.76796         -0.33205   \n",
       "\n",
       "   CollectionRatio_arc  DebtBillingRatio_arc  TotalElectricityBill_arc  \\\n",
       "0             -0.77699               1.26361                  -0.56355   \n",
       "1              0.58797              -0.45917                   1.63256   \n",
       "2             -0.77699              -0.45917                  -0.56355   \n",
       "3              2.20215               0.20318                  -0.56355   \n",
       "4             -0.77699              -0.45917                  -0.56355   \n",
       "\n",
       "   AverageBillingAmt_arc  \n",
       "0                0.22307  \n",
       "1                0.51491  \n",
       "2                0.67748  \n",
       "3                0.05751  \n",
       "4               -1.27453  "
      ]
     },
     "execution_count": 126,
     "metadata": {},
     "output_type": "execute_result"
    }
   ],
   "source": [
    "df_test.head()"
   ]
  },
  {
   "cell_type": "code",
   "execution_count": 127,
   "metadata": {},
   "outputs": [],
   "source": [
    "df_test_dummy= pd.get_dummies(df_test, columns=[\"Category\"],drop_first=True)"
   ]
  },
  {
   "cell_type": "code",
   "execution_count": 128,
   "metadata": {
    "scrolled": false
   },
   "outputs": [
    {
     "data": {
      "text/html": [
       "<div>\n",
       "<style scoped>\n",
       "    .dataframe tbody tr th:only-of-type {\n",
       "        vertical-align: middle;\n",
       "    }\n",
       "\n",
       "    .dataframe tbody tr th {\n",
       "        vertical-align: top;\n",
       "    }\n",
       "\n",
       "    .dataframe thead th {\n",
       "        text-align: right;\n",
       "    }\n",
       "</style>\n",
       "<table border=\"1\" class=\"dataframe\">\n",
       "  <thead>\n",
       "    <tr style=\"text-align: right;\">\n",
       "      <th></th>\n",
       "      <th>BillingAmt</th>\n",
       "      <th>HasID</th>\n",
       "      <th>Value_arc</th>\n",
       "      <th>PropertySize_arc</th>\n",
       "      <th>CollectedAmt_arc</th>\n",
       "      <th>AverageCollectedAmt_arc</th>\n",
       "      <th>DebtAmt_arc</th>\n",
       "      <th>WriteOffAmt_arc</th>\n",
       "      <th>CollectionRatio_arc</th>\n",
       "      <th>DebtBillingRatio_arc</th>\n",
       "      <th>TotalElectricityBill_arc</th>\n",
       "      <th>AverageBillingAmt_arc</th>\n",
       "      <th>Category_Business</th>\n",
       "      <th>Category_Educational</th>\n",
       "      <th>Category_Government</th>\n",
       "      <th>Category_Industry</th>\n",
       "      <th>Category_Infrastructure</th>\n",
       "      <th>Category_Municipal</th>\n",
       "      <th>Category_Place of Worship</th>\n",
       "      <th>Category_Public Benefit</th>\n",
       "      <th>Category_Residential</th>\n",
       "      <th>Category_Unknown</th>\n",
       "    </tr>\n",
       "  </thead>\n",
       "  <tbody>\n",
       "    <tr>\n",
       "      <th>0</th>\n",
       "      <td>2569</td>\n",
       "      <td>1</td>\n",
       "      <td>-0.04576</td>\n",
       "      <td>-0.24391</td>\n",
       "      <td>-1.10659</td>\n",
       "      <td>-1.09468</td>\n",
       "      <td>1.46629</td>\n",
       "      <td>-0.33205</td>\n",
       "      <td>-0.77699</td>\n",
       "      <td>1.26361</td>\n",
       "      <td>-0.56355</td>\n",
       "      <td>0.22307</td>\n",
       "      <td>0</td>\n",
       "      <td>0</td>\n",
       "      <td>0</td>\n",
       "      <td>0</td>\n",
       "      <td>0</td>\n",
       "      <td>0</td>\n",
       "      <td>0</td>\n",
       "      <td>0</td>\n",
       "      <td>1</td>\n",
       "      <td>0</td>\n",
       "    </tr>\n",
       "    <tr>\n",
       "      <th>1</th>\n",
       "      <td>9065</td>\n",
       "      <td>1</td>\n",
       "      <td>0.51627</td>\n",
       "      <td>0.05717</td>\n",
       "      <td>0.99467</td>\n",
       "      <td>1.15259</td>\n",
       "      <td>-0.76796</td>\n",
       "      <td>-0.33205</td>\n",
       "      <td>0.58797</td>\n",
       "      <td>-0.45917</td>\n",
       "      <td>1.63256</td>\n",
       "      <td>0.51491</td>\n",
       "      <td>0</td>\n",
       "      <td>0</td>\n",
       "      <td>0</td>\n",
       "      <td>0</td>\n",
       "      <td>0</td>\n",
       "      <td>0</td>\n",
       "      <td>0</td>\n",
       "      <td>0</td>\n",
       "      <td>1</td>\n",
       "      <td>0</td>\n",
       "    </tr>\n",
       "    <tr>\n",
       "      <th>2</th>\n",
       "      <td>397</td>\n",
       "      <td>0</td>\n",
       "      <td>0.71658</td>\n",
       "      <td>2.54838</td>\n",
       "      <td>-1.10659</td>\n",
       "      <td>-1.09468</td>\n",
       "      <td>-0.76796</td>\n",
       "      <td>-0.33205</td>\n",
       "      <td>-0.77699</td>\n",
       "      <td>-0.45917</td>\n",
       "      <td>-0.56355</td>\n",
       "      <td>0.67748</td>\n",
       "      <td>0</td>\n",
       "      <td>0</td>\n",
       "      <td>0</td>\n",
       "      <td>0</td>\n",
       "      <td>0</td>\n",
       "      <td>0</td>\n",
       "      <td>0</td>\n",
       "      <td>0</td>\n",
       "      <td>0</td>\n",
       "      <td>0</td>\n",
       "    </tr>\n",
       "    <tr>\n",
       "      <th>3</th>\n",
       "      <td>1578</td>\n",
       "      <td>0</td>\n",
       "      <td>0.29595</td>\n",
       "      <td>-0.04120</td>\n",
       "      <td>0.87876</td>\n",
       "      <td>0.79158</td>\n",
       "      <td>0.99836</td>\n",
       "      <td>-0.33205</td>\n",
       "      <td>2.20215</td>\n",
       "      <td>0.20318</td>\n",
       "      <td>-0.56355</td>\n",
       "      <td>0.05751</td>\n",
       "      <td>0</td>\n",
       "      <td>0</td>\n",
       "      <td>0</td>\n",
       "      <td>0</td>\n",
       "      <td>0</td>\n",
       "      <td>0</td>\n",
       "      <td>0</td>\n",
       "      <td>0</td>\n",
       "      <td>1</td>\n",
       "      <td>0</td>\n",
       "    </tr>\n",
       "    <tr>\n",
       "      <th>4</th>\n",
       "      <td>30</td>\n",
       "      <td>0</td>\n",
       "      <td>-0.05697</td>\n",
       "      <td>-0.26861</td>\n",
       "      <td>-1.10659</td>\n",
       "      <td>-1.09468</td>\n",
       "      <td>-0.76796</td>\n",
       "      <td>-0.33205</td>\n",
       "      <td>-0.77699</td>\n",
       "      <td>-0.45917</td>\n",
       "      <td>-0.56355</td>\n",
       "      <td>-1.27453</td>\n",
       "      <td>0</td>\n",
       "      <td>0</td>\n",
       "      <td>0</td>\n",
       "      <td>0</td>\n",
       "      <td>0</td>\n",
       "      <td>0</td>\n",
       "      <td>0</td>\n",
       "      <td>0</td>\n",
       "      <td>1</td>\n",
       "      <td>0</td>\n",
       "    </tr>\n",
       "  </tbody>\n",
       "</table>\n",
       "</div>"
      ],
      "text/plain": [
       "   BillingAmt  HasID  Value_arc  PropertySize_arc  CollectedAmt_arc  \\\n",
       "0        2569      1   -0.04576          -0.24391          -1.10659   \n",
       "1        9065      1    0.51627           0.05717           0.99467   \n",
       "2         397      0    0.71658           2.54838          -1.10659   \n",
       "3        1578      0    0.29595          -0.04120           0.87876   \n",
       "4          30      0   -0.05697          -0.26861          -1.10659   \n",
       "\n",
       "   AverageCollectedAmt_arc  DebtAmt_arc  WriteOffAmt_arc  CollectionRatio_arc  \\\n",
       "0                 -1.09468      1.46629         -0.33205             -0.77699   \n",
       "1                  1.15259     -0.76796         -0.33205              0.58797   \n",
       "2                 -1.09468     -0.76796         -0.33205             -0.77699   \n",
       "3                  0.79158      0.99836         -0.33205              2.20215   \n",
       "4                 -1.09468     -0.76796         -0.33205             -0.77699   \n",
       "\n",
       "   DebtBillingRatio_arc  TotalElectricityBill_arc  AverageBillingAmt_arc  \\\n",
       "0               1.26361                  -0.56355                0.22307   \n",
       "1              -0.45917                   1.63256                0.51491   \n",
       "2              -0.45917                  -0.56355                0.67748   \n",
       "3               0.20318                  -0.56355                0.05751   \n",
       "4              -0.45917                  -0.56355               -1.27453   \n",
       "\n",
       "   Category_Business  Category_Educational  Category_Government  \\\n",
       "0                  0                     0                    0   \n",
       "1                  0                     0                    0   \n",
       "2                  0                     0                    0   \n",
       "3                  0                     0                    0   \n",
       "4                  0                     0                    0   \n",
       "\n",
       "   Category_Industry  Category_Infrastructure  Category_Municipal  \\\n",
       "0                  0                        0                   0   \n",
       "1                  0                        0                   0   \n",
       "2                  0                        0                   0   \n",
       "3                  0                        0                   0   \n",
       "4                  0                        0                   0   \n",
       "\n",
       "   Category_Place of Worship  Category_Public Benefit  Category_Residential  \\\n",
       "0                          0                        0                     1   \n",
       "1                          0                        0                     1   \n",
       "2                          0                        0                     0   \n",
       "3                          0                        0                     1   \n",
       "4                          0                        0                     1   \n",
       "\n",
       "   Category_Unknown  \n",
       "0                 0  \n",
       "1                 0  \n",
       "2                 0  \n",
       "3                 0  \n",
       "4                 0  "
      ]
     },
     "execution_count": 128,
     "metadata": {},
     "output_type": "execute_result"
    }
   ],
   "source": [
    "df_test_dummy.head() #it looks good"
   ]
  },
  {
   "cell_type": "code",
   "execution_count": 129,
   "metadata": {},
   "outputs": [
    {
     "name": "stderr",
     "output_type": "stream",
     "text": [
      "C:\\Users\\kayaf\\anaconda3\\lib\\site-packages\\sklearn\\base.py:493: FutureWarning: The feature names should match those that were passed during fit. Starting version 1.2, an error will be raised.\n",
      "Feature names unseen at fit time:\n",
      "- BillingAmt\n",
      "Feature names seen at fit time, yet now missing:\n",
      "- BillingAmt_arc\n",
      "\n",
      "  warnings.warn(message, FutureWarning)\n"
     ]
    }
   ],
   "source": [
    "df_test_dummy[\"Label\"] = pd.Series(logmodel.predict(df_test_dummy))"
   ]
  },
  {
   "cell_type": "code",
   "execution_count": 130,
   "metadata": {},
   "outputs": [],
   "source": [
    "data_m=df_test_dummy[\"Label\"]"
   ]
  },
  {
   "cell_type": "code",
   "execution_count": 131,
   "metadata": {},
   "outputs": [
    {
     "data": {
      "text/plain": [
       "0     1\n",
       "1     1\n",
       "2     1\n",
       "3     1\n",
       "4     1\n",
       "5     1\n",
       "6     1\n",
       "7     1\n",
       "8     1\n",
       "9     1\n",
       "10    1\n",
       "11    1\n",
       "12    1\n",
       "13    1\n",
       "14    1\n",
       "15    1\n",
       "16    1\n",
       "17    1\n",
       "18    1\n",
       "19    1\n",
       "20    1\n",
       "21    1\n",
       "22    1\n",
       "23    1\n",
       "24    1\n",
       "25    1\n",
       "26    0\n",
       "27    1\n",
       "28    1\n",
       "29    1\n",
       "30    1\n",
       "31    1\n",
       "32    1\n",
       "33    1\n",
       "34    1\n",
       "35    1\n",
       "36    1\n",
       "37    1\n",
       "38    1\n",
       "39    1\n",
       "40    1\n",
       "41    1\n",
       "42    1\n",
       "43    1\n",
       "44    1\n",
       "45    1\n",
       "46    0\n",
       "47    1\n",
       "48    1\n",
       "49    1\n",
       "Name: Label, dtype: int64"
      ]
     },
     "execution_count": 131,
     "metadata": {},
     "output_type": "execute_result"
    }
   ],
   "source": [
    "data_m.head(50)"
   ]
  },
  {
   "cell_type": "code",
   "execution_count": 132,
   "metadata": {},
   "outputs": [],
   "source": [
    "data_id= df_test_raw[\"AccID\"]"
   ]
  },
  {
   "cell_type": "code",
   "execution_count": 133,
   "metadata": {},
   "outputs": [],
   "source": [
    "result = pd.concat([data_id, data_m], axis=1)"
   ]
  },
  {
   "cell_type": "code",
   "execution_count": 134,
   "metadata": {},
   "outputs": [],
   "source": [
    "result.to_csv(\"prediction_test_data4.csv\")"
   ]
  },
  {
   "cell_type": "markdown",
   "metadata": {},
   "source": [
    "Lets improve the model "
   ]
  },
  {
   "cell_type": "code",
   "execution_count": 135,
   "metadata": {},
   "outputs": [
    {
     "ename": "NameError",
     "evalue": "name 'df1x' is not defined",
     "output_type": "error",
     "traceback": [
      "\u001b[1;31m---------------------------------------------------------------------------\u001b[0m",
      "\u001b[1;31mNameError\u001b[0m                                 Traceback (most recent call last)",
      "\u001b[1;32m<ipython-input-135-50bb2f4b4af3>\u001b[0m in \u001b[0;36m<module>\u001b[1;34m\u001b[0m\n\u001b[1;32m----> 1\u001b[1;33m \u001b[0mdf3\u001b[0m\u001b[1;33m=\u001b[0m\u001b[0mdf1x\u001b[0m\u001b[1;33m.\u001b[0m\u001b[0mcopy\u001b[0m\u001b[1;33m(\u001b[0m\u001b[1;33m)\u001b[0m\u001b[1;33m\u001b[0m\u001b[1;33m\u001b[0m\u001b[0m\n\u001b[0m",
      "\u001b[1;31mNameError\u001b[0m: name 'df1x' is not defined"
     ]
    }
   ],
   "source": [
    "df3=df1x.copy()"
   ]
  },
  {
   "cell_type": "markdown",
   "metadata": {},
   "source": [
    "drop the outliers"
   ]
  },
  {
   "cell_type": "code",
   "execution_count": null,
   "metadata": {},
   "outputs": [],
   "source": [
    "df3.columns"
   ]
  },
  {
   "cell_type": "code",
   "execution_count": null,
   "metadata": {},
   "outputs": [],
   "source": [
    "quartiles = np.quantile(df3['Value_arc'][df3['Value_arc'].notnull()], [.25, .75])\n",
    "Value_arc_4iqr = 4 * (quartiles[1] - quartiles[0])\n",
    "outliers_Value_arc = df3.loc[np.abs(df2['Value_arc'] - df3['Value_arc'].median()) > Value_arc_4iqr, 'Value_arc']\n",
    "outliers_Value_arc"
   ]
  },
  {
   "cell_type": "code",
   "execution_count": null,
   "metadata": {},
   "outputs": [],
   "source": [
    "df3.loc[np.abs(df3['Value_arc'] - df3['Value_arc'].median()) > Value_arc_4iqr, 'Value_arc'] = np.nan"
   ]
  },
  {
   "cell_type": "code",
   "execution_count": null,
   "metadata": {},
   "outputs": [],
   "source": [
    "df3[\"Value_arc\"].fillna(df3.Value_arc.median(), inplace=True)"
   ]
  },
  {
   "cell_type": "code",
   "execution_count": null,
   "metadata": {
    "scrolled": true
   },
   "outputs": [],
   "source": [
    "quartiles = np.quantile(df3['PropertySize_arc'][df3['PropertySize_arc'].notnull()], [.25, .75])\n",
    "PropertySize_arc_4iqr = 4 * (quartiles[1] - quartiles[0])\n",
    "outliers_PropertySize_arc = df3.loc[np.abs(df2['PropertySize_arc'] - df3['PropertySize_arc'].median()) > PropertySize_arc_4iqr, 'PropertySize_arc']\n",
    "outliers_PropertySize_arc"
   ]
  },
  {
   "cell_type": "code",
   "execution_count": null,
   "metadata": {},
   "outputs": [],
   "source": [
    "df3.loc[np.abs(df3['PropertySize_arc'] - df3['PropertySize_arc'].median()) > PropertySize_arc_4iqr, 'PropertySize_arc'] = np.nan"
   ]
  },
  {
   "cell_type": "code",
   "execution_count": null,
   "metadata": {},
   "outputs": [],
   "source": [
    "df3[\"PropertySize_arc\"].fillna(df3.PropertySize_arc.median(), inplace=True)"
   ]
  },
  {
   "cell_type": "code",
   "execution_count": null,
   "metadata": {},
   "outputs": [],
   "source": [
    "quartiles = np.quantile(df3['CollectedAmt_arc'][df3['CollectedAmt_arc'].notnull()], [.25, .75])\n",
    "CollectedAmt_arc_4iqr = 4 * (quartiles[1] - quartiles[0])\n",
    "outliers_CollectedAmt_arc = df3.loc[np.abs(df2['CollectedAmt_arc'] - df3['CollectedAmt_arc'].median()) > CollectedAmt_arc_4iqr, 'CollectedAmt_arc']\n",
    "outliers_CollectedAmt_arc"
   ]
  },
  {
   "cell_type": "code",
   "execution_count": null,
   "metadata": {},
   "outputs": [],
   "source": []
  },
  {
   "cell_type": "code",
   "execution_count": null,
   "metadata": {},
   "outputs": [],
   "source": []
  },
  {
   "cell_type": "code",
   "execution_count": null,
   "metadata": {},
   "outputs": [],
   "source": [
    "quartiles = np.quantile(df3['AverageCollectedAmt_arc'][df3['AverageCollectedAmt_arc'].notnull()], [.25, .75])\n",
    "AverageCollectedAmt_arc_4iqr = 4 * (quartiles[1] - quartiles[0])\n",
    "outliers_AverageCollectedAmt_arc = df3.loc[np.abs(df2['AverageCollectedAmt_arc'] - df3['AverageCollectedAmt_arc'].median()) > AverageCollectedAmt_arc_4iqr, 'AverageCollectedAmt_arc']\n",
    "outliers_AverageCollectedAmt_arc"
   ]
  },
  {
   "cell_type": "code",
   "execution_count": null,
   "metadata": {},
   "outputs": [],
   "source": [
    "quartiles = np.quantile(df3['DebtAmt_arc'][df3['DebtAmt_arc'].notnull()], [.25, .75])\n",
    "DebtAmt_arc_4iqr = 4 * (quartiles[1] - quartiles[0])\n",
    "outliers_DebtAmt_arc = df3.loc[np.abs(df2['DebtAmt_arc'] - df3['DebtAmt_arc'].median()) > DebtAmt_arc_4iqr, 'DebtAmt_arc']\n",
    "outliers_DebtAmt_arc"
   ]
  },
  {
   "cell_type": "code",
   "execution_count": null,
   "metadata": {},
   "outputs": [],
   "source": [
    "quartiles = np.quantile(df3['WriteOffAmt_arc'][df3['WriteOffAmt_arc'].notnull()], [.25, .75])\n",
    "WriteOffAmt_arc_4iqr = 4 * (quartiles[1] - quartiles[0])\n",
    "outliers_WriteOffAmt_arc = df3.loc[np.abs(df2['WriteOffAmt_arc'] - df3['WriteOffAmt_arc'].median()) > WriteOffAmt_arc_4iqr, 'WriteOffAmt_arc']\n",
    "outliers_WriteOffAmt_arc"
   ]
  },
  {
   "cell_type": "code",
   "execution_count": null,
   "metadata": {},
   "outputs": [],
   "source": [
    "df3.drop(outliers_WriteOffAmt_arc.index, axis=0, inplace=True)"
   ]
  },
  {
   "cell_type": "code",
   "execution_count": null,
   "metadata": {
    "scrolled": false
   },
   "outputs": [],
   "source": [
    "quartiles = np.quantile(df3['CollectionRatio_arc'][df3['CollectionRatio_arc'].notnull()], [.25, .75])\n",
    "CollectionRatio_arc_4iqr = 4 * (quartiles[1] - quartiles[0])\n",
    "outliers_CollectionRatio_arc = df3.loc[np.abs(df2['CollectionRatio_arc'] - df3['CollectionRatio_arc'].median()) > CollectionRatio_arc_4iqr, 'CollectionRatio_arc']\n",
    "outliers_CollectionRatio_arc"
   ]
  },
  {
   "cell_type": "code",
   "execution_count": null,
   "metadata": {},
   "outputs": [],
   "source": [
    "quartiles = np.quantile(df3['DebtBillingRatio_arc'][df3['DebtBillingRatio_arc'].notnull()], [.25, .75])\n",
    "DebtBillingRatio_arc_4iqr = 4 * (quartiles[1] - quartiles[0])\n",
    "outliers_DebtBillingRatio_arc = df3.loc[np.abs(df2['DebtBillingRatio_arc'] - df3['DebtBillingRatio_arc'].median()) > DebtBillingRatio_arc_4iqr, 'DebtBillingRatio_arc']\n",
    "outliers_DebtBillingRatio_arc"
   ]
  },
  {
   "cell_type": "code",
   "execution_count": null,
   "metadata": {},
   "outputs": [],
   "source": [
    "quartiles = np.quantile(df3['TotalElectricityBill_arc'][df3['TotalElectricityBill_arc'].notnull()], [.25, .75])\n",
    "TotalElectricityBill_arc_4iqr = 4 * (quartiles[1] - quartiles[0])\n",
    "outliers_TotalElectricityBill_arc = df3.loc[np.abs(df2['TotalElectricityBill_arc'] - df3['TotalElectricityBill_arc'].median()) > TotalElectricityBill_arc_4iqr, 'TotalElectricityBill_arc']\n",
    "outliers_TotalElectricityBill_arc"
   ]
  },
  {
   "cell_type": "code",
   "execution_count": null,
   "metadata": {},
   "outputs": [],
   "source": [
    "quartiles = np.quantile(df3['AverageBillingAmt_arc'][df3['AverageBillingAmt_arc'].notnull()], [.25, .75])\n",
    "AverageBillingAmt_arc_4iqr = 4 * (quartiles[1] - quartiles[0])\n",
    "outliers_AverageBillingAmt_arc = df3.loc[np.abs(df2['AverageBillingAmt_arc'] - df3['AverageBillingAmt_arc'].median()) > AverageBillingAmt_arc_4iqr, 'AverageBillingAmt_arc']\n",
    "outliers_AverageBillingAmt_arc"
   ]
  },
  {
   "cell_type": "code",
   "execution_count": null,
   "metadata": {},
   "outputs": [],
   "source": [
    "df3.shape"
   ]
  },
  {
   "cell_type": "code",
   "execution_count": null,
   "metadata": {},
   "outputs": [],
   "source": [
    "X = df3.drop([\"Label\"], axis=1)\n",
    "\n",
    "Y = df3[\"Label\"]\n",
    "\n",
    "X = pd.get_dummies(X, columns=[\"Category\"], drop_first=True)\n",
    "\n",
    "# Splitting data in train and test sets\n",
    "X_train, X_test, y_train, y_test = train_test_split(\n",
    "    X, Y, test_size=0.30, random_state=1\n",
    ")"
   ]
  },
  {
   "cell_type": "code",
   "execution_count": null,
   "metadata": {},
   "outputs": [],
   "source": [
    "print(\"Shape of Training set : \", X_train.shape)\n",
    "print(\"Shape of test set : \", X_test.shape)\n",
    "print(\"Percentage of classes in training set:\")\n",
    "print(y_train.value_counts(normalize=True))\n",
    "print(\"Percentage of classes in test set:\")\n",
    "print(y_test.value_counts(normalize=True))"
   ]
  },
  {
   "cell_type": "code",
   "execution_count": null,
   "metadata": {},
   "outputs": [],
   "source": [
    "log = LogisticRegression(solver=\"newton-cg\", random_state=1)\n",
    "logmodel2 = log.fit(X_train, y_train)"
   ]
  },
  {
   "cell_type": "code",
   "execution_count": null,
   "metadata": {},
   "outputs": [],
   "source": [
    "confusion_matrix_sklearn_with_threshold(logmodel2, X_train, y_train)"
   ]
  },
  {
   "cell_type": "code",
   "execution_count": null,
   "metadata": {},
   "outputs": [],
   "source": [
    "model_performance_classification_sklearn_with_threshold(\n",
    "    logmodel2, X_train, y_train\n",
    ")"
   ]
  },
  {
   "cell_type": "code",
   "execution_count": null,
   "metadata": {},
   "outputs": [],
   "source": [
    "model_performance_classification_sklearn_with_threshold(\n",
    "    logmodel2, X_test, y_test\n",
    ")"
   ]
  },
  {
   "cell_type": "code",
   "execution_count": null,
   "metadata": {},
   "outputs": [],
   "source": [
    "model_performance_classification_sklearn_with_threshold(\n",
    "    logmodel2, X_train, y_train, threshold=0.2\n",
    ")"
   ]
  },
  {
   "cell_type": "code",
   "execution_count": null,
   "metadata": {},
   "outputs": [],
   "source": [
    "model_performance_classification_sklearn_with_threshold(\n",
    "    logmodel2, X_test, y_test, threshold=0.2\n",
    ")"
   ]
  },
  {
   "cell_type": "code",
   "execution_count": null,
   "metadata": {
    "scrolled": true
   },
   "outputs": [],
   "source": [
    "df_test_dummy.head()"
   ]
  },
  {
   "cell_type": "code",
   "execution_count": null,
   "metadata": {},
   "outputs": [],
   "source": [
    "df4=df1.copy"
   ]
  },
  {
   "cell_type": "code",
   "execution_count": null,
   "metadata": {},
   "outputs": [],
   "source": [
    "X = df3.drop([\"Label\"], axis=1)\n",
    "\n",
    "Y = df3[\"Label\"]\n",
    "\n",
    "X = pd.get_dummies(X, columns=[\"Category\"], drop_first=True)\n",
    "\n",
    "# Splitting data in train and test sets\n",
    "X_train, X_test, y_train, y_test = train_test_split(\n",
    "    X, Y, test_size=0.30, random_state=1\n",
    ")"
   ]
  },
  {
   "cell_type": "code",
   "execution_count": null,
   "metadata": {},
   "outputs": [],
   "source": [
    "from sklearn.ensemble import BaggingClassifier\n",
    "bagging_wt = BaggingClassifier(base_estimator=LogisticRegression(solver=\"newton-cg\",random_state=1),random_state=1)\n",
    "bagging_wt.fit(X_train,y_train)"
   ]
  },
  {
   "cell_type": "code",
   "execution_count": null,
   "metadata": {},
   "outputs": [],
   "source": [
    "model_performance_classification_sklearn_with_threshold(\n",
    "    bagging_wt, X_train, y_train\n",
    ")"
   ]
  },
  {
   "cell_type": "code",
   "execution_count": null,
   "metadata": {},
   "outputs": [],
   "source": [
    "model_performance_classification_sklearn_with_threshold(\n",
    "    bagging_wt, X_test, y_test\n",
    ")"
   ]
  },
  {
   "cell_type": "code",
   "execution_count": null,
   "metadata": {},
   "outputs": [],
   "source": [
    "from sklearn.ensemble import AdaBoostClassifier, GradientBoostingClassifier"
   ]
  },
  {
   "cell_type": "code",
   "execution_count": null,
   "metadata": {},
   "outputs": [],
   "source": [
    "ab_classifier = AdaBoostClassifier(base_estimator=LogisticRegression(solver=\"newton-cg\",random_state=1, ), random_state=1)\n",
    "ab_classifier.fit(X_train,y_train)\n"
   ]
  },
  {
   "cell_type": "code",
   "execution_count": null,
   "metadata": {},
   "outputs": [],
   "source": [
    "model_performance_classification_sklearn_with_threshold(\n",
    "    ab_classifier, X_train, y_train\n",
    ")"
   ]
  },
  {
   "cell_type": "code",
   "execution_count": null,
   "metadata": {},
   "outputs": [],
   "source": [
    "model_performance_classification_sklearn_with_threshold(\n",
    "    ab_classifier, X_test, y_test\n",
    ")"
   ]
  },
  {
   "cell_type": "code",
   "execution_count": null,
   "metadata": {},
   "outputs": [],
   "source": []
  },
  {
   "cell_type": "code",
   "execution_count": null,
   "metadata": {},
   "outputs": [],
   "source": [
    "gb_classifier = GradientBoostingClassifier(random_state=1)\n",
    "gb_classifier.fit(X_train,y_train)"
   ]
  },
  {
   "cell_type": "code",
   "execution_count": null,
   "metadata": {},
   "outputs": [],
   "source": [
    "model_performance_classification_sklearn_with_threshold(\n",
    "    gb_classifier, X_train, y_train)"
   ]
  },
  {
   "cell_type": "code",
   "execution_count": null,
   "metadata": {},
   "outputs": [],
   "source": [
    "model_performance_classification_sklearn_with_threshold(\n",
    "    gb_classifier, X_test, y_test)\n"
   ]
  },
  {
   "cell_type": "code",
   "execution_count": null,
   "metadata": {},
   "outputs": [],
   "source": []
  }
 ],
 "metadata": {
  "kernelspec": {
   "display_name": "Python 3",
   "language": "python",
   "name": "python3"
  },
  "language_info": {
   "codemirror_mode": {
    "name": "ipython",
    "version": 3
   },
   "file_extension": ".py",
   "mimetype": "text/x-python",
   "name": "python",
   "nbconvert_exporter": "python",
   "pygments_lexer": "ipython3",
   "version": "3.8.3"
  }
 },
 "nbformat": 4,
 "nbformat_minor": 4
}
